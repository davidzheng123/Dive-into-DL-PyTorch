{
  "cells": [
    {
      "cell_type": "code",
      "execution_count": 41,
      "metadata": {
        "cellView": "form",
        "id": "nQc5HkvYTYTc"
      },
      "outputs": [],
      "source": [
        "#@markdown Setup dependencies (Colab only)\n",
        "%%capture\n",
        "try:\n",
        "    import papyrus_scripts\n",
        "except:\n",
        "    !pip uninstall papyrus-scripts -y\n",
        "    !pip install rdkit-pypi\n",
        "    !pip install https://github.com/OlivierBeq/Papyrus-scripts/tarball/master --no-cache-dir\n",
        "    get_ipython().kernel.do_shutdown(True)"
      ]
    },
    {
      "cell_type": "markdown",
      "metadata": {
        "id": "gRvE8vDB9rQU"
      },
      "source": [
        "# Simple examples: Using Papyrus scripts"
      ]
    },
    {
      "cell_type": "markdown",
      "metadata": {
        "id": "J_J-i5Ea9rQY"
      },
      "source": [
        "[![Open In Colab](https://colab.research.google.com/assets/colab-badge.svg)](https://colab.research.google.com/github/OlivierBeq/Papyrus-scripts/blob/master/notebook_examples/simple_examples.ipynb)"
      ]
    },
    {
      "cell_type": "markdown",
      "metadata": {
        "id": "14He9HKN9rQZ"
      },
      "source": [
        "Herein it is assumed that the Papyrus <a href=\"https://doi.org/10.4121/16896406\">bioactivity data</a> hosted on 4TU or Google Drive was ***NOT*** dowloaded."
      ]
    },
    {
      "cell_type": "code",
      "execution_count": 42,
      "metadata": {
        "colab": {
          "base_uri": "https://localhost:8080/",
          "height": 17
        },
        "id": "FHctK0tO9rQZ",
        "outputId": "3357f490-b52e-425d-d5db-96725defc43e"
      },
      "outputs": [
        {
          "output_type": "display_data",
          "data": {
            "text/plain": [
              "<IPython.core.display.HTML object>"
            ],
            "text/html": [
              "<style>\n",
              "table {align:left;display:block}\n",
              "</style>\n"
            ]
          },
          "metadata": {}
        }
      ],
      "source": [
        "%%html\n",
        "<style>\n",
        "table {align:left;display:block}\n",
        "</style>"
      ]
    },
    {
      "cell_type": "markdown",
      "metadata": {
        "id": "dnTWIh6d9rQb"
      },
      "source": [
        "## Download the data"
      ]
    },
    {
      "cell_type": "markdown",
      "metadata": {
        "id": "3aE-Itji1iBq"
      },
      "source": [
        "\n",
        "One can easily download (part of) the Papyrus data using *papyrus* command (*download* subcommand).<br/>\n",
        "```\n",
        "papyrus download --version latest -s without -S -d mold2 -d unirep\n",
        "```\n",
        "\n"
      ]
    },
    {
      "cell_type": "markdown",
      "metadata": {
        "id": "Edy4UaWa9rQc"
      },
      "source": [
        "It can also be carried out programatically with the following."
      ]
    },
    {
      "cell_type": "code",
      "execution_count": 43,
      "metadata": {
        "id": "RUo6SlTh9rQd"
      },
      "outputs": [],
      "source": [
        "from papyrus_scripts.download import download_papyrus"
      ]
    },
    {
      "cell_type": "markdown",
      "metadata": {
        "id": "bD_NAzgX9rQe"
      },
      "source": [
        "The default behaviour is to:\n",
        "- download the curated 2D data (*nostereo* argument)\n",
        "- omit the not curated 3D data (*stereo*)\n",
        "- omit molecular structures (*structures*)\n",
        "- download all molecular/sequence descriptors (*descriptors*)\n",
        "\n",
        "Let's download the 2D curated data with molecular structures and only descriptors used below (total of 2.80 GB)."
      ]
    },
    {
      "cell_type": "code",
      "execution_count": 44,
      "metadata": {
        "colab": {
          "base_uri": "https://localhost:8080/",
          "height": 192,
          "referenced_widgets": [
            "fa89f46f1bf84328810e2509cac59a67",
            "cdee56e016b849cfa8caef2c089c6bfd",
            "c678960d917b416b920f91caba1d00c2",
            "a54e8bee7d2549fbab70f51521e6ad3e",
            "346f7153bd314df2a43c0f9302d9ede9",
            "74a7845bbf5e49d99c8792bde696a78b",
            "c2da829092a64d3ea7238f3e134df5cd",
            "88aa632987304eafb4ad3c1214b4fbca",
            "32ffd6bfff5842f0952e960cd4b27bf3",
            "0ddddbee098c4e9ea92231c4520db989",
            "8022713681a24bf6ab1c252b49a0ac9e"
          ]
        },
        "id": "uVwOfn2v9rQf",
        "outputId": "343657c4-96cb-43f2-c7b5-c448936546d8"
      },
      "outputs": [
        {
          "output_type": "stream",
          "name": "stdout",
          "text": [
            "Latest version: 05.7\n",
            "########## DISCLAIMER ##########\n",
            "You are downloading the high-quality Papyrus++ dataset.\n",
            "Should you want to access the entire, though of lower quality, Papyrus dataset,\n",
            "look into additional switches of this command.\n",
            "################################\n",
            "Number of files to be downloaded: 7\n",
            "Total size: 2.26GB\n"
          ]
        },
        {
          "output_type": "display_data",
          "data": {
            "text/plain": [
              "Downloading version 05.7:   0%|          | 0.00/2.26G [00:00<?, ?B/s]"
            ],
            "application/vnd.jupyter.widget-view+json": {
              "version_major": 2,
              "version_minor": 0,
              "model_id": "fa89f46f1bf84328810e2509cac59a67"
            }
          },
          "metadata": {}
        }
      ],
      "source": [
        "download_papyrus(version='latest', structures=True, descriptors=['mold2', 'unirep'])"
      ]
    },
    {
      "cell_type": "markdown",
      "metadata": {
        "id": "m8_Lqdtu9rQf"
      },
      "source": [
        "At the time of writing (Apr. 26th, 2022) the latest version available is 05.5.\n",
        "\n",
        "A custom directory to donwload the data to can be indicated with the *outdir* argument."
      ]
    },
    {
      "cell_type": "markdown",
      "metadata": {
        "id": "1av7sy399rQg"
      },
      "source": [
        "## Reading Papyrus files"
      ]
    },
    {
      "cell_type": "markdown",
      "metadata": {
        "id": "dM2lhXdc9rQg"
      },
      "source": [
        "Functions can be found under *papyrus_scripts.reader* to facilitate the dataset being read from disk."
      ]
    },
    {
      "cell_type": "code",
      "execution_count": 45,
      "metadata": {
        "id": "YXrCZZQm9rQg"
      },
      "outputs": [],
      "source": [
        "from papyrus_scripts.reader import read_papyrus, read_protein_set"
      ]
    },
    {
      "cell_type": "markdown",
      "metadata": {
        "id": "7-oyiKxA9rQg"
      },
      "source": [
        "### Bioactivity data"
      ]
    },
    {
      "cell_type": "markdown",
      "metadata": {
        "id": "1H_7hcDJ9rQh"
      },
      "source": [
        "Let's first read the bioactivity data."
      ]
    },
    {
      "cell_type": "markdown",
      "metadata": {
        "id": "Se6T4rNX9rQh"
      },
      "source": [
        "We will use the *read_papyrus* function to read the bioactivity data as a pandas dataframe. <br/>\n",
        "Let us first demonstrate the use of the function on systems with limited RAM (less than 50GB)."
      ]
    },
    {
      "cell_type": "markdown",
      "metadata": {
        "id": "PcwzKYa59rQh"
      },
      "source": [
        "We first ensure to read the standardized data without stereochemistry in chunks of ten thousand lines.<br/>\n",
        "Additionally we ensure the *source_path* is that given to the *download_papyrus* function above through the *outdir* argument."
      ]
    },
    {
      "cell_type": "code",
      "execution_count": 46,
      "metadata": {
        "id": "G2jD8IY59rQi"
      },
      "outputs": [],
      "source": [
        "sample_data = read_papyrus(is3d=False, chunksize=10000, source_path=None)"
      ]
    },
    {
      "cell_type": "markdown",
      "metadata": {
        "id": "8iEgKew09rQi"
      },
      "source": [
        "The return value is an iterator of Pandas dataframes of maximum ten thousand rows each.<br/>\n",
        "Let's extract the first chunk as a pandas dataframe and have a look at few rows."
      ]
    },
    {
      "cell_type": "code",
      "execution_count": 47,
      "metadata": {
        "colab": {
          "base_uri": "https://localhost:8080/",
          "height": 0
        },
        "id": "9LSVDOdk9rQi",
        "outputId": "c15cf557-a2c2-47ee-f424-b9c05a4fc29e"
      },
      "outputs": [
        {
          "output_type": "execute_result",
          "data": {
            "text/plain": [
              "                   Activity_ID Quality      source  \\\n",
              "0  AAAAEENPAALFRN_on_P49654_WT    High    ChEMBL34   \n",
              "1  AAAAZQPHATYWOK_on_P00533_WT    High    ChEMBL34   \n",
              "2  AAAAZQPHATYWOK_on_P04626_WT    High    ChEMBL34   \n",
              "3  AAACBXVBBDAYRQ_on_Q5S007_WT    High    ChEMBL34   \n",
              "4  AAACGYYPWMUUFL_on_O75116_WT    High  Sharma2016   \n",
              "\n",
              "                                               CID  \\\n",
              "0                              ChEMBL:CHEMBL492934   \n",
              "1  ChEMBL:CHEMBL175513;Sharma2016.compound.4277046   \n",
              "2                              ChEMBL:CHEMBL175513   \n",
              "3                             ChEMBL:CHEMBL4067228   \n",
              "4                     Sharma2016.compound.10060010   \n",
              "\n",
              "                                              SMILES    connectivity  \\\n",
              "0      COc1cc(C(C)C)c(Oc2cnc(NCCS(C)(=O)=O)nc2N)cc1I  AAAAEENPAALFRN   \n",
              "1  CCOc1cc2ncc(C#N)c(Nc3ccc(OCc4nc5ccccc5s4)c(Cl)...  AAAAZQPHATYWOK   \n",
              "2  CCOc1cc2ncc(C#N)c(Nc3ccc(OCc4nc5ccccc5s4)c(Cl)...  AAAAZQPHATYWOK   \n",
              "3               O=C(Nc1cccnc1)c1cc(Cl)ccc1OCc1ccccc1  AAACBXVBBDAYRQ   \n",
              "4  COC(=O)CC(NC(=O)c1ccc(-c2cn[nH]c2)c(C)c1)c1ccccc1  AAACGYYPWMUUFL   \n",
              "\n",
              "                      InChIKey  \\\n",
              "0  AAAAEENPAALFRN-UHFFFAOYSA-N   \n",
              "1  AAAAZQPHATYWOK-UHFFFAOYSA-N   \n",
              "2  AAAAZQPHATYWOK-UHFFFAOYSA-N   \n",
              "3  AAACBXVBBDAYRQ-UHFFFAOYSA-N   \n",
              "4  AAACGYYPWMUUFL-UHFFFAOYSA-N   \n",
              "\n",
              "                                               InChI  \\\n",
              "0  InChI=1S/C17H23IN4O4S/c1-10(2)11-7-14(25-3)12(...   \n",
              "1  InChI=1S/C32H29ClN6O3S/c1-4-41-28-16-25-22(15-...   \n",
              "2  InChI=1S/C32H29ClN6O3S/c1-4-41-28-16-25-22(15-...   \n",
              "3  InChI=1S/C19H15ClN2O2/c20-15-8-9-18(24-13-14-5...   \n",
              "4  InChI=1S/C21H21N3O3/c1-14-10-16(8-9-18(14)17-1...   \n",
              "\n",
              "                                       InChI_AuxInfo  target_id  ...  \\\n",
              "0  AuxInfo=1/1/N:7,8,1,19,16,17,4,25,12,6,5,26,9,...  P49654_WT  ...   \n",
              "1  AuxInfo=1/1/N:1,42,43,2,24,25,39,23,26,38,15,1...  P00533_WT  ...   \n",
              "2  AuxInfo=1/1/N:1,42,43,2,24,25,39,23,26,38,15,1...  P04626_WT  ...   \n",
              "3  AuxInfo=1/1/N:22,21,23,6,20,24,5,14,15,7,11,9,...  Q5S007_WT  ...   \n",
              "4  AuxInfo=1/1/N:20,1,25,24,26,23,27,11,12,21,5,1...  O75116_WT  ...   \n",
              "\n",
              "  type_other Activity_class relation pchembl_value pchembl_value_Mean  \\\n",
              "0        NaN            NaN        =           7.8              7.800   \n",
              "1        NaN            NaN        =    6.73;6.726              6.728   \n",
              "2        NaN            NaN        =          7.19              7.190   \n",
              "3        NaN            NaN        =           7.8              7.800   \n",
              "4        NaN            NaN        =         7.154              7.154   \n",
              "\n",
              "   pchembl_value_StdDev pchembl_value_SEM pchembl_value_N  \\\n",
              "0              0.000000             0.000             1.0   \n",
              "1              0.002828             0.002             2.0   \n",
              "2              0.000000             0.000             1.0   \n",
              "3              0.000000             0.000             1.0   \n",
              "4              0.000000             0.000             1.0   \n",
              "\n",
              "  pchembl_value_Median pchembl_value_MAD  \n",
              "0                7.800             0.000  \n",
              "1                6.728             0.002  \n",
              "2                7.190             0.000  \n",
              "3                7.800             0.000  \n",
              "4                7.154             0.000  \n",
              "\n",
              "[5 rows x 32 columns]"
            ],
            "text/html": [
              "\n",
              "  <div id=\"df-921689cf-7a76-4019-9b87-7d64b082fa69\" class=\"colab-df-container\">\n",
              "    <div>\n",
              "<style scoped>\n",
              "    .dataframe tbody tr th:only-of-type {\n",
              "        vertical-align: middle;\n",
              "    }\n",
              "\n",
              "    .dataframe tbody tr th {\n",
              "        vertical-align: top;\n",
              "    }\n",
              "\n",
              "    .dataframe thead th {\n",
              "        text-align: right;\n",
              "    }\n",
              "</style>\n",
              "<table border=\"1\" class=\"dataframe\">\n",
              "  <thead>\n",
              "    <tr style=\"text-align: right;\">\n",
              "      <th></th>\n",
              "      <th>Activity_ID</th>\n",
              "      <th>Quality</th>\n",
              "      <th>source</th>\n",
              "      <th>CID</th>\n",
              "      <th>SMILES</th>\n",
              "      <th>connectivity</th>\n",
              "      <th>InChIKey</th>\n",
              "      <th>InChI</th>\n",
              "      <th>InChI_AuxInfo</th>\n",
              "      <th>target_id</th>\n",
              "      <th>...</th>\n",
              "      <th>type_other</th>\n",
              "      <th>Activity_class</th>\n",
              "      <th>relation</th>\n",
              "      <th>pchembl_value</th>\n",
              "      <th>pchembl_value_Mean</th>\n",
              "      <th>pchembl_value_StdDev</th>\n",
              "      <th>pchembl_value_SEM</th>\n",
              "      <th>pchembl_value_N</th>\n",
              "      <th>pchembl_value_Median</th>\n",
              "      <th>pchembl_value_MAD</th>\n",
              "    </tr>\n",
              "  </thead>\n",
              "  <tbody>\n",
              "    <tr>\n",
              "      <th>0</th>\n",
              "      <td>AAAAEENPAALFRN_on_P49654_WT</td>\n",
              "      <td>High</td>\n",
              "      <td>ChEMBL34</td>\n",
              "      <td>ChEMBL:CHEMBL492934</td>\n",
              "      <td>COc1cc(C(C)C)c(Oc2cnc(NCCS(C)(=O)=O)nc2N)cc1I</td>\n",
              "      <td>AAAAEENPAALFRN</td>\n",
              "      <td>AAAAEENPAALFRN-UHFFFAOYSA-N</td>\n",
              "      <td>InChI=1S/C17H23IN4O4S/c1-10(2)11-7-14(25-3)12(...</td>\n",
              "      <td>AuxInfo=1/1/N:7,8,1,19,16,17,4,25,12,6,5,26,9,...</td>\n",
              "      <td>P49654_WT</td>\n",
              "      <td>...</td>\n",
              "      <td>NaN</td>\n",
              "      <td>NaN</td>\n",
              "      <td>=</td>\n",
              "      <td>7.8</td>\n",
              "      <td>7.800</td>\n",
              "      <td>0.000000</td>\n",
              "      <td>0.000</td>\n",
              "      <td>1.0</td>\n",
              "      <td>7.800</td>\n",
              "      <td>0.000</td>\n",
              "    </tr>\n",
              "    <tr>\n",
              "      <th>1</th>\n",
              "      <td>AAAAZQPHATYWOK_on_P00533_WT</td>\n",
              "      <td>High</td>\n",
              "      <td>ChEMBL34</td>\n",
              "      <td>ChEMBL:CHEMBL175513;Sharma2016.compound.4277046</td>\n",
              "      <td>CCOc1cc2ncc(C#N)c(Nc3ccc(OCc4nc5ccccc5s4)c(Cl)...</td>\n",
              "      <td>AAAAZQPHATYWOK</td>\n",
              "      <td>AAAAZQPHATYWOK-UHFFFAOYSA-N</td>\n",
              "      <td>InChI=1S/C32H29ClN6O3S/c1-4-41-28-16-25-22(15-...</td>\n",
              "      <td>AuxInfo=1/1/N:1,42,43,2,24,25,39,23,26,38,15,1...</td>\n",
              "      <td>P00533_WT</td>\n",
              "      <td>...</td>\n",
              "      <td>NaN</td>\n",
              "      <td>NaN</td>\n",
              "      <td>=</td>\n",
              "      <td>6.73;6.726</td>\n",
              "      <td>6.728</td>\n",
              "      <td>0.002828</td>\n",
              "      <td>0.002</td>\n",
              "      <td>2.0</td>\n",
              "      <td>6.728</td>\n",
              "      <td>0.002</td>\n",
              "    </tr>\n",
              "    <tr>\n",
              "      <th>2</th>\n",
              "      <td>AAAAZQPHATYWOK_on_P04626_WT</td>\n",
              "      <td>High</td>\n",
              "      <td>ChEMBL34</td>\n",
              "      <td>ChEMBL:CHEMBL175513</td>\n",
              "      <td>CCOc1cc2ncc(C#N)c(Nc3ccc(OCc4nc5ccccc5s4)c(Cl)...</td>\n",
              "      <td>AAAAZQPHATYWOK</td>\n",
              "      <td>AAAAZQPHATYWOK-UHFFFAOYSA-N</td>\n",
              "      <td>InChI=1S/C32H29ClN6O3S/c1-4-41-28-16-25-22(15-...</td>\n",
              "      <td>AuxInfo=1/1/N:1,42,43,2,24,25,39,23,26,38,15,1...</td>\n",
              "      <td>P04626_WT</td>\n",
              "      <td>...</td>\n",
              "      <td>NaN</td>\n",
              "      <td>NaN</td>\n",
              "      <td>=</td>\n",
              "      <td>7.19</td>\n",
              "      <td>7.190</td>\n",
              "      <td>0.000000</td>\n",
              "      <td>0.000</td>\n",
              "      <td>1.0</td>\n",
              "      <td>7.190</td>\n",
              "      <td>0.000</td>\n",
              "    </tr>\n",
              "    <tr>\n",
              "      <th>3</th>\n",
              "      <td>AAACBXVBBDAYRQ_on_Q5S007_WT</td>\n",
              "      <td>High</td>\n",
              "      <td>ChEMBL34</td>\n",
              "      <td>ChEMBL:CHEMBL4067228</td>\n",
              "      <td>O=C(Nc1cccnc1)c1cc(Cl)ccc1OCc1ccccc1</td>\n",
              "      <td>AAACBXVBBDAYRQ</td>\n",
              "      <td>AAACBXVBBDAYRQ-UHFFFAOYSA-N</td>\n",
              "      <td>InChI=1S/C19H15ClN2O2/c20-15-8-9-18(24-13-14-5...</td>\n",
              "      <td>AuxInfo=1/1/N:22,21,23,6,20,24,5,14,15,7,11,9,...</td>\n",
              "      <td>Q5S007_WT</td>\n",
              "      <td>...</td>\n",
              "      <td>NaN</td>\n",
              "      <td>NaN</td>\n",
              "      <td>=</td>\n",
              "      <td>7.8</td>\n",
              "      <td>7.800</td>\n",
              "      <td>0.000000</td>\n",
              "      <td>0.000</td>\n",
              "      <td>1.0</td>\n",
              "      <td>7.800</td>\n",
              "      <td>0.000</td>\n",
              "    </tr>\n",
              "    <tr>\n",
              "      <th>4</th>\n",
              "      <td>AAACGYYPWMUUFL_on_O75116_WT</td>\n",
              "      <td>High</td>\n",
              "      <td>Sharma2016</td>\n",
              "      <td>Sharma2016.compound.10060010</td>\n",
              "      <td>COC(=O)CC(NC(=O)c1ccc(-c2cn[nH]c2)c(C)c1)c1ccccc1</td>\n",
              "      <td>AAACGYYPWMUUFL</td>\n",
              "      <td>AAACGYYPWMUUFL-UHFFFAOYSA-N</td>\n",
              "      <td>InChI=1S/C21H21N3O3/c1-14-10-16(8-9-18(14)17-1...</td>\n",
              "      <td>AuxInfo=1/1/N:20,1,25,24,26,23,27,11,12,21,5,1...</td>\n",
              "      <td>O75116_WT</td>\n",
              "      <td>...</td>\n",
              "      <td>NaN</td>\n",
              "      <td>NaN</td>\n",
              "      <td>=</td>\n",
              "      <td>7.154</td>\n",
              "      <td>7.154</td>\n",
              "      <td>0.000000</td>\n",
              "      <td>0.000</td>\n",
              "      <td>1.0</td>\n",
              "      <td>7.154</td>\n",
              "      <td>0.000</td>\n",
              "    </tr>\n",
              "  </tbody>\n",
              "</table>\n",
              "<p>5 rows × 32 columns</p>\n",
              "</div>\n",
              "    <div class=\"colab-df-buttons\">\n",
              "\n",
              "  <div class=\"colab-df-container\">\n",
              "    <button class=\"colab-df-convert\" onclick=\"convertToInteractive('df-921689cf-7a76-4019-9b87-7d64b082fa69')\"\n",
              "            title=\"Convert this dataframe to an interactive table.\"\n",
              "            style=\"display:none;\">\n",
              "\n",
              "  <svg xmlns=\"http://www.w3.org/2000/svg\" height=\"24px\" viewBox=\"0 -960 960 960\">\n",
              "    <path d=\"M120-120v-720h720v720H120Zm60-500h600v-160H180v160Zm220 220h160v-160H400v160Zm0 220h160v-160H400v160ZM180-400h160v-160H180v160Zm440 0h160v-160H620v160ZM180-180h160v-160H180v160Zm440 0h160v-160H620v160Z\"/>\n",
              "  </svg>\n",
              "    </button>\n",
              "\n",
              "  <style>\n",
              "    .colab-df-container {\n",
              "      display:flex;\n",
              "      gap: 12px;\n",
              "    }\n",
              "\n",
              "    .colab-df-convert {\n",
              "      background-color: #E8F0FE;\n",
              "      border: none;\n",
              "      border-radius: 50%;\n",
              "      cursor: pointer;\n",
              "      display: none;\n",
              "      fill: #1967D2;\n",
              "      height: 32px;\n",
              "      padding: 0 0 0 0;\n",
              "      width: 32px;\n",
              "    }\n",
              "\n",
              "    .colab-df-convert:hover {\n",
              "      background-color: #E2EBFA;\n",
              "      box-shadow: 0px 1px 2px rgba(60, 64, 67, 0.3), 0px 1px 3px 1px rgba(60, 64, 67, 0.15);\n",
              "      fill: #174EA6;\n",
              "    }\n",
              "\n",
              "    .colab-df-buttons div {\n",
              "      margin-bottom: 4px;\n",
              "    }\n",
              "\n",
              "    [theme=dark] .colab-df-convert {\n",
              "      background-color: #3B4455;\n",
              "      fill: #D2E3FC;\n",
              "    }\n",
              "\n",
              "    [theme=dark] .colab-df-convert:hover {\n",
              "      background-color: #434B5C;\n",
              "      box-shadow: 0px 1px 3px 1px rgba(0, 0, 0, 0.15);\n",
              "      filter: drop-shadow(0px 1px 2px rgba(0, 0, 0, 0.3));\n",
              "      fill: #FFFFFF;\n",
              "    }\n",
              "  </style>\n",
              "\n",
              "    <script>\n",
              "      const buttonEl =\n",
              "        document.querySelector('#df-921689cf-7a76-4019-9b87-7d64b082fa69 button.colab-df-convert');\n",
              "      buttonEl.style.display =\n",
              "        google.colab.kernel.accessAllowed ? 'block' : 'none';\n",
              "\n",
              "      async function convertToInteractive(key) {\n",
              "        const element = document.querySelector('#df-921689cf-7a76-4019-9b87-7d64b082fa69');\n",
              "        const dataTable =\n",
              "          await google.colab.kernel.invokeFunction('convertToInteractive',\n",
              "                                                    [key], {});\n",
              "        if (!dataTable) return;\n",
              "\n",
              "        const docLinkHtml = 'Like what you see? Visit the ' +\n",
              "          '<a target=\"_blank\" href=https://colab.research.google.com/notebooks/data_table.ipynb>data table notebook</a>'\n",
              "          + ' to learn more about interactive tables.';\n",
              "        element.innerHTML = '';\n",
              "        dataTable['output_type'] = 'display_data';\n",
              "        await google.colab.output.renderOutput(dataTable, element);\n",
              "        const docLink = document.createElement('div');\n",
              "        docLink.innerHTML = docLinkHtml;\n",
              "        element.appendChild(docLink);\n",
              "      }\n",
              "    </script>\n",
              "  </div>\n",
              "\n",
              "\n",
              "<div id=\"df-fa949d3b-ec6d-4d0d-9b5b-839b4d2e4d9b\">\n",
              "  <button class=\"colab-df-quickchart\" onclick=\"quickchart('df-fa949d3b-ec6d-4d0d-9b5b-839b4d2e4d9b')\"\n",
              "            title=\"Suggest charts\"\n",
              "            style=\"display:none;\">\n",
              "\n",
              "<svg xmlns=\"http://www.w3.org/2000/svg\" height=\"24px\"viewBox=\"0 0 24 24\"\n",
              "     width=\"24px\">\n",
              "    <g>\n",
              "        <path d=\"M19 3H5c-1.1 0-2 .9-2 2v14c0 1.1.9 2 2 2h14c1.1 0 2-.9 2-2V5c0-1.1-.9-2-2-2zM9 17H7v-7h2v7zm4 0h-2V7h2v10zm4 0h-2v-4h2v4z\"/>\n",
              "    </g>\n",
              "</svg>\n",
              "  </button>\n",
              "\n",
              "<style>\n",
              "  .colab-df-quickchart {\n",
              "      --bg-color: #E8F0FE;\n",
              "      --fill-color: #1967D2;\n",
              "      --hover-bg-color: #E2EBFA;\n",
              "      --hover-fill-color: #174EA6;\n",
              "      --disabled-fill-color: #AAA;\n",
              "      --disabled-bg-color: #DDD;\n",
              "  }\n",
              "\n",
              "  [theme=dark] .colab-df-quickchart {\n",
              "      --bg-color: #3B4455;\n",
              "      --fill-color: #D2E3FC;\n",
              "      --hover-bg-color: #434B5C;\n",
              "      --hover-fill-color: #FFFFFF;\n",
              "      --disabled-bg-color: #3B4455;\n",
              "      --disabled-fill-color: #666;\n",
              "  }\n",
              "\n",
              "  .colab-df-quickchart {\n",
              "    background-color: var(--bg-color);\n",
              "    border: none;\n",
              "    border-radius: 50%;\n",
              "    cursor: pointer;\n",
              "    display: none;\n",
              "    fill: var(--fill-color);\n",
              "    height: 32px;\n",
              "    padding: 0;\n",
              "    width: 32px;\n",
              "  }\n",
              "\n",
              "  .colab-df-quickchart:hover {\n",
              "    background-color: var(--hover-bg-color);\n",
              "    box-shadow: 0 1px 2px rgba(60, 64, 67, 0.3), 0 1px 3px 1px rgba(60, 64, 67, 0.15);\n",
              "    fill: var(--button-hover-fill-color);\n",
              "  }\n",
              "\n",
              "  .colab-df-quickchart-complete:disabled,\n",
              "  .colab-df-quickchart-complete:disabled:hover {\n",
              "    background-color: var(--disabled-bg-color);\n",
              "    fill: var(--disabled-fill-color);\n",
              "    box-shadow: none;\n",
              "  }\n",
              "\n",
              "  .colab-df-spinner {\n",
              "    border: 2px solid var(--fill-color);\n",
              "    border-color: transparent;\n",
              "    border-bottom-color: var(--fill-color);\n",
              "    animation:\n",
              "      spin 1s steps(1) infinite;\n",
              "  }\n",
              "\n",
              "  @keyframes spin {\n",
              "    0% {\n",
              "      border-color: transparent;\n",
              "      border-bottom-color: var(--fill-color);\n",
              "      border-left-color: var(--fill-color);\n",
              "    }\n",
              "    20% {\n",
              "      border-color: transparent;\n",
              "      border-left-color: var(--fill-color);\n",
              "      border-top-color: var(--fill-color);\n",
              "    }\n",
              "    30% {\n",
              "      border-color: transparent;\n",
              "      border-left-color: var(--fill-color);\n",
              "      border-top-color: var(--fill-color);\n",
              "      border-right-color: var(--fill-color);\n",
              "    }\n",
              "    40% {\n",
              "      border-color: transparent;\n",
              "      border-right-color: var(--fill-color);\n",
              "      border-top-color: var(--fill-color);\n",
              "    }\n",
              "    60% {\n",
              "      border-color: transparent;\n",
              "      border-right-color: var(--fill-color);\n",
              "    }\n",
              "    80% {\n",
              "      border-color: transparent;\n",
              "      border-right-color: var(--fill-color);\n",
              "      border-bottom-color: var(--fill-color);\n",
              "    }\n",
              "    90% {\n",
              "      border-color: transparent;\n",
              "      border-bottom-color: var(--fill-color);\n",
              "    }\n",
              "  }\n",
              "</style>\n",
              "\n",
              "  <script>\n",
              "    async function quickchart(key) {\n",
              "      const quickchartButtonEl =\n",
              "        document.querySelector('#' + key + ' button');\n",
              "      quickchartButtonEl.disabled = true;  // To prevent multiple clicks.\n",
              "      quickchartButtonEl.classList.add('colab-df-spinner');\n",
              "      try {\n",
              "        const charts = await google.colab.kernel.invokeFunction(\n",
              "            'suggestCharts', [key], {});\n",
              "      } catch (error) {\n",
              "        console.error('Error during call to suggestCharts:', error);\n",
              "      }\n",
              "      quickchartButtonEl.classList.remove('colab-df-spinner');\n",
              "      quickchartButtonEl.classList.add('colab-df-quickchart-complete');\n",
              "    }\n",
              "    (() => {\n",
              "      let quickchartButtonEl =\n",
              "        document.querySelector('#df-fa949d3b-ec6d-4d0d-9b5b-839b4d2e4d9b button');\n",
              "      quickchartButtonEl.style.display =\n",
              "        google.colab.kernel.accessAllowed ? 'block' : 'none';\n",
              "    })();\n",
              "  </script>\n",
              "</div>\n",
              "    </div>\n",
              "  </div>\n"
            ],
            "application/vnd.google.colaboratory.intrinsic+json": {
              "type": "dataframe",
              "variable_name": "chunk1"
            }
          },
          "metadata": {},
          "execution_count": 47
        }
      ],
      "source": [
        "chunk1 = next(sample_data)\n",
        "chunk1.head()"
      ]
    },
    {
      "cell_type": "markdown",
      "metadata": {
        "id": "EWtXuCpa9rQj"
      },
      "source": [
        "If you are sure your hardware can handle loading all the data, then you can drop *chunksize*.<br/>\n",
        "Then the return value is a pandas dataframe."
      ]
    },
    {
      "cell_type": "markdown",
      "metadata": {
        "id": "SlWPDV_T9rQj"
      },
      "source": [
        "Below, we will show how to use:\n",
        "  - a pandas dataframe (by calling our methods on *chunk1*)\n",
        "  - an iterator of pandas dataframes (by calling our methods on *sample_data*)"
      ]
    },
    {
      "cell_type": "markdown",
      "metadata": {
        "id": "dHnbcLOi9rQj"
      },
      "source": [
        "### Protein target data"
      ]
    },
    {
      "cell_type": "markdown",
      "metadata": {
        "id": "slf1KpA99rQj"
      },
      "source": [
        "But for now let's focus on protein data:<br/>\n",
        "Information about the protein targets is available from a different file and can be loaded as easily as was demonstrated above.<br/>\n",
        "This file being very limited in size, chunking is not needed."
      ]
    },
    {
      "cell_type": "code",
      "execution_count": 48,
      "metadata": {
        "colab": {
          "base_uri": "https://localhost:8080/",
          "height": 0
        },
        "id": "wIaY8vQN9rQk",
        "outputId": "7075cdac-b580-4328-b581-bd9b4e56e86d"
      },
      "outputs": [
        {
          "output_type": "execute_result",
          "data": {
            "text/plain": [
              "   target_id     UniProtID      Status                      Organism  \\\n",
              "0  P47747_WT    HRH2_CAVPO    reviewed  Cavia porcellus (Guinea pig)   \n",
              "1  B0FL73_WT  B0FL73_CAVPO  unreviewed  Cavia porcellus (Guinea pig)   \n",
              "2  Q8K4Z4_WT   ADRB2_CAVPO    reviewed  Cavia porcellus (Guinea pig)   \n",
              "3  P97266_WT    OPRM_CAVPO    reviewed  Cavia porcellus (Guinea pig)   \n",
              "4  P41144_WT    OPRK_CAVPO    reviewed  Cavia porcellus (Guinea pig)   \n",
              "\n",
              "                                      Classification  Length  \\\n",
              "0  Membrane receptor->Family A G protein-coupled ...     359   \n",
              "1  Membrane receptor->Family A G protein-coupled ...     467   \n",
              "2  Membrane receptor->Family A G protein-coupled ...     418   \n",
              "3  Membrane receptor->Family A G protein-coupled ...      98   \n",
              "4  Membrane receptor->Family A G protein-coupled ...     380   \n",
              "\n",
              "                                            Sequence  \\\n",
              "0  MAFNGTVPSFCMDFTVYKVTISVILIILILVTVAGNVVVCLAVGLN...   \n",
              "1  MGAGVLALGASEPCNLSSTAPLPDGAATAARLLVPASPPASLLPPT...   \n",
              "2  MGHLGNGSDFLLAPNASHAPDHNVTRERDEAWVVGMAIVMSLIVLA...   \n",
              "3  YTKMKTATNIYIFNLALADALATSTLPFQSVNYLMGTWPFGTILCK...   \n",
              "4  MGRRRQGPAQPASELPARNACLLPNGSAWLPGWAEPDGNGSAGPQD...   \n",
              "\n",
              "                                      TID  \n",
              "0                       ChEMBL:CHEMBL2882  \n",
              "1                       ChEMBL:CHEMBL5471  \n",
              "2                       ChEMBL:CHEMBL5414  \n",
              "3  ChEMBL:CHEMBL4354;ChEMBL:CHEMBL2111465  \n",
              "4  ChEMBL:CHEMBL3952;ChEMBL:CHEMBL2111465  "
            ],
            "text/html": [
              "\n",
              "  <div id=\"df-5640c10f-d4d6-4958-aac7-600085ccf63e\" class=\"colab-df-container\">\n",
              "    <div>\n",
              "<style scoped>\n",
              "    .dataframe tbody tr th:only-of-type {\n",
              "        vertical-align: middle;\n",
              "    }\n",
              "\n",
              "    .dataframe tbody tr th {\n",
              "        vertical-align: top;\n",
              "    }\n",
              "\n",
              "    .dataframe thead th {\n",
              "        text-align: right;\n",
              "    }\n",
              "</style>\n",
              "<table border=\"1\" class=\"dataframe\">\n",
              "  <thead>\n",
              "    <tr style=\"text-align: right;\">\n",
              "      <th></th>\n",
              "      <th>target_id</th>\n",
              "      <th>UniProtID</th>\n",
              "      <th>Status</th>\n",
              "      <th>Organism</th>\n",
              "      <th>Classification</th>\n",
              "      <th>Length</th>\n",
              "      <th>Sequence</th>\n",
              "      <th>TID</th>\n",
              "    </tr>\n",
              "  </thead>\n",
              "  <tbody>\n",
              "    <tr>\n",
              "      <th>0</th>\n",
              "      <td>P47747_WT</td>\n",
              "      <td>HRH2_CAVPO</td>\n",
              "      <td>reviewed</td>\n",
              "      <td>Cavia porcellus (Guinea pig)</td>\n",
              "      <td>Membrane receptor-&gt;Family A G protein-coupled ...</td>\n",
              "      <td>359</td>\n",
              "      <td>MAFNGTVPSFCMDFTVYKVTISVILIILILVTVAGNVVVCLAVGLN...</td>\n",
              "      <td>ChEMBL:CHEMBL2882</td>\n",
              "    </tr>\n",
              "    <tr>\n",
              "      <th>1</th>\n",
              "      <td>B0FL73_WT</td>\n",
              "      <td>B0FL73_CAVPO</td>\n",
              "      <td>unreviewed</td>\n",
              "      <td>Cavia porcellus (Guinea pig)</td>\n",
              "      <td>Membrane receptor-&gt;Family A G protein-coupled ...</td>\n",
              "      <td>467</td>\n",
              "      <td>MGAGVLALGASEPCNLSSTAPLPDGAATAARLLVPASPPASLLPPT...</td>\n",
              "      <td>ChEMBL:CHEMBL5471</td>\n",
              "    </tr>\n",
              "    <tr>\n",
              "      <th>2</th>\n",
              "      <td>Q8K4Z4_WT</td>\n",
              "      <td>ADRB2_CAVPO</td>\n",
              "      <td>reviewed</td>\n",
              "      <td>Cavia porcellus (Guinea pig)</td>\n",
              "      <td>Membrane receptor-&gt;Family A G protein-coupled ...</td>\n",
              "      <td>418</td>\n",
              "      <td>MGHLGNGSDFLLAPNASHAPDHNVTRERDEAWVVGMAIVMSLIVLA...</td>\n",
              "      <td>ChEMBL:CHEMBL5414</td>\n",
              "    </tr>\n",
              "    <tr>\n",
              "      <th>3</th>\n",
              "      <td>P97266_WT</td>\n",
              "      <td>OPRM_CAVPO</td>\n",
              "      <td>reviewed</td>\n",
              "      <td>Cavia porcellus (Guinea pig)</td>\n",
              "      <td>Membrane receptor-&gt;Family A G protein-coupled ...</td>\n",
              "      <td>98</td>\n",
              "      <td>YTKMKTATNIYIFNLALADALATSTLPFQSVNYLMGTWPFGTILCK...</td>\n",
              "      <td>ChEMBL:CHEMBL4354;ChEMBL:CHEMBL2111465</td>\n",
              "    </tr>\n",
              "    <tr>\n",
              "      <th>4</th>\n",
              "      <td>P41144_WT</td>\n",
              "      <td>OPRK_CAVPO</td>\n",
              "      <td>reviewed</td>\n",
              "      <td>Cavia porcellus (Guinea pig)</td>\n",
              "      <td>Membrane receptor-&gt;Family A G protein-coupled ...</td>\n",
              "      <td>380</td>\n",
              "      <td>MGRRRQGPAQPASELPARNACLLPNGSAWLPGWAEPDGNGSAGPQD...</td>\n",
              "      <td>ChEMBL:CHEMBL3952;ChEMBL:CHEMBL2111465</td>\n",
              "    </tr>\n",
              "  </tbody>\n",
              "</table>\n",
              "</div>\n",
              "    <div class=\"colab-df-buttons\">\n",
              "\n",
              "  <div class=\"colab-df-container\">\n",
              "    <button class=\"colab-df-convert\" onclick=\"convertToInteractive('df-5640c10f-d4d6-4958-aac7-600085ccf63e')\"\n",
              "            title=\"Convert this dataframe to an interactive table.\"\n",
              "            style=\"display:none;\">\n",
              "\n",
              "  <svg xmlns=\"http://www.w3.org/2000/svg\" height=\"24px\" viewBox=\"0 -960 960 960\">\n",
              "    <path d=\"M120-120v-720h720v720H120Zm60-500h600v-160H180v160Zm220 220h160v-160H400v160Zm0 220h160v-160H400v160ZM180-400h160v-160H180v160Zm440 0h160v-160H620v160ZM180-180h160v-160H180v160Zm440 0h160v-160H620v160Z\"/>\n",
              "  </svg>\n",
              "    </button>\n",
              "\n",
              "  <style>\n",
              "    .colab-df-container {\n",
              "      display:flex;\n",
              "      gap: 12px;\n",
              "    }\n",
              "\n",
              "    .colab-df-convert {\n",
              "      background-color: #E8F0FE;\n",
              "      border: none;\n",
              "      border-radius: 50%;\n",
              "      cursor: pointer;\n",
              "      display: none;\n",
              "      fill: #1967D2;\n",
              "      height: 32px;\n",
              "      padding: 0 0 0 0;\n",
              "      width: 32px;\n",
              "    }\n",
              "\n",
              "    .colab-df-convert:hover {\n",
              "      background-color: #E2EBFA;\n",
              "      box-shadow: 0px 1px 2px rgba(60, 64, 67, 0.3), 0px 1px 3px 1px rgba(60, 64, 67, 0.15);\n",
              "      fill: #174EA6;\n",
              "    }\n",
              "\n",
              "    .colab-df-buttons div {\n",
              "      margin-bottom: 4px;\n",
              "    }\n",
              "\n",
              "    [theme=dark] .colab-df-convert {\n",
              "      background-color: #3B4455;\n",
              "      fill: #D2E3FC;\n",
              "    }\n",
              "\n",
              "    [theme=dark] .colab-df-convert:hover {\n",
              "      background-color: #434B5C;\n",
              "      box-shadow: 0px 1px 3px 1px rgba(0, 0, 0, 0.15);\n",
              "      filter: drop-shadow(0px 1px 2px rgba(0, 0, 0, 0.3));\n",
              "      fill: #FFFFFF;\n",
              "    }\n",
              "  </style>\n",
              "\n",
              "    <script>\n",
              "      const buttonEl =\n",
              "        document.querySelector('#df-5640c10f-d4d6-4958-aac7-600085ccf63e button.colab-df-convert');\n",
              "      buttonEl.style.display =\n",
              "        google.colab.kernel.accessAllowed ? 'block' : 'none';\n",
              "\n",
              "      async function convertToInteractive(key) {\n",
              "        const element = document.querySelector('#df-5640c10f-d4d6-4958-aac7-600085ccf63e');\n",
              "        const dataTable =\n",
              "          await google.colab.kernel.invokeFunction('convertToInteractive',\n",
              "                                                    [key], {});\n",
              "        if (!dataTable) return;\n",
              "\n",
              "        const docLinkHtml = 'Like what you see? Visit the ' +\n",
              "          '<a target=\"_blank\" href=https://colab.research.google.com/notebooks/data_table.ipynb>data table notebook</a>'\n",
              "          + ' to learn more about interactive tables.';\n",
              "        element.innerHTML = '';\n",
              "        dataTable['output_type'] = 'display_data';\n",
              "        await google.colab.output.renderOutput(dataTable, element);\n",
              "        const docLink = document.createElement('div');\n",
              "        docLink.innerHTML = docLinkHtml;\n",
              "        element.appendChild(docLink);\n",
              "      }\n",
              "    </script>\n",
              "  </div>\n",
              "\n",
              "\n",
              "<div id=\"df-0f1bcf6b-e668-4f47-96c3-39c69fbb2348\">\n",
              "  <button class=\"colab-df-quickchart\" onclick=\"quickchart('df-0f1bcf6b-e668-4f47-96c3-39c69fbb2348')\"\n",
              "            title=\"Suggest charts\"\n",
              "            style=\"display:none;\">\n",
              "\n",
              "<svg xmlns=\"http://www.w3.org/2000/svg\" height=\"24px\"viewBox=\"0 0 24 24\"\n",
              "     width=\"24px\">\n",
              "    <g>\n",
              "        <path d=\"M19 3H5c-1.1 0-2 .9-2 2v14c0 1.1.9 2 2 2h14c1.1 0 2-.9 2-2V5c0-1.1-.9-2-2-2zM9 17H7v-7h2v7zm4 0h-2V7h2v10zm4 0h-2v-4h2v4z\"/>\n",
              "    </g>\n",
              "</svg>\n",
              "  </button>\n",
              "\n",
              "<style>\n",
              "  .colab-df-quickchart {\n",
              "      --bg-color: #E8F0FE;\n",
              "      --fill-color: #1967D2;\n",
              "      --hover-bg-color: #E2EBFA;\n",
              "      --hover-fill-color: #174EA6;\n",
              "      --disabled-fill-color: #AAA;\n",
              "      --disabled-bg-color: #DDD;\n",
              "  }\n",
              "\n",
              "  [theme=dark] .colab-df-quickchart {\n",
              "      --bg-color: #3B4455;\n",
              "      --fill-color: #D2E3FC;\n",
              "      --hover-bg-color: #434B5C;\n",
              "      --hover-fill-color: #FFFFFF;\n",
              "      --disabled-bg-color: #3B4455;\n",
              "      --disabled-fill-color: #666;\n",
              "  }\n",
              "\n",
              "  .colab-df-quickchart {\n",
              "    background-color: var(--bg-color);\n",
              "    border: none;\n",
              "    border-radius: 50%;\n",
              "    cursor: pointer;\n",
              "    display: none;\n",
              "    fill: var(--fill-color);\n",
              "    height: 32px;\n",
              "    padding: 0;\n",
              "    width: 32px;\n",
              "  }\n",
              "\n",
              "  .colab-df-quickchart:hover {\n",
              "    background-color: var(--hover-bg-color);\n",
              "    box-shadow: 0 1px 2px rgba(60, 64, 67, 0.3), 0 1px 3px 1px rgba(60, 64, 67, 0.15);\n",
              "    fill: var(--button-hover-fill-color);\n",
              "  }\n",
              "\n",
              "  .colab-df-quickchart-complete:disabled,\n",
              "  .colab-df-quickchart-complete:disabled:hover {\n",
              "    background-color: var(--disabled-bg-color);\n",
              "    fill: var(--disabled-fill-color);\n",
              "    box-shadow: none;\n",
              "  }\n",
              "\n",
              "  .colab-df-spinner {\n",
              "    border: 2px solid var(--fill-color);\n",
              "    border-color: transparent;\n",
              "    border-bottom-color: var(--fill-color);\n",
              "    animation:\n",
              "      spin 1s steps(1) infinite;\n",
              "  }\n",
              "\n",
              "  @keyframes spin {\n",
              "    0% {\n",
              "      border-color: transparent;\n",
              "      border-bottom-color: var(--fill-color);\n",
              "      border-left-color: var(--fill-color);\n",
              "    }\n",
              "    20% {\n",
              "      border-color: transparent;\n",
              "      border-left-color: var(--fill-color);\n",
              "      border-top-color: var(--fill-color);\n",
              "    }\n",
              "    30% {\n",
              "      border-color: transparent;\n",
              "      border-left-color: var(--fill-color);\n",
              "      border-top-color: var(--fill-color);\n",
              "      border-right-color: var(--fill-color);\n",
              "    }\n",
              "    40% {\n",
              "      border-color: transparent;\n",
              "      border-right-color: var(--fill-color);\n",
              "      border-top-color: var(--fill-color);\n",
              "    }\n",
              "    60% {\n",
              "      border-color: transparent;\n",
              "      border-right-color: var(--fill-color);\n",
              "    }\n",
              "    80% {\n",
              "      border-color: transparent;\n",
              "      border-right-color: var(--fill-color);\n",
              "      border-bottom-color: var(--fill-color);\n",
              "    }\n",
              "    90% {\n",
              "      border-color: transparent;\n",
              "      border-bottom-color: var(--fill-color);\n",
              "    }\n",
              "  }\n",
              "</style>\n",
              "\n",
              "  <script>\n",
              "    async function quickchart(key) {\n",
              "      const quickchartButtonEl =\n",
              "        document.querySelector('#' + key + ' button');\n",
              "      quickchartButtonEl.disabled = true;  // To prevent multiple clicks.\n",
              "      quickchartButtonEl.classList.add('colab-df-spinner');\n",
              "      try {\n",
              "        const charts = await google.colab.kernel.invokeFunction(\n",
              "            'suggestCharts', [key], {});\n",
              "      } catch (error) {\n",
              "        console.error('Error during call to suggestCharts:', error);\n",
              "      }\n",
              "      quickchartButtonEl.classList.remove('colab-df-spinner');\n",
              "      quickchartButtonEl.classList.add('colab-df-quickchart-complete');\n",
              "    }\n",
              "    (() => {\n",
              "      let quickchartButtonEl =\n",
              "        document.querySelector('#df-0f1bcf6b-e668-4f47-96c3-39c69fbb2348 button');\n",
              "      quickchartButtonEl.style.display =\n",
              "        google.colab.kernel.accessAllowed ? 'block' : 'none';\n",
              "    })();\n",
              "  </script>\n",
              "</div>\n",
              "    </div>\n",
              "  </div>\n"
            ],
            "application/vnd.google.colaboratory.intrinsic+json": {
              "type": "dataframe",
              "variable_name": "protein_data",
              "summary": "{\n  \"name\": \"protein_data\",\n  \"rows\": 7327,\n  \"fields\": [\n    {\n      \"column\": \"target_id\",\n      \"properties\": {\n        \"dtype\": \"string\",\n        \"num_unique_values\": 7327,\n        \"samples\": [\n          \"Q8K0H1_WT\",\n          \"Q9Y3R4_WT\",\n          \"Q12834_WT\"\n        ],\n        \"semantic_type\": \"\",\n        \"description\": \"\"\n      }\n    },\n    {\n      \"column\": \"UniProtID\",\n      \"properties\": {\n        \"dtype\": \"string\",\n        \"num_unique_values\": 7265,\n        \"samples\": [\n          \"MRCKA_HUMAN\",\n          \"GSDMD_HUMAN\",\n          \"RL19A_YEAST\"\n        ],\n        \"semantic_type\": \"\",\n        \"description\": \"\"\n      }\n    },\n    {\n      \"column\": \"Status\",\n      \"properties\": {\n        \"dtype\": \"category\",\n        \"num_unique_values\": 3,\n        \"samples\": [\n          \"reviewed\",\n          \"unreviewed\",\n          \"\"\n        ],\n        \"semantic_type\": \"\",\n        \"description\": \"\"\n      }\n    },\n    {\n      \"column\": \"Organism\",\n      \"properties\": {\n        \"dtype\": \"category\",\n        \"num_unique_values\": 492,\n        \"samples\": [\n          \"Morganella morganii (Proteus morganii)\",\n          \"Cryptosporidium parvum\",\n          \"Salmonella typhi\"\n        ],\n        \"semantic_type\": \"\",\n        \"description\": \"\"\n      }\n    },\n    {\n      \"column\": \"Classification\",\n      \"properties\": {\n        \"dtype\": \"category\",\n        \"num_unique_values\": 607,\n        \"samples\": [\n          \"Enzyme->Cytochrome P450->Cytochrome P450 family 8->Cytochrome P450 family 8A->Cytochrome P450 8A1\",\n          \"Epigenetic regulator->Writer->DNA methyltransferase\",\n          \"Transcription factor->Nuclear receptor->Nuclear hormone receptor subfamily 1->Nuclear hormone receptor subfamily 1 group C->Nuclear hormone receptor subfamily 1 group C member 1\"\n        ],\n        \"semantic_type\": \"\",\n        \"description\": \"\"\n      }\n    },\n    {\n      \"column\": \"Length\",\n      \"properties\": {\n        \"dtype\": \"number\",\n        \"std\": 518,\n        \"min\": 0,\n        \"max\": 7096,\n        \"num_unique_values\": 1498,\n        \"samples\": [\n          932,\n          2696,\n          1499\n        ],\n        \"semantic_type\": \"\",\n        \"description\": \"\"\n      }\n    },\n    {\n      \"column\": \"Sequence\",\n      \"properties\": {\n        \"dtype\": \"string\",\n        \"num_unique_values\": 7257,\n        \"samples\": [\n          \"MTTTAEKTDRPGKPGSSDTSGRVVRVTGPVVDVEFPRGSIPELFNALHAEITFESLAKTLTLEVAQHLGDNLVRTISLQPTDGLVRGVEVIDTGRSISVPVGEGVKGHVFNALGDCLDEPGYGEKFEHWSIHRKPPAFEELEPRTEMLETGLKVVDLLTPYVRGGKIALFGGAGVGKTVLIQEMINRIARNFGGTSVFAGVGERTREGNDLWVELAEANVLKDTALVFGQMDEPPGTRMRVALSALTMAEWFRDEQGQDVLLFIDNIFRFTQAGSEVSTLLGRMPSAVGYQPTLADEMGELQERITSTRGRSITSMQAVYVPADDYTDPAPATTFAHLDATTELSRAVFSKGIFPAVDPLASSSTILDPSVVGDEHYRVAQEVIRILQRYKDLQDIIAILGIDELSEEDKQLVNRARRIERFLSQNMMAAEQFTGQPGSTVPVKETIEAFDRLCKGDFDHVPEQAFFLIGGLDDLAKKAESLGAKL\",\n          \"MTPLLLLAVLCLGTALATPKFDQTFNAQWHQWKSTHRRLYGTNEEEWRRAVWEKNMRMIQLHNGEYSNGKHGFTMEMNAFGDMTNEEFRQIVNGYRHQKHKKGRLFQEPLMLQIPKTVDWREKGCVTPVKNQGQCGSCWAFSASGCLEGQMFLKTGKLISLSEQNLVDCSHDQGNQGCNGGLMDFAFQYIKENGGLDSEESYPYEAKDGSCKYRAEYAVANDTGFVDIPQQEKALMKAVATVGPISVAMDASHPSLQFYSSGIYYEPNCSSKDLDHGVLVVGYGYEGTDSNKDKYWLVKNSWGKEWGMDGYIKIAKDRNNHCGLATAASYPIVN\",\n          \"MSAPPVLRPPSPLLPVAAAAAAAAAALVPGSGPGPAPFLAPVAAPVGGISFHLQIGLSREPVLLLQDSSGDYSLAHVREMACSIVDQKFPECGFYGMYDKILLFRHDPTSENILQLVKAASDIQEGDLIEVVLSASATFEDFQIRPHALFVHSYRAPAFCDHCGEMLWGLVRQGLKCEGCGLNYHKRCAFKIPNNCSGVRRRRLSNVSLTGVSTIRTSSAELSTSAPDEPLLQKSPSESFIGREKRSNSQSYIGRPIHLDKILMSKVKVPHTFVIHSYTRPTVCQYCKKLLKGLFRQGLQCKDCRFNCHKRCAPKVPNNCLGEVTINGDLLSPGAESDVVMEEGSDDNDSERNSGLMDDMEEAMVQDAEMAMAECQNDSGEMQDPDPDHEDANRTISPSTSNNIPLMRVVQSVKHTKRKSSTVMKEGWMVHYTSKDTLRKRHYWRLDSKCITLFQNDTGSRYYKEIPLSEILSLEPVKTSALIPNGANPHCFEITTANVVYYVGENVVNPSSPSPNNSVLTSGVGADVARMWEIAIQHALMPVIPKGSSVGTGTNLHRDISVSISVSNCQIQENVDISTVYQIFPDEVLGSGQFGIVYGGKHRKTGRDVAIKIIDKLRFPTKQESQLRNEVAILQNLHHPGVVNLECMFETPERVFVVMEKLHGDMLEMILSSEKGRLPEHITKFLITQILVALRHLHFKNIVHCDLKPENVLLASADPFPQVKLCDFGFARIIGEKSFRRSVVGTPAYLAPEVLRNKGYNRSLDMWSVGVIIYVSLSGTFPFNEDEDIHDQIQNAAFMYPPNPWKEISHEAIDLINNLLQVKMRKRYSVDKTLSHPWLQDYQTWLDLRELECKIGERYITHESDDLRWEKYAGEQGLQYPTHLINPSASHSDTPETEETEMKALGERVSIL\"\n        ],\n        \"semantic_type\": \"\",\n        \"description\": \"\"\n      }\n    },\n    {\n      \"column\": \"TID\",\n      \"properties\": {\n        \"dtype\": \"string\",\n        \"num_unique_values\": 6827,\n        \"samples\": [\n          \"ChEMBL:CHEMBL3430886\",\n          \"ChEMBL:CHEMBL4105824\",\n          \"ChEMBL:CHEMBL3872;EntrezID:12768\"\n        ],\n        \"semantic_type\": \"\",\n        \"description\": \"\"\n      }\n    }\n  ]\n}"
            }
          },
          "metadata": {},
          "execution_count": 48
        }
      ],
      "source": [
        "protein_data = read_protein_set(source_path=None)\n",
        "protein_data.head()"
      ]
    },
    {
      "cell_type": "markdown",
      "metadata": {
        "id": "b5mDv25Q9rQk"
      },
      "source": [
        "## Filtering Papyrus"
      ]
    },
    {
      "cell_type": "markdown",
      "metadata": {
        "id": "6rtoPuWB9rQk"
      },
      "source": [
        "The data contained in the dataset can be filtered very easily using functions under *papyrus_scripts.preprocess*.<br/>\n",
        "All filtering functions start with ***keep_***."
      ]
    },
    {
      "cell_type": "code",
      "execution_count": 49,
      "metadata": {
        "id": "mYiV9FIX9rQk"
      },
      "outputs": [],
      "source": [
        "from papyrus_scripts.preprocess import (keep_quality, keep_source, keep_type,\n",
        "                                        keep_organism, keep_accession, keep_protein_class,\n",
        "                                        keep_match, keep_contains\n",
        "                                       )"
      ]
    },
    {
      "cell_type": "markdown",
      "metadata": {
        "id": "RA_RHu_W9rQl"
      },
      "source": [
        "**The strength of the Papyrus scripts is that the data can be filtered whether chunked or not.** The only difference:\n",
        "  - when using chunked data, call *consume_chunks* once all filters are applied to reconstiture a pandas dataframe"
      ]
    },
    {
      "cell_type": "markdown",
      "metadata": {
        "id": "Rd4tEYkrz0W3"
      },
      "source": [
        "In addition to the 8 **keep_** functions above, one can filter compounds similar to a reference using the *keep_similar* and *keep_substructures* functions (see [advanced_querying.ipynb](https://github.com/OlivierBeq/Papyrus-scripts/blob/master/notebook_examples/advanced_querying.ipynb))."
      ]
    },
    {
      "cell_type": "markdown",
      "metadata": {
        "id": "8koFdnjI9rQl"
      },
      "source": [
        "### Filtering pandas dataframes"
      ]
    },
    {
      "cell_type": "markdown",
      "metadata": {
        "id": "M5_EoOSh9rQl"
      },
      "source": [
        "Let's first keep the data with quality 'medium' and above (namely 'high' and 'medium')."
      ]
    },
    {
      "cell_type": "code",
      "execution_count": 50,
      "metadata": {
        "id": "pNH6_Ldc9rQl"
      },
      "outputs": [],
      "source": [
        "filter1 = keep_quality(data=chunk1, min_quality='medium')"
      ]
    },
    {
      "cell_type": "markdown",
      "metadata": {
        "id": "AxyBFclr9rQl"
      },
      "source": [
        "<u>Using <a href=\"https://www.ebi.ac.uk/chembl/visualise/\">ChEMBL's protein target tree</a> is encouraged for this part.</u><br/>\n",
        "<br/>\n",
        "We will then filter out any protein not belonging to these two classes:\n",
        "* Ligand-gated ion channels\n",
        "* SLC superfamily of solute carriers"
      ]
    },
    {
      "cell_type": "markdown",
      "metadata": {
        "id": "btjMrph69rQl"
      },
      "source": [
        "For this filter, passing protein information is required (the same applies for *keep_organism* and *keep_accession*)."
      ]
    },
    {
      "cell_type": "code",
      "execution_count": 51,
      "metadata": {
        "id": "yJ_Xe9Kb9rQm"
      },
      "outputs": [],
      "source": [
        "filter2 = keep_protein_class(data=filter1, protein_data=protein_data, classes=[{'l2': 'Ligand-gated ion channels'}, {'l3': 'SLC superfamily of solute carriers'}])"
      ]
    },
    {
      "cell_type": "markdown",
      "metadata": {
        "id": "9_e-S5wk9rQm"
      },
      "source": [
        "We now keep only K<sub>i</sub> and K<sub>D</sub> data.<br/>\n",
        "Here we will pass filter1 to the next *keep_* funtion."
      ]
    },
    {
      "cell_type": "code",
      "execution_count": 52,
      "metadata": {
        "id": "jTvGYL7e9rQm"
      },
      "outputs": [],
      "source": [
        "filter3 = keep_type(data=filter2, activity_types=['Ki', 'KD'], njobs=1)"
      ]
    },
    {
      "cell_type": "markdown",
      "metadata": {
        "id": "sopsHJtw9rQm"
      },
      "source": [
        "We finally keep only human and rat data (protein information is also required here)."
      ]
    },
    {
      "cell_type": "code",
      "execution_count": 53,
      "metadata": {
        "id": "ZBH3pntU9rQm"
      },
      "outputs": [],
      "source": [
        "filter4 = keep_organism(data=filter3, protein_data=protein_data, organism=['Human', 'Rat'], generic_regex=True)"
      ]
    },
    {
      "cell_type": "markdown",
      "metadata": {
        "id": "Rwf9kFSt9rQn"
      },
      "source": [
        "Let us have a look at the filtered data."
      ]
    },
    {
      "cell_type": "code",
      "execution_count": 54,
      "metadata": {
        "colab": {
          "base_uri": "https://localhost:8080/",
          "height": 0
        },
        "id": "jUl1wDul9rQn",
        "outputId": "f0c9555c-1dd3-4721-d046-54d6878a5dc9"
      },
      "outputs": [
        {
          "output_type": "execute_result",
          "data": {
            "text/plain": [
              "                   Activity_ID Quality    source                   CID  \\\n",
              "0  AAEKULYONKUBOZ_on_P23977_WT    High  ChEMBL34    ChEMBL:CHEMBL14144   \n",
              "1  AAEKULYONKUBOZ_on_P31645_WT    High  ChEMBL34    ChEMBL:CHEMBL14144   \n",
              "2  AAEKULYONKUBOZ_on_Q9WTR4_WT    High  ChEMBL34    ChEMBL:CHEMBL14144   \n",
              "3  AAHLCKVWZXFMPB_on_P23975_WT    High  ChEMBL34  ChEMBL:CHEMBL3323101   \n",
              "4  AAHLCKVWZXFMPB_on_P31645_WT    High  ChEMBL34  ChEMBL:CHEMBL3323101   \n",
              "\n",
              "                                        SMILES    connectivity  \\\n",
              "0  CN1C2CCC1C(C(=O)Oc1ccccc1)C(c1ccc(Cl)cc1)C2  AAEKULYONKUBOZ   \n",
              "1  CN1C2CCC1C(C(=O)Oc1ccccc1)C(c1ccc(Cl)cc1)C2  AAEKULYONKUBOZ   \n",
              "2  CN1C2CCC1C(C(=O)Oc1ccccc1)C(c1ccc(Cl)cc1)C2  AAEKULYONKUBOZ   \n",
              "3            CN1Cc2ccccc2C(c2ccc3[nH]ccc3c2)C1  AAHLCKVWZXFMPB   \n",
              "4            CN1Cc2ccccc2C(c2ccc3[nH]ccc3c2)C1  AAHLCKVWZXFMPB   \n",
              "\n",
              "                      InChIKey  \\\n",
              "0  AAEKULYONKUBOZ-UHFFFAOYSA-N   \n",
              "1  AAEKULYONKUBOZ-UHFFFAOYSA-N   \n",
              "2  AAEKULYONKUBOZ-UHFFFAOYSA-N   \n",
              "3  AAHLCKVWZXFMPB-UHFFFAOYSA-N   \n",
              "4  AAHLCKVWZXFMPB-UHFFFAOYSA-N   \n",
              "\n",
              "                                               InChI  \\\n",
              "0  InChI=1S/C21H22ClNO2/c1-23-16-11-12-19(23)20(2...   \n",
              "1  InChI=1S/C21H22ClNO2/c1-23-16-11-12-19(23)20(2...   \n",
              "2  InChI=1S/C21H22ClNO2/c1-23-16-11-12-19(23)20(2...   \n",
              "3  InChI=1S/C18H18N2/c1-20-11-15-4-2-3-5-16(15)17...   \n",
              "4  InChI=1S/C18H18N2/c1-20-11-15-4-2-3-5-16(15)17...   \n",
              "\n",
              "                                       InChI_AuxInfo  target_id  ... relation  \\\n",
              "0  AuxInfo=1/0/N:1,14,13,15,12,16,19,24,20,23,4,5...  P23977_WT  ...        =   \n",
              "1  AuxInfo=1/0/N:1,14,13,15,12,16,19,24,20,23,4,5...  P31645_WT  ...        =   \n",
              "2  AuxInfo=1/0/N:1,14,13,15,12,16,19,24,20,23,4,5...  Q9WTR4_WT  ...        =   \n",
              "3  AuxInfo=1/0/N:1,6,7,5,8,12,13,17,16,19,3,20,11...  P23975_WT  ...        =   \n",
              "4  AuxInfo=1/0/N:1,6,7,5,8,12,13,17,16,19,3,20,11...  P31645_WT  ...        =   \n",
              "\n",
              "  pchembl_value pchembl_value_Mean pchembl_value_StdDev pchembl_value_SEM  \\\n",
              "0          8.28               8.28                  0.0               0.0   \n",
              "1          6.41               6.41                  0.0               0.0   \n",
              "2          6.62               6.62                  0.0               0.0   \n",
              "3          8.24               8.24                  0.0               0.0   \n",
              "4          6.86               6.86                  0.0               0.0   \n",
              "\n",
              "   pchembl_value_N pchembl_value_Median pchembl_value_MAD  \\\n",
              "0              1.0                 8.28               0.0   \n",
              "1              1.0                 6.41               0.0   \n",
              "2              1.0                 6.62               0.0   \n",
              "3              1.0                 8.24               0.0   \n",
              "4              1.0                 6.86               0.0   \n",
              "\n",
              "                                      Classification                 Organism  \n",
              "0  Transporter->Electrochemical transporter->SLC ...  Rattus norvegicus (Rat)  \n",
              "1  Transporter->Electrochemical transporter->SLC ...     Homo sapiens (Human)  \n",
              "2  Transporter->Electrochemical transporter->SLC ...  Rattus norvegicus (Rat)  \n",
              "3  Transporter->Electrochemical transporter->SLC ...     Homo sapiens (Human)  \n",
              "4  Transporter->Electrochemical transporter->SLC ...     Homo sapiens (Human)  \n",
              "\n",
              "[5 rows x 34 columns]"
            ],
            "text/html": [
              "\n",
              "  <div id=\"df-ec501e30-ee77-4996-871b-ad05ef993504\" class=\"colab-df-container\">\n",
              "    <div>\n",
              "<style scoped>\n",
              "    .dataframe tbody tr th:only-of-type {\n",
              "        vertical-align: middle;\n",
              "    }\n",
              "\n",
              "    .dataframe tbody tr th {\n",
              "        vertical-align: top;\n",
              "    }\n",
              "\n",
              "    .dataframe thead th {\n",
              "        text-align: right;\n",
              "    }\n",
              "</style>\n",
              "<table border=\"1\" class=\"dataframe\">\n",
              "  <thead>\n",
              "    <tr style=\"text-align: right;\">\n",
              "      <th></th>\n",
              "      <th>Activity_ID</th>\n",
              "      <th>Quality</th>\n",
              "      <th>source</th>\n",
              "      <th>CID</th>\n",
              "      <th>SMILES</th>\n",
              "      <th>connectivity</th>\n",
              "      <th>InChIKey</th>\n",
              "      <th>InChI</th>\n",
              "      <th>InChI_AuxInfo</th>\n",
              "      <th>target_id</th>\n",
              "      <th>...</th>\n",
              "      <th>relation</th>\n",
              "      <th>pchembl_value</th>\n",
              "      <th>pchembl_value_Mean</th>\n",
              "      <th>pchembl_value_StdDev</th>\n",
              "      <th>pchembl_value_SEM</th>\n",
              "      <th>pchembl_value_N</th>\n",
              "      <th>pchembl_value_Median</th>\n",
              "      <th>pchembl_value_MAD</th>\n",
              "      <th>Classification</th>\n",
              "      <th>Organism</th>\n",
              "    </tr>\n",
              "  </thead>\n",
              "  <tbody>\n",
              "    <tr>\n",
              "      <th>0</th>\n",
              "      <td>AAEKULYONKUBOZ_on_P23977_WT</td>\n",
              "      <td>High</td>\n",
              "      <td>ChEMBL34</td>\n",
              "      <td>ChEMBL:CHEMBL14144</td>\n",
              "      <td>CN1C2CCC1C(C(=O)Oc1ccccc1)C(c1ccc(Cl)cc1)C2</td>\n",
              "      <td>AAEKULYONKUBOZ</td>\n",
              "      <td>AAEKULYONKUBOZ-UHFFFAOYSA-N</td>\n",
              "      <td>InChI=1S/C21H22ClNO2/c1-23-16-11-12-19(23)20(2...</td>\n",
              "      <td>AuxInfo=1/0/N:1,14,13,15,12,16,19,24,20,23,4,5...</td>\n",
              "      <td>P23977_WT</td>\n",
              "      <td>...</td>\n",
              "      <td>=</td>\n",
              "      <td>8.28</td>\n",
              "      <td>8.28</td>\n",
              "      <td>0.0</td>\n",
              "      <td>0.0</td>\n",
              "      <td>1.0</td>\n",
              "      <td>8.28</td>\n",
              "      <td>0.0</td>\n",
              "      <td>Transporter-&gt;Electrochemical transporter-&gt;SLC ...</td>\n",
              "      <td>Rattus norvegicus (Rat)</td>\n",
              "    </tr>\n",
              "    <tr>\n",
              "      <th>1</th>\n",
              "      <td>AAEKULYONKUBOZ_on_P31645_WT</td>\n",
              "      <td>High</td>\n",
              "      <td>ChEMBL34</td>\n",
              "      <td>ChEMBL:CHEMBL14144</td>\n",
              "      <td>CN1C2CCC1C(C(=O)Oc1ccccc1)C(c1ccc(Cl)cc1)C2</td>\n",
              "      <td>AAEKULYONKUBOZ</td>\n",
              "      <td>AAEKULYONKUBOZ-UHFFFAOYSA-N</td>\n",
              "      <td>InChI=1S/C21H22ClNO2/c1-23-16-11-12-19(23)20(2...</td>\n",
              "      <td>AuxInfo=1/0/N:1,14,13,15,12,16,19,24,20,23,4,5...</td>\n",
              "      <td>P31645_WT</td>\n",
              "      <td>...</td>\n",
              "      <td>=</td>\n",
              "      <td>6.41</td>\n",
              "      <td>6.41</td>\n",
              "      <td>0.0</td>\n",
              "      <td>0.0</td>\n",
              "      <td>1.0</td>\n",
              "      <td>6.41</td>\n",
              "      <td>0.0</td>\n",
              "      <td>Transporter-&gt;Electrochemical transporter-&gt;SLC ...</td>\n",
              "      <td>Homo sapiens (Human)</td>\n",
              "    </tr>\n",
              "    <tr>\n",
              "      <th>2</th>\n",
              "      <td>AAEKULYONKUBOZ_on_Q9WTR4_WT</td>\n",
              "      <td>High</td>\n",
              "      <td>ChEMBL34</td>\n",
              "      <td>ChEMBL:CHEMBL14144</td>\n",
              "      <td>CN1C2CCC1C(C(=O)Oc1ccccc1)C(c1ccc(Cl)cc1)C2</td>\n",
              "      <td>AAEKULYONKUBOZ</td>\n",
              "      <td>AAEKULYONKUBOZ-UHFFFAOYSA-N</td>\n",
              "      <td>InChI=1S/C21H22ClNO2/c1-23-16-11-12-19(23)20(2...</td>\n",
              "      <td>AuxInfo=1/0/N:1,14,13,15,12,16,19,24,20,23,4,5...</td>\n",
              "      <td>Q9WTR4_WT</td>\n",
              "      <td>...</td>\n",
              "      <td>=</td>\n",
              "      <td>6.62</td>\n",
              "      <td>6.62</td>\n",
              "      <td>0.0</td>\n",
              "      <td>0.0</td>\n",
              "      <td>1.0</td>\n",
              "      <td>6.62</td>\n",
              "      <td>0.0</td>\n",
              "      <td>Transporter-&gt;Electrochemical transporter-&gt;SLC ...</td>\n",
              "      <td>Rattus norvegicus (Rat)</td>\n",
              "    </tr>\n",
              "    <tr>\n",
              "      <th>3</th>\n",
              "      <td>AAHLCKVWZXFMPB_on_P23975_WT</td>\n",
              "      <td>High</td>\n",
              "      <td>ChEMBL34</td>\n",
              "      <td>ChEMBL:CHEMBL3323101</td>\n",
              "      <td>CN1Cc2ccccc2C(c2ccc3[nH]ccc3c2)C1</td>\n",
              "      <td>AAHLCKVWZXFMPB</td>\n",
              "      <td>AAHLCKVWZXFMPB-UHFFFAOYSA-N</td>\n",
              "      <td>InChI=1S/C18H18N2/c1-20-11-15-4-2-3-5-16(15)17...</td>\n",
              "      <td>AuxInfo=1/0/N:1,6,7,5,8,12,13,17,16,19,3,20,11...</td>\n",
              "      <td>P23975_WT</td>\n",
              "      <td>...</td>\n",
              "      <td>=</td>\n",
              "      <td>8.24</td>\n",
              "      <td>8.24</td>\n",
              "      <td>0.0</td>\n",
              "      <td>0.0</td>\n",
              "      <td>1.0</td>\n",
              "      <td>8.24</td>\n",
              "      <td>0.0</td>\n",
              "      <td>Transporter-&gt;Electrochemical transporter-&gt;SLC ...</td>\n",
              "      <td>Homo sapiens (Human)</td>\n",
              "    </tr>\n",
              "    <tr>\n",
              "      <th>4</th>\n",
              "      <td>AAHLCKVWZXFMPB_on_P31645_WT</td>\n",
              "      <td>High</td>\n",
              "      <td>ChEMBL34</td>\n",
              "      <td>ChEMBL:CHEMBL3323101</td>\n",
              "      <td>CN1Cc2ccccc2C(c2ccc3[nH]ccc3c2)C1</td>\n",
              "      <td>AAHLCKVWZXFMPB</td>\n",
              "      <td>AAHLCKVWZXFMPB-UHFFFAOYSA-N</td>\n",
              "      <td>InChI=1S/C18H18N2/c1-20-11-15-4-2-3-5-16(15)17...</td>\n",
              "      <td>AuxInfo=1/0/N:1,6,7,5,8,12,13,17,16,19,3,20,11...</td>\n",
              "      <td>P31645_WT</td>\n",
              "      <td>...</td>\n",
              "      <td>=</td>\n",
              "      <td>6.86</td>\n",
              "      <td>6.86</td>\n",
              "      <td>0.0</td>\n",
              "      <td>0.0</td>\n",
              "      <td>1.0</td>\n",
              "      <td>6.86</td>\n",
              "      <td>0.0</td>\n",
              "      <td>Transporter-&gt;Electrochemical transporter-&gt;SLC ...</td>\n",
              "      <td>Homo sapiens (Human)</td>\n",
              "    </tr>\n",
              "  </tbody>\n",
              "</table>\n",
              "<p>5 rows × 34 columns</p>\n",
              "</div>\n",
              "    <div class=\"colab-df-buttons\">\n",
              "\n",
              "  <div class=\"colab-df-container\">\n",
              "    <button class=\"colab-df-convert\" onclick=\"convertToInteractive('df-ec501e30-ee77-4996-871b-ad05ef993504')\"\n",
              "            title=\"Convert this dataframe to an interactive table.\"\n",
              "            style=\"display:none;\">\n",
              "\n",
              "  <svg xmlns=\"http://www.w3.org/2000/svg\" height=\"24px\" viewBox=\"0 -960 960 960\">\n",
              "    <path d=\"M120-120v-720h720v720H120Zm60-500h600v-160H180v160Zm220 220h160v-160H400v160Zm0 220h160v-160H400v160ZM180-400h160v-160H180v160Zm440 0h160v-160H620v160ZM180-180h160v-160H180v160Zm440 0h160v-160H620v160Z\"/>\n",
              "  </svg>\n",
              "    </button>\n",
              "\n",
              "  <style>\n",
              "    .colab-df-container {\n",
              "      display:flex;\n",
              "      gap: 12px;\n",
              "    }\n",
              "\n",
              "    .colab-df-convert {\n",
              "      background-color: #E8F0FE;\n",
              "      border: none;\n",
              "      border-radius: 50%;\n",
              "      cursor: pointer;\n",
              "      display: none;\n",
              "      fill: #1967D2;\n",
              "      height: 32px;\n",
              "      padding: 0 0 0 0;\n",
              "      width: 32px;\n",
              "    }\n",
              "\n",
              "    .colab-df-convert:hover {\n",
              "      background-color: #E2EBFA;\n",
              "      box-shadow: 0px 1px 2px rgba(60, 64, 67, 0.3), 0px 1px 3px 1px rgba(60, 64, 67, 0.15);\n",
              "      fill: #174EA6;\n",
              "    }\n",
              "\n",
              "    .colab-df-buttons div {\n",
              "      margin-bottom: 4px;\n",
              "    }\n",
              "\n",
              "    [theme=dark] .colab-df-convert {\n",
              "      background-color: #3B4455;\n",
              "      fill: #D2E3FC;\n",
              "    }\n",
              "\n",
              "    [theme=dark] .colab-df-convert:hover {\n",
              "      background-color: #434B5C;\n",
              "      box-shadow: 0px 1px 3px 1px rgba(0, 0, 0, 0.15);\n",
              "      filter: drop-shadow(0px 1px 2px rgba(0, 0, 0, 0.3));\n",
              "      fill: #FFFFFF;\n",
              "    }\n",
              "  </style>\n",
              "\n",
              "    <script>\n",
              "      const buttonEl =\n",
              "        document.querySelector('#df-ec501e30-ee77-4996-871b-ad05ef993504 button.colab-df-convert');\n",
              "      buttonEl.style.display =\n",
              "        google.colab.kernel.accessAllowed ? 'block' : 'none';\n",
              "\n",
              "      async function convertToInteractive(key) {\n",
              "        const element = document.querySelector('#df-ec501e30-ee77-4996-871b-ad05ef993504');\n",
              "        const dataTable =\n",
              "          await google.colab.kernel.invokeFunction('convertToInteractive',\n",
              "                                                    [key], {});\n",
              "        if (!dataTable) return;\n",
              "\n",
              "        const docLinkHtml = 'Like what you see? Visit the ' +\n",
              "          '<a target=\"_blank\" href=https://colab.research.google.com/notebooks/data_table.ipynb>data table notebook</a>'\n",
              "          + ' to learn more about interactive tables.';\n",
              "        element.innerHTML = '';\n",
              "        dataTable['output_type'] = 'display_data';\n",
              "        await google.colab.output.renderOutput(dataTable, element);\n",
              "        const docLink = document.createElement('div');\n",
              "        docLink.innerHTML = docLinkHtml;\n",
              "        element.appendChild(docLink);\n",
              "      }\n",
              "    </script>\n",
              "  </div>\n",
              "\n",
              "\n",
              "<div id=\"df-fd8ba001-c012-43cf-8acd-9ec7c08d4efc\">\n",
              "  <button class=\"colab-df-quickchart\" onclick=\"quickchart('df-fd8ba001-c012-43cf-8acd-9ec7c08d4efc')\"\n",
              "            title=\"Suggest charts\"\n",
              "            style=\"display:none;\">\n",
              "\n",
              "<svg xmlns=\"http://www.w3.org/2000/svg\" height=\"24px\"viewBox=\"0 0 24 24\"\n",
              "     width=\"24px\">\n",
              "    <g>\n",
              "        <path d=\"M19 3H5c-1.1 0-2 .9-2 2v14c0 1.1.9 2 2 2h14c1.1 0 2-.9 2-2V5c0-1.1-.9-2-2-2zM9 17H7v-7h2v7zm4 0h-2V7h2v10zm4 0h-2v-4h2v4z\"/>\n",
              "    </g>\n",
              "</svg>\n",
              "  </button>\n",
              "\n",
              "<style>\n",
              "  .colab-df-quickchart {\n",
              "      --bg-color: #E8F0FE;\n",
              "      --fill-color: #1967D2;\n",
              "      --hover-bg-color: #E2EBFA;\n",
              "      --hover-fill-color: #174EA6;\n",
              "      --disabled-fill-color: #AAA;\n",
              "      --disabled-bg-color: #DDD;\n",
              "  }\n",
              "\n",
              "  [theme=dark] .colab-df-quickchart {\n",
              "      --bg-color: #3B4455;\n",
              "      --fill-color: #D2E3FC;\n",
              "      --hover-bg-color: #434B5C;\n",
              "      --hover-fill-color: #FFFFFF;\n",
              "      --disabled-bg-color: #3B4455;\n",
              "      --disabled-fill-color: #666;\n",
              "  }\n",
              "\n",
              "  .colab-df-quickchart {\n",
              "    background-color: var(--bg-color);\n",
              "    border: none;\n",
              "    border-radius: 50%;\n",
              "    cursor: pointer;\n",
              "    display: none;\n",
              "    fill: var(--fill-color);\n",
              "    height: 32px;\n",
              "    padding: 0;\n",
              "    width: 32px;\n",
              "  }\n",
              "\n",
              "  .colab-df-quickchart:hover {\n",
              "    background-color: var(--hover-bg-color);\n",
              "    box-shadow: 0 1px 2px rgba(60, 64, 67, 0.3), 0 1px 3px 1px rgba(60, 64, 67, 0.15);\n",
              "    fill: var(--button-hover-fill-color);\n",
              "  }\n",
              "\n",
              "  .colab-df-quickchart-complete:disabled,\n",
              "  .colab-df-quickchart-complete:disabled:hover {\n",
              "    background-color: var(--disabled-bg-color);\n",
              "    fill: var(--disabled-fill-color);\n",
              "    box-shadow: none;\n",
              "  }\n",
              "\n",
              "  .colab-df-spinner {\n",
              "    border: 2px solid var(--fill-color);\n",
              "    border-color: transparent;\n",
              "    border-bottom-color: var(--fill-color);\n",
              "    animation:\n",
              "      spin 1s steps(1) infinite;\n",
              "  }\n",
              "\n",
              "  @keyframes spin {\n",
              "    0% {\n",
              "      border-color: transparent;\n",
              "      border-bottom-color: var(--fill-color);\n",
              "      border-left-color: var(--fill-color);\n",
              "    }\n",
              "    20% {\n",
              "      border-color: transparent;\n",
              "      border-left-color: var(--fill-color);\n",
              "      border-top-color: var(--fill-color);\n",
              "    }\n",
              "    30% {\n",
              "      border-color: transparent;\n",
              "      border-left-color: var(--fill-color);\n",
              "      border-top-color: var(--fill-color);\n",
              "      border-right-color: var(--fill-color);\n",
              "    }\n",
              "    40% {\n",
              "      border-color: transparent;\n",
              "      border-right-color: var(--fill-color);\n",
              "      border-top-color: var(--fill-color);\n",
              "    }\n",
              "    60% {\n",
              "      border-color: transparent;\n",
              "      border-right-color: var(--fill-color);\n",
              "    }\n",
              "    80% {\n",
              "      border-color: transparent;\n",
              "      border-right-color: var(--fill-color);\n",
              "      border-bottom-color: var(--fill-color);\n",
              "    }\n",
              "    90% {\n",
              "      border-color: transparent;\n",
              "      border-bottom-color: var(--fill-color);\n",
              "    }\n",
              "  }\n",
              "</style>\n",
              "\n",
              "  <script>\n",
              "    async function quickchart(key) {\n",
              "      const quickchartButtonEl =\n",
              "        document.querySelector('#' + key + ' button');\n",
              "      quickchartButtonEl.disabled = true;  // To prevent multiple clicks.\n",
              "      quickchartButtonEl.classList.add('colab-df-spinner');\n",
              "      try {\n",
              "        const charts = await google.colab.kernel.invokeFunction(\n",
              "            'suggestCharts', [key], {});\n",
              "      } catch (error) {\n",
              "        console.error('Error during call to suggestCharts:', error);\n",
              "      }\n",
              "      quickchartButtonEl.classList.remove('colab-df-spinner');\n",
              "      quickchartButtonEl.classList.add('colab-df-quickchart-complete');\n",
              "    }\n",
              "    (() => {\n",
              "      let quickchartButtonEl =\n",
              "        document.querySelector('#df-fd8ba001-c012-43cf-8acd-9ec7c08d4efc button');\n",
              "      quickchartButtonEl.style.display =\n",
              "        google.colab.kernel.accessAllowed ? 'block' : 'none';\n",
              "    })();\n",
              "  </script>\n",
              "</div>\n",
              "    </div>\n",
              "  </div>\n"
            ],
            "application/vnd.google.colaboratory.intrinsic+json": {
              "type": "dataframe",
              "variable_name": "filter4"
            }
          },
          "metadata": {},
          "execution_count": 54
        }
      ],
      "source": [
        "filter4.head()"
      ]
    },
    {
      "cell_type": "code",
      "execution_count": 55,
      "metadata": {
        "colab": {
          "base_uri": "https://localhost:8080/"
        },
        "id": "RkqBpIPe9rQn",
        "outputId": "b1a6b041-579a-4bc0-d741-f2f94fa38566"
      },
      "outputs": [
        {
          "output_type": "stream",
          "name": "stdout",
          "text": [
            "Number of activity points: 114\n"
          ]
        }
      ],
      "source": [
        "print(f'Number of activity points: {filter4.shape[0]}')"
      ]
    },
    {
      "cell_type": "markdown",
      "metadata": {
        "id": "hoD1lCN49rQn"
      },
      "source": [
        "Remember that this result comes from only the first chunk of the entire dataset."
      ]
    },
    {
      "cell_type": "markdown",
      "metadata": {
        "id": "YW4zRoYt9rQn"
      },
      "source": [
        "One can now save this dataframe like any other pandas object."
      ]
    },
    {
      "cell_type": "markdown",
      "metadata": {
        "id": "0mKEl6hV9rQo"
      },
      "source": [
        "### Filtering iterators of dataframes"
      ]
    },
    {
      "cell_type": "markdown",
      "metadata": {
        "id": "s4NgDbHy9rQo"
      },
      "source": [
        "Now that the filtering capacity of the Papyrus scripts have been demonstrated for entire dataframes, we can try with chunked iterators."
      ]
    },
    {
      "cell_type": "markdown",
      "metadata": {
        "id": "Riimv82E9rQo"
      },
      "source": [
        "Let's first reinstanciate sample data. This time we will use a chunk size of 1,000,000."
      ]
    },
    {
      "cell_type": "code",
      "execution_count": 56,
      "metadata": {
        "id": "cEG5tZEj9rQo"
      },
      "outputs": [],
      "source": [
        "sample_data = read_papyrus(is3d=False, chunksize=1000000, source_path=None)"
      ]
    },
    {
      "cell_type": "markdown",
      "metadata": {
        "id": "zwFwEH4i9rQo"
      },
      "source": [
        "For this will will go through the same filters as above but iterate over the entire dataset."
      ]
    },
    {
      "cell_type": "code",
      "execution_count": 57,
      "metadata": {
        "id": "cONhxYG99rQo"
      },
      "outputs": [],
      "source": [
        "filter1_it = keep_quality(data=sample_data, min_quality='medium')\n",
        "filter2_it = keep_protein_class(data=filter1_it, protein_data=protein_data, classes=[{'l2': 'Ligand-gated ion channels'}, {'l3': 'SLC superfamily of solute carriers'}])\n",
        "filter3_it = keep_type(data=filter2_it, activity_types=['Ki', 'KD'])\n",
        "filter4_it = keep_organism(data=filter3_it, protein_data=protein_data, organism=['Human', 'Rat'], generic_regex=True)"
      ]
    },
    {
      "cell_type": "markdown",
      "metadata": {
        "id": "WKfQ8y2N9rQo"
      },
      "source": [
        "The filters do not get applied directly on chunked iterators and one can easily check that *filter4_it* is not a pandas dataframe."
      ]
    },
    {
      "cell_type": "code",
      "execution_count": 58,
      "metadata": {
        "colab": {
          "base_uri": "https://localhost:8080/"
        },
        "id": "ntp7f6W99rQp",
        "outputId": "071c1d9b-f0ba-4248-d591-5ccd0cb8cfae"
      },
      "outputs": [
        {
          "output_type": "execute_result",
          "data": {
            "text/plain": [
              "<generator object _chunked_keep_organism at 0x7ab6d0165770>"
            ]
          },
          "metadata": {},
          "execution_count": 58
        }
      ],
      "source": [
        "filter4_it"
      ]
    },
    {
      "cell_type": "markdown",
      "metadata": {
        "id": "S1yzHeiQ9rQp"
      },
      "source": [
        "To apply the filters on the entire iterator, one needs to call *consume_chunks*.<br/>\n",
        "This function can be found under *papyrus_scripts.preprocess* just like the *keep_* functions used for filtering."
      ]
    },
    {
      "cell_type": "code",
      "execution_count": 59,
      "metadata": {
        "id": "AEQucm6_9rQp"
      },
      "outputs": [],
      "source": [
        "from papyrus_scripts.preprocess import consume_chunks"
      ]
    },
    {
      "cell_type": "markdown",
      "metadata": {
        "id": "66NS_yFS9rQp"
      },
      "source": [
        "In order to follow progress of the filtering process, one needs to pass the total number of chunks the filters will go through.<br/>\n",
        "$Total = \\displaystyle \\Bigl \\lceil\\frac{Size_{dataset}}{chunksize}\\Bigl \\rceil $<br/>"
      ]
    },
    {
      "cell_type": "markdown",
      "metadata": {
        "id": "7WL8c41F9rQp"
      },
      "source": [
        "In version 05.5 of the Papyrus dataset the number of compound-protein activity points depends on whether stereochemistry is used or not **(remember we discourage its usage)**.<br/>\n"
      ]
    },
    {
      "cell_type": "markdown",
      "metadata": {
        "id": "bdahg3kC9rQq"
      },
      "source": [
        "| Stereochemistry | Size of dataset |\n",
        "| :--- | :---: |\n",
        "| Without | 59,775,912 |\n",
        "| With (strongly discouraged) | 61,097,228 |"
      ]
    },
    {
      "cell_type": "markdown",
      "metadata": {
        "id": "-MBACZ0B9rQq"
      },
      "source": [
        "In this example $Total = \\displaystyle \\Bigl \\lceil \\frac{59,775,912}{1,000,000}\\Bigl \\rceil = 60 $<br/>"
      ]
    },
    {
      "cell_type": "code",
      "execution_count": 60,
      "metadata": {
        "colab": {
          "base_uri": "https://localhost:8080/",
          "height": 0,
          "referenced_widgets": [
            "8d92b9aacf9c43dd81b1a546b7abc0b4",
            "f99b09948d3c454abab73c5d83f3a707",
            "11341f35aa3743338c7649c11dd5db1c",
            "694120a7969e44bdac4029d2eb8481c0",
            "10656867d05d44e394e99a06bbc27afe",
            "0915f20799be4c50a7ed8b4ebb73326e",
            "363aca8e133e4bf3ae7dbf7daf375ee6",
            "7d3271209fbc45899092eca1eb7c26a6",
            "1ac899d765d549ee9489b3d0d9f3fcdc",
            "4003d11d736440209137bfacd0a476a3",
            "acf6c88321e34c67b28b6dfff76ec417"
          ]
        },
        "id": "uQTByLf_9rQq",
        "outputId": "86f49c65-bc7b-4e18-c885-8ea94b173382"
      },
      "outputs": [
        {
          "output_type": "display_data",
          "data": {
            "text/plain": [
              "  0%|          | 0/60 [00:00<?, ?it/s]"
            ],
            "application/vnd.jupyter.widget-view+json": {
              "version_major": 2,
              "version_minor": 0,
              "model_id": "8d92b9aacf9c43dd81b1a546b7abc0b4"
            }
          },
          "metadata": {}
        }
      ],
      "source": [
        "filtered_data = consume_chunks(filter4_it, progress=True, total=60)"
      ]
    },
    {
      "cell_type": "markdown",
      "metadata": {
        "id": "k5i4i9uo9rQq"
      },
      "source": [
        "Although this may take up to 30 minutes to filter the entire dataset, this is the ideal way to work with this dataset on laptops."
      ]
    },
    {
      "cell_type": "code",
      "execution_count": 61,
      "metadata": {
        "colab": {
          "base_uri": "https://localhost:8080/"
        },
        "id": "kecbmhu99rQq",
        "outputId": "9a824c9c-62cb-4bc3-98b9-3f5885ceeeb9"
      },
      "outputs": [
        {
          "output_type": "stream",
          "name": "stdout",
          "text": [
            "Number of activity points: 7528\n"
          ]
        }
      ],
      "source": [
        "print(f'Number of activity points: {filtered_data.shape[0]}')"
      ]
    },
    {
      "cell_type": "markdown",
      "metadata": {
        "id": "JSi7UAPv9rQr"
      },
      "source": [
        "We hope these simple examples demonstrated how the Papyrus data can easily be filtered.\n",
        "Let's now focus on the modelling"
      ]
    },
    {
      "cell_type": "markdown",
      "metadata": {
        "id": "WXkIKvkM9rQr"
      },
      "source": [
        "## Modelling the bioactivity data"
      ]
    },
    {
      "cell_type": "markdown",
      "metadata": {
        "id": "ADoGuGaU9rQr"
      },
      "source": [
        "The Papyrus scripts allow for both quantitative structure-activity relationship (QSAR) and proteochemometrics (PCM) modelling.<br/>\n",
        "All functions related to modelling can be found under *papyrus_scripts.modelling*."
      ]
    },
    {
      "cell_type": "markdown",
      "metadata": {
        "id": "sCCr99cn9rQr"
      },
      "source": [
        "**Disclaimer:**<br/>\n",
        "For now, only precomputed molecular descriptors can be used, preventing the use of models outside of Papyrus.<br/>\n",
        "This major flaw will be soon fixed."
      ]
    },
    {
      "cell_type": "markdown",
      "metadata": {
        "id": "RlzrJb0W9rQr"
      },
      "source": [
        "### QSAR models"
      ]
    },
    {
      "cell_type": "code",
      "source": [
        "pip install scikit-learn==1.2"
      ],
      "metadata": {
        "id": "l7MBtWAeu2RH",
        "outputId": "4b82a15e-084f-4a69-8133-dcf8f28263cd",
        "colab": {
          "base_uri": "https://localhost:8080/"
        }
      },
      "execution_count": 62,
      "outputs": [
        {
          "output_type": "stream",
          "name": "stdout",
          "text": [
            "Requirement already satisfied: scikit-learn==1.2 in /usr/local/lib/python3.10/dist-packages (1.2.0)\n",
            "Requirement already satisfied: numpy>=1.17.3 in /usr/local/lib/python3.10/dist-packages (from scikit-learn==1.2) (1.26.4)\n",
            "Requirement already satisfied: scipy>=1.3.2 in /usr/local/lib/python3.10/dist-packages (from scikit-learn==1.2) (1.13.1)\n",
            "Requirement already satisfied: joblib>=1.1.1 in /usr/local/lib/python3.10/dist-packages (from scikit-learn==1.2) (1.4.2)\n",
            "Requirement already satisfied: threadpoolctl>=2.0.0 in /usr/local/lib/python3.10/dist-packages (from scikit-learn==1.2) (3.5.0)\n"
          ]
        }
      ]
    },
    {
      "cell_type": "code",
      "execution_count": 63,
      "metadata": {
        "id": "kGjAoITA9rQr"
      },
      "outputs": [],
      "source": [
        "from papyrus_scripts.modelling import qsar\n",
        "import xgboost"
      ]
    },
    {
      "cell_type": "markdown",
      "metadata": {
        "id": "eqPfFyJF9rQs"
      },
      "source": [
        "Let us first restrict the data that we just extracted from Papyrus to the human serotonin receptor (accession P31645)."
      ]
    },
    {
      "cell_type": "code",
      "execution_count": 73,
      "metadata": {
        "id": "zL5ntwA_9rQs"
      },
      "outputs": [],
      "source": [
        "sample_data = read_papyrus(is3d=False, chunksize=1000000, source_path=None)\n",
        "filter1_it = keep_accession(sample_data, 'P01116')\n",
        "filter2_it = keep_quality(data=filter1_it, min_quality='medium')\n",
        "filter3_it = keep_type(data=filter2_it, activity_types=['Ki', 'KD'])"
      ]
    },
    {
      "cell_type": "code",
      "execution_count": 74,
      "metadata": {
        "colab": {
          "base_uri": "https://localhost:8080/",
          "height": 49,
          "referenced_widgets": [
            "e38e166e73ac4c7da9a1ae67c6c85352",
            "8f663751d8ac471088f81d63df39445e",
            "c5aa364bff2f492da7339ea1def671bf",
            "fd8250cf4f2f49aca0994228707129e0",
            "f6527b401dcb47e49b61e1bedd61733c",
            "bc532b97c0b8463e9f7d998eb0ca45a6",
            "7786158daec4482d805c01082fd8e226",
            "7ceaacce411c4888aebbc8daae5639da",
            "f148ca8aba8c486584fc967ca3579533",
            "e090230980f84d8799dec7e75352d6b4",
            "a3ddc0c5a7b941d5bd17e17308f4c1b5"
          ]
        },
        "id": "yGVnTPHq9rQs",
        "outputId": "befe55f9-d86b-4d65-ed56-10154ee4171c",
        "scrolled": true
      },
      "outputs": [
        {
          "output_type": "display_data",
          "data": {
            "text/plain": [
              "  0%|          | 0/60 [00:00<?, ?it/s]"
            ],
            "application/vnd.jupyter.widget-view+json": {
              "version_major": 2,
              "version_minor": 0,
              "model_id": "e38e166e73ac4c7da9a1ae67c6c85352"
            }
          },
          "metadata": {}
        }
      ],
      "source": [
        "SLC6A4_data = consume_chunks(filter3_it, total=60)"
      ]
    },
    {
      "cell_type": "code",
      "source": [
        "print(SLC6A4_data.head(5))"
      ],
      "metadata": {
        "id": "59kHx7mGu4rj",
        "outputId": "89130c1c-b680-4b59-f57c-3680ff9f22fb",
        "colab": {
          "base_uri": "https://localhost:8080/"
        }
      },
      "execution_count": 84,
      "outputs": [
        {
          "output_type": "stream",
          "name": "stdout",
          "text": [
            "                       Activity_ID Quality    source                   CID  \\\n",
            "9863   AIRAONOHNMWJKZ_on_P01116_WT    High  ChEMBL34  ChEMBL:CHEMBL5191782   \n",
            "27905  AYYURYDKBCGXDD_on_P01116_WT    High  ChEMBL34  ChEMBL:CHEMBL3982443   \n",
            "28135  AZFJASMBZUATSI_on_P01116_WT    High  ChEMBL34  ChEMBL:CHEMBL3932440   \n",
            "56645  BYJMARHSXWNYIZ_on_P01116_WT    High  ChEMBL34  ChEMBL:CHEMBL5085395   \n",
            "68904  CKAMBYUZKWQCKJ_on_P01116_WT    High  ChEMBL34  ChEMBL:CHEMBL5218642   \n",
            "\n",
            "                                                  SMILES    connectivity  \\\n",
            "9863   COc1ccc(Cl)cc1-c1c(Cl)cc2c(N3CCN(C(=O)c4ccc([N...  AIRAONOHNMWJKZ   \n",
            "27905  Nc1nc(=O)c2ncn(C3OC(COP(=O)(O)CS(=O)(=O)NCCNC(...  AYYURYDKBCGXDD   \n",
            "28135  Nc1nc(=O)c2ncn(C3OC(COP(=O)(O)C(F)(F)P(=O)(O)O...  AZFJASMBZUATSI   \n",
            "56645  CN1CCN(c2nc(OCC3CCCN3C)nc3c(F)c(-c4cc(O)cc5ccc...  BYJMARHSXWNYIZ   \n",
            "68904  C=CC(=O)N1CCN(c2cc(-c3noc(C4(C)CCCc5sc(N)c(C#N...  CKAMBYUZKWQCKJ   \n",
            "\n",
            "                          InChIKey  \\\n",
            "9863   AIRAONOHNMWJKZ-UHFFFAOYSA-N   \n",
            "27905  AYYURYDKBCGXDD-UHFFFAOYSA-N   \n",
            "28135  AZFJASMBZUATSI-UHFFFAOYSA-N   \n",
            "56645  BYJMARHSXWNYIZ-UHFFFAOYSA-N   \n",
            "68904  CKAMBYUZKWQCKJ-UHFFFAOYSA-N   \n",
            "\n",
            "                                                   InChI  \\\n",
            "9863   InChI=1S/C24H18Cl2FN5O5/c1-36-17-3-2-13(25)10-...   \n",
            "27905  InChI=1S/C15H23ClN7O10PS/c16-3-8(24)18-1-2-20-...   \n",
            "28135  InChI=1S/C16H23ClF2N6O11P2/c17-4-8(26)21-2-1-3...   \n",
            "56645  InChI=1S/C28H31FN6O2/c1-33-10-12-35(13-11-33)2...   \n",
            "68904  InChI=1S/C30H37N9O2S/c1-5-25(40)38-12-10-37(11...   \n",
            "\n",
            "                                           InChI_AuxInfo  target_id  ...  \\\n",
            "9863   AuxInfo=1/0/N:1,5,4,23,24,17,31,18,30,8,13,33,...  P01116_WT  ...   \n",
            "27905  AuxInfo=1/1/N:24,23,28,13,8,18,12,26,6,30,32,3...  P01116_WT  ...   \n",
            "28135  AuxInfo=1/1/N:26,27,25,31,13,8,12,29,6,33,35,3...  P01116_WT  ...   \n",
            "56645  AuxInfo=1/0/N:1,16,29,30,13,28,12,31,14,3,37,4...  P01116_WT  ...   \n",
            "68904  AuxInfo=1/0/N:1,39,17,36,2,19,20,18,34,7,41,6,...  P01116_WT  ...   \n",
            "\n",
            "      Activity_class relation pchembl_value pchembl_value_Mean  \\\n",
            "9863             NaN        =          7.01               7.01   \n",
            "27905            NaN        =           5.8               5.80   \n",
            "28135            NaN        =          6.42               6.42   \n",
            "56645            NaN        =          5.21               5.21   \n",
            "68904            NaN        =           5.6               5.60   \n",
            "\n",
            "      pchembl_value_StdDev  pchembl_value_SEM pchembl_value_N  \\\n",
            "9863                   0.0                0.0             1.0   \n",
            "27905                  0.0                0.0             1.0   \n",
            "28135                  0.0                0.0             1.0   \n",
            "56645                  0.0                0.0             1.0   \n",
            "68904                  0.0                0.0             1.0   \n",
            "\n",
            "      pchembl_value_Median pchembl_value_MAD index  \n",
            "9863                  7.01               0.0     0  \n",
            "27905                 5.80               0.0     1  \n",
            "28135                 6.42               0.0     2  \n",
            "56645                 5.21               0.0     3  \n",
            "68904                 5.60               0.0     4  \n",
            "\n",
            "[5 rows x 33 columns]\n"
          ]
        }
      ]
    },
    {
      "cell_type": "code",
      "source": [
        "# 检查列名\n",
        "print(SLC6A4_data.columns)\n",
        "\n",
        "# 如果列名是 'Index' 或其他形式，重命名为 'index'\n",
        "if 'Index' in SLC6A4_data.columns:\n",
        "    SLC6A4_data.rename(columns={'Index': 'index'}, inplace=True)\n",
        "\n",
        "# 手动设置索引\n",
        "SLC6A4_data.set_index('index', inplace=True)\n"
      ],
      "metadata": {
        "id": "87Jjvb_Aw0lQ",
        "outputId": "de36095f-bf87-4c41-e4b6-4b0a5fa9de53",
        "colab": {
          "base_uri": "https://localhost:8080/"
        }
      },
      "execution_count": 87,
      "outputs": [
        {
          "output_type": "stream",
          "name": "stdout",
          "text": [
            "Index(['Activity_ID', 'Quality', 'source', 'CID', 'SMILES', 'connectivity',\n",
            "       'InChIKey', 'InChI', 'InChI_AuxInfo', 'target_id', 'TID', 'accession',\n",
            "       'Protein_Type', 'AID', 'doc_id', 'Year', 'all_doc_ids', 'all_years',\n",
            "       'type_IC50', 'type_EC50', 'type_KD', 'type_Ki', 'type_other',\n",
            "       'Activity_class', 'relation', 'pchembl_value', 'pchembl_value_Mean',\n",
            "       'pchembl_value_StdDev', 'pchembl_value_SEM', 'pchembl_value_N',\n",
            "       'pchembl_value_Median', 'pchembl_value_MAD', 'index'],\n",
            "      dtype='object')\n"
          ]
        }
      ]
    },
    {
      "cell_type": "code",
      "source": [
        "import numpy as np\n",
        "\n",
        "def process_pchembl_value(value):\n",
        "    if isinstance(value, str) and ';' in value:\n",
        "        values = list(map(float, value.split(';')))\n",
        "        return np.mean(values)\n",
        "    return float(value)\n",
        "\n",
        "SLC6A4_data['pchembl_value_Mean'] = SLC6A4_data['pchembl_value_Mean'].apply(process_pchembl_value)\n"
      ],
      "metadata": {
        "id": "tWXTY5YJx8w3"
      },
      "execution_count": 77,
      "outputs": []
    },
    {
      "cell_type": "code",
      "source": [
        "SLC6A4_data.dropna(subset=['pchembl_value_Mean'], inplace=True)  # 删除目标变量缺失的行\n"
      ],
      "metadata": {
        "id": "JekKeLgQyGEH"
      },
      "execution_count": 79,
      "outputs": []
    },
    {
      "cell_type": "code",
      "source": [
        "SLC6A4_data['index'] = range(len(SLC6A4_data))\n"
      ],
      "metadata": {
        "id": "-tqmRfmm0GHO"
      },
      "execution_count": 82,
      "outputs": []
    },
    {
      "cell_type": "code",
      "source": [
        "print(SLC6A4_data.head())\n",
        "print(SLC6A4_data.columns)\n"
      ],
      "metadata": {
        "id": "COG6Va4g2zbO",
        "outputId": "9a4382a8-c649-44f8-814d-3ac4f812c5df",
        "colab": {
          "base_uri": "https://localhost:8080/"
        }
      },
      "execution_count": 89,
      "outputs": [
        {
          "output_type": "stream",
          "name": "stdout",
          "text": [
            "                       Activity_ID Quality    source                   CID  \\\n",
            "index                                                                        \n",
            "0      AIRAONOHNMWJKZ_on_P01116_WT    High  ChEMBL34  ChEMBL:CHEMBL5191782   \n",
            "1      AYYURYDKBCGXDD_on_P01116_WT    High  ChEMBL34  ChEMBL:CHEMBL3982443   \n",
            "2      AZFJASMBZUATSI_on_P01116_WT    High  ChEMBL34  ChEMBL:CHEMBL3932440   \n",
            "3      BYJMARHSXWNYIZ_on_P01116_WT    High  ChEMBL34  ChEMBL:CHEMBL5085395   \n",
            "4      CKAMBYUZKWQCKJ_on_P01116_WT    High  ChEMBL34  ChEMBL:CHEMBL5218642   \n",
            "\n",
            "                                                  SMILES    connectivity  \\\n",
            "index                                                                      \n",
            "0      COc1ccc(Cl)cc1-c1c(Cl)cc2c(N3CCN(C(=O)c4ccc([N...  AIRAONOHNMWJKZ   \n",
            "1      Nc1nc(=O)c2ncn(C3OC(COP(=O)(O)CS(=O)(=O)NCCNC(...  AYYURYDKBCGXDD   \n",
            "2      Nc1nc(=O)c2ncn(C3OC(COP(=O)(O)C(F)(F)P(=O)(O)O...  AZFJASMBZUATSI   \n",
            "3      CN1CCN(c2nc(OCC3CCCN3C)nc3c(F)c(-c4cc(O)cc5ccc...  BYJMARHSXWNYIZ   \n",
            "4      C=CC(=O)N1CCN(c2cc(-c3noc(C4(C)CCCc5sc(N)c(C#N...  CKAMBYUZKWQCKJ   \n",
            "\n",
            "                          InChIKey  \\\n",
            "index                                \n",
            "0      AIRAONOHNMWJKZ-UHFFFAOYSA-N   \n",
            "1      AYYURYDKBCGXDD-UHFFFAOYSA-N   \n",
            "2      AZFJASMBZUATSI-UHFFFAOYSA-N   \n",
            "3      BYJMARHSXWNYIZ-UHFFFAOYSA-N   \n",
            "4      CKAMBYUZKWQCKJ-UHFFFAOYSA-N   \n",
            "\n",
            "                                                   InChI  \\\n",
            "index                                                      \n",
            "0      InChI=1S/C24H18Cl2FN5O5/c1-36-17-3-2-13(25)10-...   \n",
            "1      InChI=1S/C15H23ClN7O10PS/c16-3-8(24)18-1-2-20-...   \n",
            "2      InChI=1S/C16H23ClF2N6O11P2/c17-4-8(26)21-2-1-3...   \n",
            "3      InChI=1S/C28H31FN6O2/c1-33-10-12-35(13-11-33)2...   \n",
            "4      InChI=1S/C30H37N9O2S/c1-5-25(40)38-12-10-37(11...   \n",
            "\n",
            "                                           InChI_AuxInfo  target_id  ...  \\\n",
            "index                                                                ...   \n",
            "0      AuxInfo=1/0/N:1,5,4,23,24,17,31,18,30,8,13,33,...  P01116_WT  ...   \n",
            "1      AuxInfo=1/1/N:24,23,28,13,8,18,12,26,6,30,32,3...  P01116_WT  ...   \n",
            "2      AuxInfo=1/1/N:26,27,25,31,13,8,12,29,6,33,35,3...  P01116_WT  ...   \n",
            "3      AuxInfo=1/0/N:1,16,29,30,13,28,12,31,14,3,37,4...  P01116_WT  ...   \n",
            "4      AuxInfo=1/0/N:1,39,17,36,2,19,20,18,34,7,41,6,...  P01116_WT  ...   \n",
            "\n",
            "      type_other Activity_class relation pchembl_value pchembl_value_Mean  \\\n",
            "index                                                                       \n",
            "0            NaN            NaN        =          7.01               7.01   \n",
            "1            NaN            NaN        =           5.8               5.80   \n",
            "2            NaN            NaN        =          6.42               6.42   \n",
            "3            NaN            NaN        =          5.21               5.21   \n",
            "4            NaN            NaN        =           5.6               5.60   \n",
            "\n",
            "       pchembl_value_StdDev pchembl_value_SEM pchembl_value_N  \\\n",
            "index                                                           \n",
            "0                       0.0               0.0             1.0   \n",
            "1                       0.0               0.0             1.0   \n",
            "2                       0.0               0.0             1.0   \n",
            "3                       0.0               0.0             1.0   \n",
            "4                       0.0               0.0             1.0   \n",
            "\n",
            "      pchembl_value_Median pchembl_value_MAD  \n",
            "index                                         \n",
            "0                     7.01               0.0  \n",
            "1                     5.80               0.0  \n",
            "2                     6.42               0.0  \n",
            "3                     5.21               0.0  \n",
            "4                     5.60               0.0  \n",
            "\n",
            "[5 rows x 32 columns]\n",
            "Index(['Activity_ID', 'Quality', 'source', 'CID', 'SMILES', 'connectivity',\n",
            "       'InChIKey', 'InChI', 'InChI_AuxInfo', 'target_id', 'TID', 'accession',\n",
            "       'Protein_Type', 'AID', 'doc_id', 'Year', 'all_doc_ids', 'all_years',\n",
            "       'type_IC50', 'type_EC50', 'type_KD', 'type_Ki', 'type_other',\n",
            "       'Activity_class', 'relation', 'pchembl_value', 'pchembl_value_Mean',\n",
            "       'pchembl_value_StdDev', 'pchembl_value_SEM', 'pchembl_value_N',\n",
            "       'pchembl_value_Median', 'pchembl_value_MAD'],\n",
            "      dtype='object')\n"
          ]
        }
      ]
    },
    {
      "cell_type": "code",
      "source": [
        "# 创建数据的副本\n",
        "data_copy = deepcopy(SLC6A4_data)\n"
      ],
      "metadata": {
        "id": "7LsIwrKA281S",
        "outputId": "ebf9442e-cc32-4c63-8940-f3a8728acf06",
        "colab": {
          "base_uri": "https://localhost:8080/",
          "height": 162
        }
      },
      "execution_count": 88,
      "outputs": [
        {
          "output_type": "error",
          "ename": "NameError",
          "evalue": "name 'deepcopy' is not defined",
          "traceback": [
            "\u001b[0;31m---------------------------------------------------------------------------\u001b[0m",
            "\u001b[0;31mNameError\u001b[0m                                 Traceback (most recent call last)",
            "\u001b[0;32m<ipython-input-88-889cf8382820>\u001b[0m in \u001b[0;36m<cell line: 2>\u001b[0;34m()\u001b[0m\n\u001b[1;32m      1\u001b[0m \u001b[0;31m# 创建数据的副本\u001b[0m\u001b[0;34m\u001b[0m\u001b[0;34m\u001b[0m\u001b[0m\n\u001b[0;32m----> 2\u001b[0;31m \u001b[0mdata_copy\u001b[0m \u001b[0;34m=\u001b[0m \u001b[0mdeepcopy\u001b[0m\u001b[0;34m(\u001b[0m\u001b[0mSLC6A4_data\u001b[0m\u001b[0;34m)\u001b[0m\u001b[0;34m\u001b[0m\u001b[0;34m\u001b[0m\u001b[0m\n\u001b[0m",
            "\u001b[0;31mNameError\u001b[0m: name 'deepcopy' is not defined"
          ]
        }
      ]
    },
    {
      "cell_type": "markdown",
      "metadata": {
        "id": "jl8mJtxV9rQs"
      },
      "source": [
        "We will first create a regression model predicting the average pActivity values of a compound-target pair (i.e. *pchembl_value_Mean*).<br/>\n",
        "Let's ensure the version below is that given to the *download_papyrus* function above."
      ]
    },
    {
      "cell_type": "code",
      "execution_count": 80,
      "metadata": {
        "id": "bNkSLe289rQs"
      },
      "outputs": [],
      "source": [
        "reg_model = xgboost.XGBRegressor(verbosity=0)"
      ]
    },
    {
      "cell_type": "code",
      "source": [
        "reg_results, trained_reg_model = qsar(\n",
        "    data=SLC6A4_data,\n",
        "    endpoint='pchembl_value_Mean',\n",
        "    verbose=True\n",
        ")"
      ],
      "metadata": {
        "id": "3SP0hlmN1Yv5",
        "outputId": "0d96620c-5a27-45e9-ec59-532023bd5285",
        "colab": {
          "base_uri": "https://localhost:8080/",
          "height": 461,
          "referenced_widgets": [
            "77794190eb29429fb286dc5e3af2809c",
            "557a59cf5175416392f1aec3c3d19ca9",
            "c51e9c056950423ba86df6091d7f5835",
            "84011d4e78344df18c83665d3b2277ce",
            "4795559ba4eb48c9ac24fa50c3f57cf0",
            "046c900e89504fd695113b11c8a228d4",
            "b877916e09bc40728b6a36e5c3d3cd81",
            "5cfa9e364edc41458073672da350dbae",
            "c05a14e4cf31449d965c43bddb80e12f",
            "f11eafeddcb841949ee1887c8a52a487",
            "a752231e32614a9d83a3e58d07b30280",
            "fea7302e52534271b0c81fcaae10d55e",
            "7a3c94a0327b4b92badd428dc779f78c",
            "2639e0150d5e4112871f05d506786dc7",
            "1849ac62d1694acaa361512b385bc4e0",
            "62b3444399054d72b44201b73923b9f0",
            "8b02fea62f634bd18af52e04f8d8701f",
            "9bc34407a8994b1f90398ee35c279393",
            "53520db7116c4a9aac48a733a0b3f9cf",
            "2c5a69bd45f84d85815cc7c0a0731382",
            "86b44f00c4944c38ac434b4adad00738",
            "6335d725ba754e7fb3637cb76e7ef070",
            "42beacec57e84dab8f0dc13da48d2179",
            "1ce93d827f4743379f28307dcdef2763",
            "223c9d7f421c4ca185cc41b198c23627",
            "9a3c2cda20424c288b8ce6f23980cfea",
            "a7671b55bcb94d17ad033aaffb008418",
            "fe483286505841bea9bebd97d5b62db6",
            "1ee3ad16b00144d282fcef74f5a0ceec",
            "533a7cfb801a4167b213bf53ae25a796",
            "13f141a0c27a4e65a2db6df05006aa30",
            "a90dc68cea9a4ab38025354d5c0981a5",
            "a76713592401498ea0e548679978d50e"
          ]
        }
      },
      "execution_count": 86,
      "outputs": [
        {
          "output_type": "display_data",
          "data": {
            "text/plain": [
              "Loading molecular descriptors: 0it [00:00, ?it/s]"
            ],
            "application/vnd.jupyter.widget-view+json": {
              "version_major": 2,
              "version_minor": 0,
              "model_id": "77794190eb29429fb286dc5e3af2809c"
            }
          },
          "metadata": {}
        },
        {
          "output_type": "display_data",
          "data": {
            "text/plain": [
              "Loading molecular descriptors: 0it [00:00, ?it/s]"
            ],
            "application/vnd.jupyter.widget-view+json": {
              "version_major": 2,
              "version_minor": 0,
              "model_id": "fea7302e52534271b0c81fcaae10d55e"
            }
          },
          "metadata": {}
        },
        {
          "output_type": "display_data",
          "data": {
            "text/plain": [
              "  0%|          | 0/1 [00:00<?, ?it/s]"
            ],
            "application/vnd.jupyter.widget-view+json": {
              "version_major": 2,
              "version_minor": 0,
              "model_id": "42beacec57e84dab8f0dc13da48d2179"
            }
          },
          "metadata": {}
        },
        {
          "output_type": "error",
          "ename": "KeyError",
          "evalue": "\"None of ['index'] are in the columns\"",
          "traceback": [
            "\u001b[0;31m---------------------------------------------------------------------------\u001b[0m",
            "\u001b[0;31mKeyError\u001b[0m                                  Traceback (most recent call last)",
            "\u001b[0;32m<ipython-input-86-2ba19c8bb509>\u001b[0m in \u001b[0;36m<cell line: 1>\u001b[0;34m()\u001b[0m\n\u001b[0;32m----> 1\u001b[0;31m reg_results, trained_reg_model = qsar(\n\u001b[0m\u001b[1;32m      2\u001b[0m     \u001b[0mdata\u001b[0m\u001b[0;34m=\u001b[0m\u001b[0mSLC6A4_data\u001b[0m\u001b[0;34m,\u001b[0m\u001b[0;34m\u001b[0m\u001b[0;34m\u001b[0m\u001b[0m\n\u001b[1;32m      3\u001b[0m     \u001b[0mendpoint\u001b[0m\u001b[0;34m=\u001b[0m\u001b[0;34m'pchembl_value_Mean'\u001b[0m\u001b[0;34m,\u001b[0m\u001b[0;34m\u001b[0m\u001b[0;34m\u001b[0m\u001b[0m\n\u001b[1;32m      4\u001b[0m     \u001b[0mverbose\u001b[0m\u001b[0;34m=\u001b[0m\u001b[0;32mTrue\u001b[0m\u001b[0;34m\u001b[0m\u001b[0;34m\u001b[0m\u001b[0m\n\u001b[1;32m      5\u001b[0m )\n",
            "\u001b[0;32m/usr/local/lib/python3.10/dist-packages/papyrus_scripts/modelling.py\u001b[0m in \u001b[0;36mqsar\u001b[0;34m(data, endpoint, num_points, delta_activity, version, descriptors, descriptor_path, descriptor_chunksize, activity_threshold, model, folds, stratify, split_by, split_year, test_set_size, cluster_method, custom_groups, scale, scale_method, yscramble, random_state, verbose)\u001b[0m\n\u001b[1;32m    625\u001b[0m     \u001b[0;32mif\u001b[0m \u001b[0mlen\u001b[0m\u001b[0;34m(\u001b[0m\u001b[0mresults\u001b[0m\u001b[0;34m)\u001b[0m \u001b[0;32mis\u001b[0m \u001b[0;32mFalse\u001b[0m\u001b[0;34m:\u001b[0m\u001b[0;34m\u001b[0m\u001b[0;34m\u001b[0m\u001b[0m\n\u001b[1;32m    626\u001b[0m         \u001b[0;32mreturn\u001b[0m \u001b[0mpd\u001b[0m\u001b[0;34m.\u001b[0m\u001b[0mDataFrame\u001b[0m\u001b[0;34m(\u001b[0m\u001b[0;34m)\u001b[0m\u001b[0;34m,\u001b[0m \u001b[0mreturn_val\u001b[0m\u001b[0;34m\u001b[0m\u001b[0;34m\u001b[0m\u001b[0m\n\u001b[0;32m--> 627\u001b[0;31m     \u001b[0mresults\u001b[0m \u001b[0;34m=\u001b[0m \u001b[0mpd\u001b[0m\u001b[0;34m.\u001b[0m\u001b[0mconcat\u001b[0m\u001b[0;34m(\u001b[0m\u001b[0mresults\u001b[0m\u001b[0;34m,\u001b[0m \u001b[0maxis\u001b[0m\u001b[0;34m=\u001b[0m\u001b[0;36m0\u001b[0m\u001b[0;34m)\u001b[0m\u001b[0;34m.\u001b[0m\u001b[0mset_index\u001b[0m\u001b[0;34m(\u001b[0m\u001b[0;34m[\u001b[0m\u001b[0;34m'target'\u001b[0m\u001b[0;34m,\u001b[0m \u001b[0;34m'index'\u001b[0m\u001b[0;34m]\u001b[0m\u001b[0;34m)\u001b[0m\u001b[0;34m\u001b[0m\u001b[0;34m\u001b[0m\u001b[0m\n\u001b[0m\u001b[1;32m    628\u001b[0m     \u001b[0mresults\u001b[0m\u001b[0;34m.\u001b[0m\u001b[0mindex\u001b[0m\u001b[0;34m.\u001b[0m\u001b[0mnames\u001b[0m \u001b[0;34m=\u001b[0m \u001b[0;34m[\u001b[0m\u001b[0;34m'target'\u001b[0m\u001b[0;34m,\u001b[0m \u001b[0;32mNone\u001b[0m\u001b[0;34m]\u001b[0m\u001b[0;34m\u001b[0m\u001b[0;34m\u001b[0m\u001b[0m\n\u001b[1;32m    629\u001b[0m     \u001b[0;32mreturn\u001b[0m \u001b[0mresults\u001b[0m\u001b[0;34m,\u001b[0m \u001b[0mreturn_val\u001b[0m\u001b[0;34m\u001b[0m\u001b[0;34m\u001b[0m\u001b[0m\n",
            "\u001b[0;32m/usr/local/lib/python3.10/dist-packages/pandas/core/frame.py\u001b[0m in \u001b[0;36mset_index\u001b[0;34m(self, keys, drop, append, inplace, verify_integrity)\u001b[0m\n\u001b[1;32m   6120\u001b[0m \u001b[0;34m\u001b[0m\u001b[0m\n\u001b[1;32m   6121\u001b[0m         \u001b[0;32mif\u001b[0m \u001b[0mmissing\u001b[0m\u001b[0;34m:\u001b[0m\u001b[0;34m\u001b[0m\u001b[0;34m\u001b[0m\u001b[0m\n\u001b[0;32m-> 6122\u001b[0;31m             \u001b[0;32mraise\u001b[0m \u001b[0mKeyError\u001b[0m\u001b[0;34m(\u001b[0m\u001b[0;34mf\"None of {missing} are in the columns\"\u001b[0m\u001b[0;34m)\u001b[0m\u001b[0;34m\u001b[0m\u001b[0;34m\u001b[0m\u001b[0m\n\u001b[0m\u001b[1;32m   6123\u001b[0m \u001b[0;34m\u001b[0m\u001b[0m\n\u001b[1;32m   6124\u001b[0m         \u001b[0;32mif\u001b[0m \u001b[0minplace\u001b[0m\u001b[0;34m:\u001b[0m\u001b[0;34m\u001b[0m\u001b[0;34m\u001b[0m\u001b[0m\n",
            "\u001b[0;31mKeyError\u001b[0m: \"None of ['index'] are in the columns\""
          ]
        }
      ]
    },
    {
      "cell_type": "code",
      "execution_count": 85,
      "metadata": {
        "colab": {
          "base_uri": "https://localhost:8080/",
          "height": 461,
          "referenced_widgets": [
            "e1bbf3f9f822491ebff4ad3c17c9bdb4",
            "389036bad93e4f338c2699b70a274c6f",
            "e47a1b17180845eaa1543c7aac2a9b13",
            "045885171df54abdb2f697bb86abf2a4",
            "814226a4f32042ae9a4ec75444ef4948",
            "e25fd877daec471e8ac6f7a627be2bcb",
            "674cf98e66fb43bd905ed5b3d52a1e17",
            "fb58056386b9481f948004a023d567fd",
            "3d9ecf64f9f34abc8854ffac9da7b699",
            "3d9bc94d887b471e8bbb1d91c2dab521",
            "68681773aad0410f8f0dff8fce76fcb7",
            "a0ec56e9e9df48028b5dac299cd01019",
            "486b3e250a5d4f1da5ee21378da9fd46",
            "1ae1141127ad440ebd1d83c0f309139c",
            "0e78d99b93804aad83ce1da312c30fc0",
            "016a7e31051c4712af0f0839b70a2933",
            "1f2a64e9bf90438dae610f5c587a8cfc",
            "cac01bbe99c74a2f9465fae8d14b1d12",
            "2cf6ca6d54814f6fba119201eae039c8",
            "45f086f3e5e244a7b01bc870fa1b2241",
            "d9ad16745aa543a3ba8b133b1c8fef78",
            "dd6a26799cf94e878f7839e77fa4f1f2",
            "c59fe1b369dd4e05a900b2b52c90d819",
            "cc21646b9ca04ce3b8bba918e9c3ee43",
            "3eaafdfbd7fb48f38f48012cb581852d",
            "00bcfe54fbeb4ff0bbe85cacba719d3f",
            "830ada1b324743e489b53ea5f7cc64c8",
            "84ecb605c9e24058978c0073a5cabd80",
            "56547c37b1324d55b2f768d12d0b941f",
            "90cbad0a322449d6ac9cceb5fff49ab1",
            "74992fd50aeb4f688c028c941a19ddd2",
            "4dd3ebcb096844f087d53924cdb32df0",
            "e59e694da2044603b0b1ada5d2fa8abb"
          ]
        },
        "id": "WXVUsDZo9rQs",
        "outputId": "df48ae96-787e-48d9-dc90-b64d5c1f87c6",
        "scrolled": true
      },
      "outputs": [
        {
          "output_type": "display_data",
          "data": {
            "text/plain": [
              "Loading molecular descriptors: 0it [00:00, ?it/s]"
            ],
            "application/vnd.jupyter.widget-view+json": {
              "version_major": 2,
              "version_minor": 0,
              "model_id": "e1bbf3f9f822491ebff4ad3c17c9bdb4"
            }
          },
          "metadata": {}
        },
        {
          "output_type": "display_data",
          "data": {
            "text/plain": [
              "Loading molecular descriptors: 0it [00:00, ?it/s]"
            ],
            "application/vnd.jupyter.widget-view+json": {
              "version_major": 2,
              "version_minor": 0,
              "model_id": "a0ec56e9e9df48028b5dac299cd01019"
            }
          },
          "metadata": {}
        },
        {
          "output_type": "display_data",
          "data": {
            "text/plain": [
              "  0%|          | 0/1 [00:00<?, ?it/s]"
            ],
            "application/vnd.jupyter.widget-view+json": {
              "version_major": 2,
              "version_minor": 0,
              "model_id": "c59fe1b369dd4e05a900b2b52c90d819"
            }
          },
          "metadata": {}
        },
        {
          "output_type": "error",
          "ename": "KeyError",
          "evalue": "\"None of ['index'] are in the columns\"",
          "traceback": [
            "\u001b[0;31m---------------------------------------------------------------------------\u001b[0m",
            "\u001b[0;31mKeyError\u001b[0m                                  Traceback (most recent call last)",
            "\u001b[0;32m<ipython-input-85-7f25e6b1fbe3>\u001b[0m in \u001b[0;36m<cell line: 1>\u001b[0;34m()\u001b[0m\n\u001b[0;32m----> 1\u001b[0;31m reg_results, trained_reg_model = qsar(\n\u001b[0m\u001b[1;32m      2\u001b[0m     \u001b[0mdata\u001b[0m\u001b[0;34m=\u001b[0m\u001b[0mSLC6A4_data\u001b[0m\u001b[0;34m,\u001b[0m\u001b[0;34m\u001b[0m\u001b[0;34m\u001b[0m\u001b[0m\n\u001b[1;32m      3\u001b[0m     \u001b[0mversion\u001b[0m\u001b[0;34m=\u001b[0m\u001b[0;34m'latest'\u001b[0m\u001b[0;34m,\u001b[0m\u001b[0;34m\u001b[0m\u001b[0;34m\u001b[0m\u001b[0m\n\u001b[1;32m      4\u001b[0m     \u001b[0mendpoint\u001b[0m\u001b[0;34m=\u001b[0m\u001b[0;34m'pchembl_value_Mean'\u001b[0m\u001b[0;34m,\u001b[0m\u001b[0;34m\u001b[0m\u001b[0;34m\u001b[0m\u001b[0m\n\u001b[1;32m      5\u001b[0m     \u001b[0mnum_points\u001b[0m\u001b[0;34m=\u001b[0m\u001b[0;36m20\u001b[0m\u001b[0;34m,\u001b[0m  \u001b[0;31m# 调整为较小的值\u001b[0m\u001b[0;34m\u001b[0m\u001b[0;34m\u001b[0m\u001b[0m\n",
            "\u001b[0;32m/usr/local/lib/python3.10/dist-packages/papyrus_scripts/modelling.py\u001b[0m in \u001b[0;36mqsar\u001b[0;34m(data, endpoint, num_points, delta_activity, version, descriptors, descriptor_path, descriptor_chunksize, activity_threshold, model, folds, stratify, split_by, split_year, test_set_size, cluster_method, custom_groups, scale, scale_method, yscramble, random_state, verbose)\u001b[0m\n\u001b[1;32m    625\u001b[0m     \u001b[0;32mif\u001b[0m \u001b[0mlen\u001b[0m\u001b[0;34m(\u001b[0m\u001b[0mresults\u001b[0m\u001b[0;34m)\u001b[0m \u001b[0;32mis\u001b[0m \u001b[0;32mFalse\u001b[0m\u001b[0;34m:\u001b[0m\u001b[0;34m\u001b[0m\u001b[0;34m\u001b[0m\u001b[0m\n\u001b[1;32m    626\u001b[0m         \u001b[0;32mreturn\u001b[0m \u001b[0mpd\u001b[0m\u001b[0;34m.\u001b[0m\u001b[0mDataFrame\u001b[0m\u001b[0;34m(\u001b[0m\u001b[0;34m)\u001b[0m\u001b[0;34m,\u001b[0m \u001b[0mreturn_val\u001b[0m\u001b[0;34m\u001b[0m\u001b[0;34m\u001b[0m\u001b[0m\n\u001b[0;32m--> 627\u001b[0;31m     \u001b[0mresults\u001b[0m \u001b[0;34m=\u001b[0m \u001b[0mpd\u001b[0m\u001b[0;34m.\u001b[0m\u001b[0mconcat\u001b[0m\u001b[0;34m(\u001b[0m\u001b[0mresults\u001b[0m\u001b[0;34m,\u001b[0m \u001b[0maxis\u001b[0m\u001b[0;34m=\u001b[0m\u001b[0;36m0\u001b[0m\u001b[0;34m)\u001b[0m\u001b[0;34m.\u001b[0m\u001b[0mset_index\u001b[0m\u001b[0;34m(\u001b[0m\u001b[0;34m[\u001b[0m\u001b[0;34m'target'\u001b[0m\u001b[0;34m,\u001b[0m \u001b[0;34m'index'\u001b[0m\u001b[0;34m]\u001b[0m\u001b[0;34m)\u001b[0m\u001b[0;34m\u001b[0m\u001b[0;34m\u001b[0m\u001b[0m\n\u001b[0m\u001b[1;32m    628\u001b[0m     \u001b[0mresults\u001b[0m\u001b[0;34m.\u001b[0m\u001b[0mindex\u001b[0m\u001b[0;34m.\u001b[0m\u001b[0mnames\u001b[0m \u001b[0;34m=\u001b[0m \u001b[0;34m[\u001b[0m\u001b[0;34m'target'\u001b[0m\u001b[0;34m,\u001b[0m \u001b[0;32mNone\u001b[0m\u001b[0;34m]\u001b[0m\u001b[0;34m\u001b[0m\u001b[0;34m\u001b[0m\u001b[0m\n\u001b[1;32m    629\u001b[0m     \u001b[0;32mreturn\u001b[0m \u001b[0mresults\u001b[0m\u001b[0;34m,\u001b[0m \u001b[0mreturn_val\u001b[0m\u001b[0;34m\u001b[0m\u001b[0;34m\u001b[0m\u001b[0m\n",
            "\u001b[0;32m/usr/local/lib/python3.10/dist-packages/pandas/core/frame.py\u001b[0m in \u001b[0;36mset_index\u001b[0;34m(self, keys, drop, append, inplace, verify_integrity)\u001b[0m\n\u001b[1;32m   6120\u001b[0m \u001b[0;34m\u001b[0m\u001b[0m\n\u001b[1;32m   6121\u001b[0m         \u001b[0;32mif\u001b[0m \u001b[0mmissing\u001b[0m\u001b[0;34m:\u001b[0m\u001b[0;34m\u001b[0m\u001b[0;34m\u001b[0m\u001b[0m\n\u001b[0;32m-> 6122\u001b[0;31m             \u001b[0;32mraise\u001b[0m \u001b[0mKeyError\u001b[0m\u001b[0;34m(\u001b[0m\u001b[0;34mf\"None of {missing} are in the columns\"\u001b[0m\u001b[0;34m)\u001b[0m\u001b[0;34m\u001b[0m\u001b[0;34m\u001b[0m\u001b[0m\n\u001b[0m\u001b[1;32m   6123\u001b[0m \u001b[0;34m\u001b[0m\u001b[0m\n\u001b[1;32m   6124\u001b[0m         \u001b[0;32mif\u001b[0m \u001b[0minplace\u001b[0m\u001b[0;34m:\u001b[0m\u001b[0;34m\u001b[0m\u001b[0;34m\u001b[0m\u001b[0m\n",
            "\u001b[0;31mKeyError\u001b[0m: \"None of ['index'] are in the columns\""
          ]
        }
      ],
      "source": [
        "reg_results, trained_reg_model = qsar(\n",
        "    data=SLC6A4_data,\n",
        "    version='latest',\n",
        "    endpoint='pchembl_value_Mean',\n",
        "    num_points=20,  # 调整为较小的值\n",
        "    delta_activity=1,  # 调整为较小的值\n",
        "    descriptors='mold2',\n",
        "    descriptor_chunksize=50000,\n",
        "    activity_threshold=5.0,  # 根据数据分布调整\n",
        "    model=reg_model,\n",
        "    folds=5,\n",
        "    stratify=False,\n",
        "    split_by='Year',\n",
        "    split_year=2013,\n",
        "    test_set_size=0.20,  # 调整为较小的值\n",
        "    cluster_method=None,\n",
        "    custom_groups=None,\n",
        "    random_state=1234,\n",
        "    verbose=True\n",
        ")"
      ]
    },
    {
      "cell_type": "code",
      "execution_count": null,
      "metadata": {
        "id": "70N2mZYg9rQt"
      },
      "outputs": [],
      "source": [
        "reg_results"
      ]
    },
    {
      "cell_type": "markdown",
      "metadata": {
        "id": "uDivxDxr9rQt"
      },
      "source": [
        "When looking at average R<sup>2</sup>, performance over cross-validation is correct but the model show very little capacity to predict the temporally split test set."
      ]
    },
    {
      "cell_type": "markdown",
      "metadata": {
        "id": "-Uw0xU9L9rQt"
      },
      "source": [
        "To train a classifier, all that is needed is to change the type of model."
      ]
    },
    {
      "cell_type": "code",
      "execution_count": null,
      "metadata": {
        "id": "pCAoIgId9rQt"
      },
      "outputs": [],
      "source": [
        "cls_model = xgboost.XGBClassifier(verbosity=0)"
      ]
    },
    {
      "cell_type": "code",
      "execution_count": null,
      "metadata": {
        "id": "a_vNaeYt9rQt"
      },
      "outputs": [],
      "source": [
        "cls_results, trained_cls_model = qsar(data=SLC6A4_data,\n",
        "                                      version='latest',\n",
        "                                      endpoint='pchembl_value_Mean',\n",
        "                                      num_points=30,\n",
        "                                      delta_activity=2,\n",
        "                                      descriptors='mold2',\n",
        "                                      descriptor_chunksize=50000,\n",
        "                                      activity_threshold=6.5,\n",
        "                                      model=cls_model,\n",
        "                                      folds=5,\n",
        "                                      stratify=False,\n",
        "                                      split_by='Year',\n",
        "                                      split_year=2013,\n",
        "                                      test_set_size=0.30,\n",
        "                                      cluster_method=None,\n",
        "                                      custom_groups=None,\n",
        "                                      random_state=1234,\n",
        "                                      verbose=True)"
      ]
    },
    {
      "cell_type": "code",
      "execution_count": null,
      "metadata": {
        "id": "Jt-4D5gd9rQu"
      },
      "outputs": [],
      "source": [
        "cls_results"
      ]
    },
    {
      "cell_type": "markdown",
      "metadata": {
        "id": "3H7bAh8f9rQu"
      },
      "source": [
        "Looking at the active to inactive ratio (i.e. A:N) one can clearly identify the reason of this low prediction performance over the test set.<br/>\n",
        "Oversampling and/or undersampling techniques could help the model better identify the boundary between actives and inactives in the mmecular descriptor space.<br/>\n",
        "However the use of such techniques is not the focus here."
      ]
    },
    {
      "cell_type": "markdown",
      "metadata": {
        "id": "kj6tiAD69rQu"
      },
      "source": [
        "### PCM models"
      ]
    },
    {
      "cell_type": "code",
      "execution_count": null,
      "metadata": {
        "id": "zk05kzZ99rQu"
      },
      "outputs": [],
      "source": [
        "from papyrus_scripts.modelling import pcm"
      ]
    },
    {
      "cell_type": "markdown",
      "metadata": {
        "id": "THMsKTiN9rQu"
      },
      "source": [
        "Let us see if including Rat data improves the quality of the model."
      ]
    },
    {
      "cell_type": "code",
      "execution_count": null,
      "metadata": {
        "id": "b9UwuDAW9rQu"
      },
      "outputs": [],
      "source": [
        "sample_data = read_papyrus(is3d=False, chunksize=1000000, source_path=None)\n",
        "filter1_it = keep_accession(sample_data, ['P31645', 'P31652'])\n",
        "filter2_it = keep_quality(data=filter1_it, min_quality='medium')\n",
        "filter3_it = keep_type(data=filter2_it, activity_types=['Ki', 'KD'])"
      ]
    },
    {
      "cell_type": "code",
      "execution_count": null,
      "metadata": {
        "id": "-qL70o2-9rQu"
      },
      "outputs": [],
      "source": [
        "SLC6A4_human_rat = consume_chunks(filter3_it, total=60)"
      ]
    },
    {
      "cell_type": "markdown",
      "metadata": {
        "id": "TsOIFSS_9rQv"
      },
      "source": [
        "Let's ensure the version below is that given to the *download_papyrus* function above."
      ]
    },
    {
      "cell_type": "code",
      "execution_count": null,
      "metadata": {
        "id": "EJ7fNYx69rQv"
      },
      "outputs": [],
      "source": [
        "pcm_reg_model = xgboost.XGBRegressor(verbosity=0)"
      ]
    },
    {
      "cell_type": "code",
      "execution_count": null,
      "metadata": {
        "id": "ogjKLxOr9rQv"
      },
      "outputs": [],
      "source": [
        "pcm_reg_results, pcm_reg_trained_model = pcm(data=SLC6A4_human_rat,\n",
        "                                             version='latest',\n",
        "                                             endpoint='pchembl_value_Mean',\n",
        "                                             num_points=30,\n",
        "                                             delta_activity=2,\n",
        "                                             mol_descriptors='mold2',\n",
        "                                             mol_descriptor_chunksize=50000,\n",
        "                                             prot_descriptors='unirep',\n",
        "                                             prot_descriptor_chunksize=50000,\n",
        "                                             activity_threshold=6.5,\n",
        "                                             model=pcm_reg_model,\n",
        "                                             folds=5,\n",
        "                                             stratify=False,\n",
        "                                             split_by='Year',\n",
        "                                             split_year=2013,\n",
        "                                             test_set_size=0.30,\n",
        "                                             cluster_method=None,\n",
        "                                             custom_groups=None,\n",
        "                                             random_state=1234,\n",
        "                                             verbose=True)"
      ]
    },
    {
      "cell_type": "code",
      "execution_count": null,
      "metadata": {
        "id": "-8flzUgc9rQv"
      },
      "outputs": [],
      "source": [
        "pcm_reg_results"
      ]
    },
    {
      "cell_type": "markdown",
      "metadata": {
        "id": "wO3DbXNg9rQv"
      },
      "source": [
        "As with QSAR models, training a classifier is a matter of changing the underlying model to be used."
      ]
    },
    {
      "cell_type": "code",
      "execution_count": null,
      "metadata": {
        "id": "CY6oehW09rQv"
      },
      "outputs": [],
      "source": [
        "pcm_cls_model = xgboost.XGBClassifier(verbosity=0)"
      ]
    },
    {
      "cell_type": "code",
      "execution_count": null,
      "metadata": {
        "id": "dn8RIx_b9rQw"
      },
      "outputs": [],
      "source": [
        "pcm_cls_results, pcm_cls_trained_model = pcm(data=SLC6A4_human_rat,\n",
        "                                             version='latest',\n",
        "                                             endpoint='pchembl_value_Mean',\n",
        "                                             num_points=30,\n",
        "                                             delta_activity=2,\n",
        "                                             mol_descriptors='mold2',\n",
        "                                             mol_descriptor_chunksize=50000,\n",
        "                                             prot_descriptors='unirep',\n",
        "                                             prot_descriptor_chunksize=50000,\n",
        "                                             activity_threshold=6.5,\n",
        "                                             model=pcm_cls_model,\n",
        "                                             folds=5,\n",
        "                                             stratify=False,\n",
        "                                             split_by='Year',\n",
        "                                             split_year=2013,\n",
        "                                             test_set_size=0.30,\n",
        "                                             cluster_method=None,\n",
        "                                             custom_groups=None,\n",
        "                                             random_state=1234,\n",
        "                                             verbose=True)"
      ]
    },
    {
      "cell_type": "code",
      "execution_count": null,
      "metadata": {
        "id": "-16AwbtP9rQw"
      },
      "outputs": [],
      "source": [
        "pcm_cls_results"
      ]
    },
    {
      "cell_type": "code",
      "execution_count": null,
      "metadata": {
        "id": "ZHyQQ5Tz9rQw"
      },
      "outputs": [],
      "source": [
        ""
      ]
    }
  ],
  "metadata": {
    "colab": {
      "name": "simple_examples.ipynb",
      "provenance": [],
      "collapsed_sections": [
        "7-oyiKxA9rQg",
        "dHnbcLOi9rQj",
        "8koFdnjI9rQl",
        "0mKEl6hV9rQo"
      ]
    },
    "kernelspec": {
      "display_name": "Python 3 (ipykernel)",
      "language": "python",
      "name": "python3"
    },
    "language_info": {
      "codemirror_mode": {
        "name": "ipython",
        "version": 3
      },
      "file_extension": ".py",
      "mimetype": "text/x-python",
      "name": "python",
      "nbconvert_exporter": "python",
      "pygments_lexer": "ipython3",
      "version": "3.9.12"
    },
    "widgets": {
      "application/vnd.jupyter.widget-state+json": {
        "fa89f46f1bf84328810e2509cac59a67": {
          "model_module": "@jupyter-widgets/controls",
          "model_name": "HBoxModel",
          "model_module_version": "1.5.0",
          "state": {
            "_dom_classes": [],
            "_model_module": "@jupyter-widgets/controls",
            "_model_module_version": "1.5.0",
            "_model_name": "HBoxModel",
            "_view_count": null,
            "_view_module": "@jupyter-widgets/controls",
            "_view_module_version": "1.5.0",
            "_view_name": "HBoxView",
            "box_style": "",
            "children": [
              "IPY_MODEL_cdee56e016b849cfa8caef2c089c6bfd",
              "IPY_MODEL_c678960d917b416b920f91caba1d00c2",
              "IPY_MODEL_a54e8bee7d2549fbab70f51521e6ad3e"
            ],
            "layout": "IPY_MODEL_346f7153bd314df2a43c0f9302d9ede9"
          }
        },
        "cdee56e016b849cfa8caef2c089c6bfd": {
          "model_module": "@jupyter-widgets/controls",
          "model_name": "HTMLModel",
          "model_module_version": "1.5.0",
          "state": {
            "_dom_classes": [],
            "_model_module": "@jupyter-widgets/controls",
            "_model_module_version": "1.5.0",
            "_model_name": "HTMLModel",
            "_view_count": null,
            "_view_module": "@jupyter-widgets/controls",
            "_view_module_version": "1.5.0",
            "_view_name": "HTMLView",
            "description": "",
            "description_tooltip": null,
            "layout": "IPY_MODEL_74a7845bbf5e49d99c8792bde696a78b",
            "placeholder": "​",
            "style": "IPY_MODEL_c2da829092a64d3ea7238f3e134df5cd",
            "value": "Downloading version 05.7: 100%"
          }
        },
        "c678960d917b416b920f91caba1d00c2": {
          "model_module": "@jupyter-widgets/controls",
          "model_name": "FloatProgressModel",
          "model_module_version": "1.5.0",
          "state": {
            "_dom_classes": [],
            "_model_module": "@jupyter-widgets/controls",
            "_model_module_version": "1.5.0",
            "_model_name": "FloatProgressModel",
            "_view_count": null,
            "_view_module": "@jupyter-widgets/controls",
            "_view_module_version": "1.5.0",
            "_view_name": "ProgressView",
            "bar_style": "success",
            "description": "",
            "description_tooltip": null,
            "layout": "IPY_MODEL_88aa632987304eafb4ad3c1214b4fbca",
            "max": 2262250458,
            "min": 0,
            "orientation": "horizontal",
            "style": "IPY_MODEL_32ffd6bfff5842f0952e960cd4b27bf3",
            "value": 2262250458
          }
        },
        "a54e8bee7d2549fbab70f51521e6ad3e": {
          "model_module": "@jupyter-widgets/controls",
          "model_name": "HTMLModel",
          "model_module_version": "1.5.0",
          "state": {
            "_dom_classes": [],
            "_model_module": "@jupyter-widgets/controls",
            "_model_module_version": "1.5.0",
            "_model_name": "HTMLModel",
            "_view_count": null,
            "_view_module": "@jupyter-widgets/controls",
            "_view_module_version": "1.5.0",
            "_view_name": "HTMLView",
            "description": "",
            "description_tooltip": null,
            "layout": "IPY_MODEL_0ddddbee098c4e9ea92231c4520db989",
            "placeholder": "​",
            "style": "IPY_MODEL_8022713681a24bf6ab1c252b49a0ac9e",
            "value": " 2.26G/2.26G [00:09&lt;00:00, 233MB/s]"
          }
        },
        "346f7153bd314df2a43c0f9302d9ede9": {
          "model_module": "@jupyter-widgets/base",
          "model_name": "LayoutModel",
          "model_module_version": "1.2.0",
          "state": {
            "_model_module": "@jupyter-widgets/base",
            "_model_module_version": "1.2.0",
            "_model_name": "LayoutModel",
            "_view_count": null,
            "_view_module": "@jupyter-widgets/base",
            "_view_module_version": "1.2.0",
            "_view_name": "LayoutView",
            "align_content": null,
            "align_items": null,
            "align_self": null,
            "border": null,
            "bottom": null,
            "display": null,
            "flex": null,
            "flex_flow": null,
            "grid_area": null,
            "grid_auto_columns": null,
            "grid_auto_flow": null,
            "grid_auto_rows": null,
            "grid_column": null,
            "grid_gap": null,
            "grid_row": null,
            "grid_template_areas": null,
            "grid_template_columns": null,
            "grid_template_rows": null,
            "height": null,
            "justify_content": null,
            "justify_items": null,
            "left": null,
            "margin": null,
            "max_height": null,
            "max_width": null,
            "min_height": null,
            "min_width": null,
            "object_fit": null,
            "object_position": null,
            "order": null,
            "overflow": null,
            "overflow_x": null,
            "overflow_y": null,
            "padding": null,
            "right": null,
            "top": null,
            "visibility": null,
            "width": null
          }
        },
        "74a7845bbf5e49d99c8792bde696a78b": {
          "model_module": "@jupyter-widgets/base",
          "model_name": "LayoutModel",
          "model_module_version": "1.2.0",
          "state": {
            "_model_module": "@jupyter-widgets/base",
            "_model_module_version": "1.2.0",
            "_model_name": "LayoutModel",
            "_view_count": null,
            "_view_module": "@jupyter-widgets/base",
            "_view_module_version": "1.2.0",
            "_view_name": "LayoutView",
            "align_content": null,
            "align_items": null,
            "align_self": null,
            "border": null,
            "bottom": null,
            "display": null,
            "flex": null,
            "flex_flow": null,
            "grid_area": null,
            "grid_auto_columns": null,
            "grid_auto_flow": null,
            "grid_auto_rows": null,
            "grid_column": null,
            "grid_gap": null,
            "grid_row": null,
            "grid_template_areas": null,
            "grid_template_columns": null,
            "grid_template_rows": null,
            "height": null,
            "justify_content": null,
            "justify_items": null,
            "left": null,
            "margin": null,
            "max_height": null,
            "max_width": null,
            "min_height": null,
            "min_width": null,
            "object_fit": null,
            "object_position": null,
            "order": null,
            "overflow": null,
            "overflow_x": null,
            "overflow_y": null,
            "padding": null,
            "right": null,
            "top": null,
            "visibility": null,
            "width": null
          }
        },
        "c2da829092a64d3ea7238f3e134df5cd": {
          "model_module": "@jupyter-widgets/controls",
          "model_name": "DescriptionStyleModel",
          "model_module_version": "1.5.0",
          "state": {
            "_model_module": "@jupyter-widgets/controls",
            "_model_module_version": "1.5.0",
            "_model_name": "DescriptionStyleModel",
            "_view_count": null,
            "_view_module": "@jupyter-widgets/base",
            "_view_module_version": "1.2.0",
            "_view_name": "StyleView",
            "description_width": ""
          }
        },
        "88aa632987304eafb4ad3c1214b4fbca": {
          "model_module": "@jupyter-widgets/base",
          "model_name": "LayoutModel",
          "model_module_version": "1.2.0",
          "state": {
            "_model_module": "@jupyter-widgets/base",
            "_model_module_version": "1.2.0",
            "_model_name": "LayoutModel",
            "_view_count": null,
            "_view_module": "@jupyter-widgets/base",
            "_view_module_version": "1.2.0",
            "_view_name": "LayoutView",
            "align_content": null,
            "align_items": null,
            "align_self": null,
            "border": null,
            "bottom": null,
            "display": null,
            "flex": null,
            "flex_flow": null,
            "grid_area": null,
            "grid_auto_columns": null,
            "grid_auto_flow": null,
            "grid_auto_rows": null,
            "grid_column": null,
            "grid_gap": null,
            "grid_row": null,
            "grid_template_areas": null,
            "grid_template_columns": null,
            "grid_template_rows": null,
            "height": null,
            "justify_content": null,
            "justify_items": null,
            "left": null,
            "margin": null,
            "max_height": null,
            "max_width": null,
            "min_height": null,
            "min_width": null,
            "object_fit": null,
            "object_position": null,
            "order": null,
            "overflow": null,
            "overflow_x": null,
            "overflow_y": null,
            "padding": null,
            "right": null,
            "top": null,
            "visibility": null,
            "width": null
          }
        },
        "32ffd6bfff5842f0952e960cd4b27bf3": {
          "model_module": "@jupyter-widgets/controls",
          "model_name": "ProgressStyleModel",
          "model_module_version": "1.5.0",
          "state": {
            "_model_module": "@jupyter-widgets/controls",
            "_model_module_version": "1.5.0",
            "_model_name": "ProgressStyleModel",
            "_view_count": null,
            "_view_module": "@jupyter-widgets/base",
            "_view_module_version": "1.2.0",
            "_view_name": "StyleView",
            "bar_color": null,
            "description_width": ""
          }
        },
        "0ddddbee098c4e9ea92231c4520db989": {
          "model_module": "@jupyter-widgets/base",
          "model_name": "LayoutModel",
          "model_module_version": "1.2.0",
          "state": {
            "_model_module": "@jupyter-widgets/base",
            "_model_module_version": "1.2.0",
            "_model_name": "LayoutModel",
            "_view_count": null,
            "_view_module": "@jupyter-widgets/base",
            "_view_module_version": "1.2.0",
            "_view_name": "LayoutView",
            "align_content": null,
            "align_items": null,
            "align_self": null,
            "border": null,
            "bottom": null,
            "display": null,
            "flex": null,
            "flex_flow": null,
            "grid_area": null,
            "grid_auto_columns": null,
            "grid_auto_flow": null,
            "grid_auto_rows": null,
            "grid_column": null,
            "grid_gap": null,
            "grid_row": null,
            "grid_template_areas": null,
            "grid_template_columns": null,
            "grid_template_rows": null,
            "height": null,
            "justify_content": null,
            "justify_items": null,
            "left": null,
            "margin": null,
            "max_height": null,
            "max_width": null,
            "min_height": null,
            "min_width": null,
            "object_fit": null,
            "object_position": null,
            "order": null,
            "overflow": null,
            "overflow_x": null,
            "overflow_y": null,
            "padding": null,
            "right": null,
            "top": null,
            "visibility": null,
            "width": null
          }
        },
        "8022713681a24bf6ab1c252b49a0ac9e": {
          "model_module": "@jupyter-widgets/controls",
          "model_name": "DescriptionStyleModel",
          "model_module_version": "1.5.0",
          "state": {
            "_model_module": "@jupyter-widgets/controls",
            "_model_module_version": "1.5.0",
            "_model_name": "DescriptionStyleModel",
            "_view_count": null,
            "_view_module": "@jupyter-widgets/base",
            "_view_module_version": "1.2.0",
            "_view_name": "StyleView",
            "description_width": ""
          }
        },
        "8d92b9aacf9c43dd81b1a546b7abc0b4": {
          "model_module": "@jupyter-widgets/controls",
          "model_name": "HBoxModel",
          "model_module_version": "1.5.0",
          "state": {
            "_dom_classes": [],
            "_model_module": "@jupyter-widgets/controls",
            "_model_module_version": "1.5.0",
            "_model_name": "HBoxModel",
            "_view_count": null,
            "_view_module": "@jupyter-widgets/controls",
            "_view_module_version": "1.5.0",
            "_view_name": "HBoxView",
            "box_style": "",
            "children": [
              "IPY_MODEL_f99b09948d3c454abab73c5d83f3a707",
              "IPY_MODEL_11341f35aa3743338c7649c11dd5db1c",
              "IPY_MODEL_694120a7969e44bdac4029d2eb8481c0"
            ],
            "layout": "IPY_MODEL_10656867d05d44e394e99a06bbc27afe"
          }
        },
        "f99b09948d3c454abab73c5d83f3a707": {
          "model_module": "@jupyter-widgets/controls",
          "model_name": "HTMLModel",
          "model_module_version": "1.5.0",
          "state": {
            "_dom_classes": [],
            "_model_module": "@jupyter-widgets/controls",
            "_model_module_version": "1.5.0",
            "_model_name": "HTMLModel",
            "_view_count": null,
            "_view_module": "@jupyter-widgets/controls",
            "_view_module_version": "1.5.0",
            "_view_name": "HTMLView",
            "description": "",
            "description_tooltip": null,
            "layout": "IPY_MODEL_0915f20799be4c50a7ed8b4ebb73326e",
            "placeholder": "​",
            "style": "IPY_MODEL_363aca8e133e4bf3ae7dbf7daf375ee6",
            "value": "  2%"
          }
        },
        "11341f35aa3743338c7649c11dd5db1c": {
          "model_module": "@jupyter-widgets/controls",
          "model_name": "FloatProgressModel",
          "model_module_version": "1.5.0",
          "state": {
            "_dom_classes": [],
            "_model_module": "@jupyter-widgets/controls",
            "_model_module_version": "1.5.0",
            "_model_name": "FloatProgressModel",
            "_view_count": null,
            "_view_module": "@jupyter-widgets/controls",
            "_view_module_version": "1.5.0",
            "_view_name": "ProgressView",
            "bar_style": "danger",
            "description": "",
            "description_tooltip": null,
            "layout": "IPY_MODEL_7d3271209fbc45899092eca1eb7c26a6",
            "max": 60,
            "min": 0,
            "orientation": "horizontal",
            "style": "IPY_MODEL_1ac899d765d549ee9489b3d0d9f3fcdc",
            "value": 1
          }
        },
        "694120a7969e44bdac4029d2eb8481c0": {
          "model_module": "@jupyter-widgets/controls",
          "model_name": "HTMLModel",
          "model_module_version": "1.5.0",
          "state": {
            "_dom_classes": [],
            "_model_module": "@jupyter-widgets/controls",
            "_model_module_version": "1.5.0",
            "_model_name": "HTMLModel",
            "_view_count": null,
            "_view_module": "@jupyter-widgets/controls",
            "_view_module_version": "1.5.0",
            "_view_name": "HTMLView",
            "description": "",
            "description_tooltip": null,
            "layout": "IPY_MODEL_4003d11d736440209137bfacd0a476a3",
            "placeholder": "​",
            "style": "IPY_MODEL_acf6c88321e34c67b28b6dfff76ec417",
            "value": " 1/60 [00:42&lt;41:18, 42.01s/it]"
          }
        },
        "10656867d05d44e394e99a06bbc27afe": {
          "model_module": "@jupyter-widgets/base",
          "model_name": "LayoutModel",
          "model_module_version": "1.2.0",
          "state": {
            "_model_module": "@jupyter-widgets/base",
            "_model_module_version": "1.2.0",
            "_model_name": "LayoutModel",
            "_view_count": null,
            "_view_module": "@jupyter-widgets/base",
            "_view_module_version": "1.2.0",
            "_view_name": "LayoutView",
            "align_content": null,
            "align_items": null,
            "align_self": null,
            "border": null,
            "bottom": null,
            "display": null,
            "flex": null,
            "flex_flow": null,
            "grid_area": null,
            "grid_auto_columns": null,
            "grid_auto_flow": null,
            "grid_auto_rows": null,
            "grid_column": null,
            "grid_gap": null,
            "grid_row": null,
            "grid_template_areas": null,
            "grid_template_columns": null,
            "grid_template_rows": null,
            "height": null,
            "justify_content": null,
            "justify_items": null,
            "left": null,
            "margin": null,
            "max_height": null,
            "max_width": null,
            "min_height": null,
            "min_width": null,
            "object_fit": null,
            "object_position": null,
            "order": null,
            "overflow": null,
            "overflow_x": null,
            "overflow_y": null,
            "padding": null,
            "right": null,
            "top": null,
            "visibility": null,
            "width": null
          }
        },
        "0915f20799be4c50a7ed8b4ebb73326e": {
          "model_module": "@jupyter-widgets/base",
          "model_name": "LayoutModel",
          "model_module_version": "1.2.0",
          "state": {
            "_model_module": "@jupyter-widgets/base",
            "_model_module_version": "1.2.0",
            "_model_name": "LayoutModel",
            "_view_count": null,
            "_view_module": "@jupyter-widgets/base",
            "_view_module_version": "1.2.0",
            "_view_name": "LayoutView",
            "align_content": null,
            "align_items": null,
            "align_self": null,
            "border": null,
            "bottom": null,
            "display": null,
            "flex": null,
            "flex_flow": null,
            "grid_area": null,
            "grid_auto_columns": null,
            "grid_auto_flow": null,
            "grid_auto_rows": null,
            "grid_column": null,
            "grid_gap": null,
            "grid_row": null,
            "grid_template_areas": null,
            "grid_template_columns": null,
            "grid_template_rows": null,
            "height": null,
            "justify_content": null,
            "justify_items": null,
            "left": null,
            "margin": null,
            "max_height": null,
            "max_width": null,
            "min_height": null,
            "min_width": null,
            "object_fit": null,
            "object_position": null,
            "order": null,
            "overflow": null,
            "overflow_x": null,
            "overflow_y": null,
            "padding": null,
            "right": null,
            "top": null,
            "visibility": null,
            "width": null
          }
        },
        "363aca8e133e4bf3ae7dbf7daf375ee6": {
          "model_module": "@jupyter-widgets/controls",
          "model_name": "DescriptionStyleModel",
          "model_module_version": "1.5.0",
          "state": {
            "_model_module": "@jupyter-widgets/controls",
            "_model_module_version": "1.5.0",
            "_model_name": "DescriptionStyleModel",
            "_view_count": null,
            "_view_module": "@jupyter-widgets/base",
            "_view_module_version": "1.2.0",
            "_view_name": "StyleView",
            "description_width": ""
          }
        },
        "7d3271209fbc45899092eca1eb7c26a6": {
          "model_module": "@jupyter-widgets/base",
          "model_name": "LayoutModel",
          "model_module_version": "1.2.0",
          "state": {
            "_model_module": "@jupyter-widgets/base",
            "_model_module_version": "1.2.0",
            "_model_name": "LayoutModel",
            "_view_count": null,
            "_view_module": "@jupyter-widgets/base",
            "_view_module_version": "1.2.0",
            "_view_name": "LayoutView",
            "align_content": null,
            "align_items": null,
            "align_self": null,
            "border": null,
            "bottom": null,
            "display": null,
            "flex": null,
            "flex_flow": null,
            "grid_area": null,
            "grid_auto_columns": null,
            "grid_auto_flow": null,
            "grid_auto_rows": null,
            "grid_column": null,
            "grid_gap": null,
            "grid_row": null,
            "grid_template_areas": null,
            "grid_template_columns": null,
            "grid_template_rows": null,
            "height": null,
            "justify_content": null,
            "justify_items": null,
            "left": null,
            "margin": null,
            "max_height": null,
            "max_width": null,
            "min_height": null,
            "min_width": null,
            "object_fit": null,
            "object_position": null,
            "order": null,
            "overflow": null,
            "overflow_x": null,
            "overflow_y": null,
            "padding": null,
            "right": null,
            "top": null,
            "visibility": null,
            "width": null
          }
        },
        "1ac899d765d549ee9489b3d0d9f3fcdc": {
          "model_module": "@jupyter-widgets/controls",
          "model_name": "ProgressStyleModel",
          "model_module_version": "1.5.0",
          "state": {
            "_model_module": "@jupyter-widgets/controls",
            "_model_module_version": "1.5.0",
            "_model_name": "ProgressStyleModel",
            "_view_count": null,
            "_view_module": "@jupyter-widgets/base",
            "_view_module_version": "1.2.0",
            "_view_name": "StyleView",
            "bar_color": null,
            "description_width": ""
          }
        },
        "4003d11d736440209137bfacd0a476a3": {
          "model_module": "@jupyter-widgets/base",
          "model_name": "LayoutModel",
          "model_module_version": "1.2.0",
          "state": {
            "_model_module": "@jupyter-widgets/base",
            "_model_module_version": "1.2.0",
            "_model_name": "LayoutModel",
            "_view_count": null,
            "_view_module": "@jupyter-widgets/base",
            "_view_module_version": "1.2.0",
            "_view_name": "LayoutView",
            "align_content": null,
            "align_items": null,
            "align_self": null,
            "border": null,
            "bottom": null,
            "display": null,
            "flex": null,
            "flex_flow": null,
            "grid_area": null,
            "grid_auto_columns": null,
            "grid_auto_flow": null,
            "grid_auto_rows": null,
            "grid_column": null,
            "grid_gap": null,
            "grid_row": null,
            "grid_template_areas": null,
            "grid_template_columns": null,
            "grid_template_rows": null,
            "height": null,
            "justify_content": null,
            "justify_items": null,
            "left": null,
            "margin": null,
            "max_height": null,
            "max_width": null,
            "min_height": null,
            "min_width": null,
            "object_fit": null,
            "object_position": null,
            "order": null,
            "overflow": null,
            "overflow_x": null,
            "overflow_y": null,
            "padding": null,
            "right": null,
            "top": null,
            "visibility": null,
            "width": null
          }
        },
        "acf6c88321e34c67b28b6dfff76ec417": {
          "model_module": "@jupyter-widgets/controls",
          "model_name": "DescriptionStyleModel",
          "model_module_version": "1.5.0",
          "state": {
            "_model_module": "@jupyter-widgets/controls",
            "_model_module_version": "1.5.0",
            "_model_name": "DescriptionStyleModel",
            "_view_count": null,
            "_view_module": "@jupyter-widgets/base",
            "_view_module_version": "1.2.0",
            "_view_name": "StyleView",
            "description_width": ""
          }
        },
        "e38e166e73ac4c7da9a1ae67c6c85352": {
          "model_module": "@jupyter-widgets/controls",
          "model_name": "HBoxModel",
          "model_module_version": "1.5.0",
          "state": {
            "_dom_classes": [],
            "_model_module": "@jupyter-widgets/controls",
            "_model_module_version": "1.5.0",
            "_model_name": "HBoxModel",
            "_view_count": null,
            "_view_module": "@jupyter-widgets/controls",
            "_view_module_version": "1.5.0",
            "_view_name": "HBoxView",
            "box_style": "",
            "children": [
              "IPY_MODEL_8f663751d8ac471088f81d63df39445e",
              "IPY_MODEL_c5aa364bff2f492da7339ea1def671bf",
              "IPY_MODEL_fd8250cf4f2f49aca0994228707129e0"
            ],
            "layout": "IPY_MODEL_f6527b401dcb47e49b61e1bedd61733c"
          }
        },
        "8f663751d8ac471088f81d63df39445e": {
          "model_module": "@jupyter-widgets/controls",
          "model_name": "HTMLModel",
          "model_module_version": "1.5.0",
          "state": {
            "_dom_classes": [],
            "_model_module": "@jupyter-widgets/controls",
            "_model_module_version": "1.5.0",
            "_model_name": "HTMLModel",
            "_view_count": null,
            "_view_module": "@jupyter-widgets/controls",
            "_view_module_version": "1.5.0",
            "_view_name": "HTMLView",
            "description": "",
            "description_tooltip": null,
            "layout": "IPY_MODEL_bc532b97c0b8463e9f7d998eb0ca45a6",
            "placeholder": "​",
            "style": "IPY_MODEL_7786158daec4482d805c01082fd8e226",
            "value": "  2%"
          }
        },
        "c5aa364bff2f492da7339ea1def671bf": {
          "model_module": "@jupyter-widgets/controls",
          "model_name": "FloatProgressModel",
          "model_module_version": "1.5.0",
          "state": {
            "_dom_classes": [],
            "_model_module": "@jupyter-widgets/controls",
            "_model_module_version": "1.5.0",
            "_model_name": "FloatProgressModel",
            "_view_count": null,
            "_view_module": "@jupyter-widgets/controls",
            "_view_module_version": "1.5.0",
            "_view_name": "ProgressView",
            "bar_style": "danger",
            "description": "",
            "description_tooltip": null,
            "layout": "IPY_MODEL_7ceaacce411c4888aebbc8daae5639da",
            "max": 60,
            "min": 0,
            "orientation": "horizontal",
            "style": "IPY_MODEL_f148ca8aba8c486584fc967ca3579533",
            "value": 1
          }
        },
        "fd8250cf4f2f49aca0994228707129e0": {
          "model_module": "@jupyter-widgets/controls",
          "model_name": "HTMLModel",
          "model_module_version": "1.5.0",
          "state": {
            "_dom_classes": [],
            "_model_module": "@jupyter-widgets/controls",
            "_model_module_version": "1.5.0",
            "_model_name": "HTMLModel",
            "_view_count": null,
            "_view_module": "@jupyter-widgets/controls",
            "_view_module_version": "1.5.0",
            "_view_name": "HTMLView",
            "description": "",
            "description_tooltip": null,
            "layout": "IPY_MODEL_e090230980f84d8799dec7e75352d6b4",
            "placeholder": "​",
            "style": "IPY_MODEL_a3ddc0c5a7b941d5bd17e17308f4c1b5",
            "value": " 1/60 [00:18&lt;18:11, 18.50s/it]"
          }
        },
        "f6527b401dcb47e49b61e1bedd61733c": {
          "model_module": "@jupyter-widgets/base",
          "model_name": "LayoutModel",
          "model_module_version": "1.2.0",
          "state": {
            "_model_module": "@jupyter-widgets/base",
            "_model_module_version": "1.2.0",
            "_model_name": "LayoutModel",
            "_view_count": null,
            "_view_module": "@jupyter-widgets/base",
            "_view_module_version": "1.2.0",
            "_view_name": "LayoutView",
            "align_content": null,
            "align_items": null,
            "align_self": null,
            "border": null,
            "bottom": null,
            "display": null,
            "flex": null,
            "flex_flow": null,
            "grid_area": null,
            "grid_auto_columns": null,
            "grid_auto_flow": null,
            "grid_auto_rows": null,
            "grid_column": null,
            "grid_gap": null,
            "grid_row": null,
            "grid_template_areas": null,
            "grid_template_columns": null,
            "grid_template_rows": null,
            "height": null,
            "justify_content": null,
            "justify_items": null,
            "left": null,
            "margin": null,
            "max_height": null,
            "max_width": null,
            "min_height": null,
            "min_width": null,
            "object_fit": null,
            "object_position": null,
            "order": null,
            "overflow": null,
            "overflow_x": null,
            "overflow_y": null,
            "padding": null,
            "right": null,
            "top": null,
            "visibility": null,
            "width": null
          }
        },
        "bc532b97c0b8463e9f7d998eb0ca45a6": {
          "model_module": "@jupyter-widgets/base",
          "model_name": "LayoutModel",
          "model_module_version": "1.2.0",
          "state": {
            "_model_module": "@jupyter-widgets/base",
            "_model_module_version": "1.2.0",
            "_model_name": "LayoutModel",
            "_view_count": null,
            "_view_module": "@jupyter-widgets/base",
            "_view_module_version": "1.2.0",
            "_view_name": "LayoutView",
            "align_content": null,
            "align_items": null,
            "align_self": null,
            "border": null,
            "bottom": null,
            "display": null,
            "flex": null,
            "flex_flow": null,
            "grid_area": null,
            "grid_auto_columns": null,
            "grid_auto_flow": null,
            "grid_auto_rows": null,
            "grid_column": null,
            "grid_gap": null,
            "grid_row": null,
            "grid_template_areas": null,
            "grid_template_columns": null,
            "grid_template_rows": null,
            "height": null,
            "justify_content": null,
            "justify_items": null,
            "left": null,
            "margin": null,
            "max_height": null,
            "max_width": null,
            "min_height": null,
            "min_width": null,
            "object_fit": null,
            "object_position": null,
            "order": null,
            "overflow": null,
            "overflow_x": null,
            "overflow_y": null,
            "padding": null,
            "right": null,
            "top": null,
            "visibility": null,
            "width": null
          }
        },
        "7786158daec4482d805c01082fd8e226": {
          "model_module": "@jupyter-widgets/controls",
          "model_name": "DescriptionStyleModel",
          "model_module_version": "1.5.0",
          "state": {
            "_model_module": "@jupyter-widgets/controls",
            "_model_module_version": "1.5.0",
            "_model_name": "DescriptionStyleModel",
            "_view_count": null,
            "_view_module": "@jupyter-widgets/base",
            "_view_module_version": "1.2.0",
            "_view_name": "StyleView",
            "description_width": ""
          }
        },
        "7ceaacce411c4888aebbc8daae5639da": {
          "model_module": "@jupyter-widgets/base",
          "model_name": "LayoutModel",
          "model_module_version": "1.2.0",
          "state": {
            "_model_module": "@jupyter-widgets/base",
            "_model_module_version": "1.2.0",
            "_model_name": "LayoutModel",
            "_view_count": null,
            "_view_module": "@jupyter-widgets/base",
            "_view_module_version": "1.2.0",
            "_view_name": "LayoutView",
            "align_content": null,
            "align_items": null,
            "align_self": null,
            "border": null,
            "bottom": null,
            "display": null,
            "flex": null,
            "flex_flow": null,
            "grid_area": null,
            "grid_auto_columns": null,
            "grid_auto_flow": null,
            "grid_auto_rows": null,
            "grid_column": null,
            "grid_gap": null,
            "grid_row": null,
            "grid_template_areas": null,
            "grid_template_columns": null,
            "grid_template_rows": null,
            "height": null,
            "justify_content": null,
            "justify_items": null,
            "left": null,
            "margin": null,
            "max_height": null,
            "max_width": null,
            "min_height": null,
            "min_width": null,
            "object_fit": null,
            "object_position": null,
            "order": null,
            "overflow": null,
            "overflow_x": null,
            "overflow_y": null,
            "padding": null,
            "right": null,
            "top": null,
            "visibility": null,
            "width": null
          }
        },
        "f148ca8aba8c486584fc967ca3579533": {
          "model_module": "@jupyter-widgets/controls",
          "model_name": "ProgressStyleModel",
          "model_module_version": "1.5.0",
          "state": {
            "_model_module": "@jupyter-widgets/controls",
            "_model_module_version": "1.5.0",
            "_model_name": "ProgressStyleModel",
            "_view_count": null,
            "_view_module": "@jupyter-widgets/base",
            "_view_module_version": "1.2.0",
            "_view_name": "StyleView",
            "bar_color": null,
            "description_width": ""
          }
        },
        "e090230980f84d8799dec7e75352d6b4": {
          "model_module": "@jupyter-widgets/base",
          "model_name": "LayoutModel",
          "model_module_version": "1.2.0",
          "state": {
            "_model_module": "@jupyter-widgets/base",
            "_model_module_version": "1.2.0",
            "_model_name": "LayoutModel",
            "_view_count": null,
            "_view_module": "@jupyter-widgets/base",
            "_view_module_version": "1.2.0",
            "_view_name": "LayoutView",
            "align_content": null,
            "align_items": null,
            "align_self": null,
            "border": null,
            "bottom": null,
            "display": null,
            "flex": null,
            "flex_flow": null,
            "grid_area": null,
            "grid_auto_columns": null,
            "grid_auto_flow": null,
            "grid_auto_rows": null,
            "grid_column": null,
            "grid_gap": null,
            "grid_row": null,
            "grid_template_areas": null,
            "grid_template_columns": null,
            "grid_template_rows": null,
            "height": null,
            "justify_content": null,
            "justify_items": null,
            "left": null,
            "margin": null,
            "max_height": null,
            "max_width": null,
            "min_height": null,
            "min_width": null,
            "object_fit": null,
            "object_position": null,
            "order": null,
            "overflow": null,
            "overflow_x": null,
            "overflow_y": null,
            "padding": null,
            "right": null,
            "top": null,
            "visibility": null,
            "width": null
          }
        },
        "a3ddc0c5a7b941d5bd17e17308f4c1b5": {
          "model_module": "@jupyter-widgets/controls",
          "model_name": "DescriptionStyleModel",
          "model_module_version": "1.5.0",
          "state": {
            "_model_module": "@jupyter-widgets/controls",
            "_model_module_version": "1.5.0",
            "_model_name": "DescriptionStyleModel",
            "_view_count": null,
            "_view_module": "@jupyter-widgets/base",
            "_view_module_version": "1.2.0",
            "_view_name": "StyleView",
            "description_width": ""
          }
        },
        "77794190eb29429fb286dc5e3af2809c": {
          "model_module": "@jupyter-widgets/controls",
          "model_name": "HBoxModel",
          "model_module_version": "1.5.0",
          "state": {
            "_dom_classes": [],
            "_model_module": "@jupyter-widgets/controls",
            "_model_module_version": "1.5.0",
            "_model_name": "HBoxModel",
            "_view_count": null,
            "_view_module": "@jupyter-widgets/controls",
            "_view_module_version": "1.5.0",
            "_view_name": "HBoxView",
            "box_style": "",
            "children": [
              "IPY_MODEL_557a59cf5175416392f1aec3c3d19ca9",
              "IPY_MODEL_c51e9c056950423ba86df6091d7f5835",
              "IPY_MODEL_84011d4e78344df18c83665d3b2277ce"
            ],
            "layout": "IPY_MODEL_4795559ba4eb48c9ac24fa50c3f57cf0"
          }
        },
        "557a59cf5175416392f1aec3c3d19ca9": {
          "model_module": "@jupyter-widgets/controls",
          "model_name": "HTMLModel",
          "model_module_version": "1.5.0",
          "state": {
            "_dom_classes": [],
            "_model_module": "@jupyter-widgets/controls",
            "_model_module_version": "1.5.0",
            "_model_name": "HTMLModel",
            "_view_count": null,
            "_view_module": "@jupyter-widgets/controls",
            "_view_module_version": "1.5.0",
            "_view_name": "HTMLView",
            "description": "",
            "description_tooltip": null,
            "layout": "IPY_MODEL_046c900e89504fd695113b11c8a228d4",
            "placeholder": "​",
            "style": "IPY_MODEL_b877916e09bc40728b6a36e5c3d3cd81",
            "value": "Loading molecular descriptors: "
          }
        },
        "c51e9c056950423ba86df6091d7f5835": {
          "model_module": "@jupyter-widgets/controls",
          "model_name": "FloatProgressModel",
          "model_module_version": "1.5.0",
          "state": {
            "_dom_classes": [],
            "_model_module": "@jupyter-widgets/controls",
            "_model_module_version": "1.5.0",
            "_model_name": "FloatProgressModel",
            "_view_count": null,
            "_view_module": "@jupyter-widgets/controls",
            "_view_module_version": "1.5.0",
            "_view_name": "ProgressView",
            "bar_style": "success",
            "description": "",
            "description_tooltip": null,
            "layout": "IPY_MODEL_5cfa9e364edc41458073672da350dbae",
            "max": 1,
            "min": 0,
            "orientation": "horizontal",
            "style": "IPY_MODEL_c05a14e4cf31449d965c43bddb80e12f",
            "value": 1
          }
        },
        "84011d4e78344df18c83665d3b2277ce": {
          "model_module": "@jupyter-widgets/controls",
          "model_name": "HTMLModel",
          "model_module_version": "1.5.0",
          "state": {
            "_dom_classes": [],
            "_model_module": "@jupyter-widgets/controls",
            "_model_module_version": "1.5.0",
            "_model_name": "HTMLModel",
            "_view_count": null,
            "_view_module": "@jupyter-widgets/controls",
            "_view_module_version": "1.5.0",
            "_view_name": "HTMLView",
            "description": "",
            "description_tooltip": null,
            "layout": "IPY_MODEL_f11eafeddcb841949ee1887c8a52a487",
            "placeholder": "​",
            "style": "IPY_MODEL_a752231e32614a9d83a3e58d07b30280",
            "value": " 28/? [06:19&lt;00:00, 10.02s/it]"
          }
        },
        "4795559ba4eb48c9ac24fa50c3f57cf0": {
          "model_module": "@jupyter-widgets/base",
          "model_name": "LayoutModel",
          "model_module_version": "1.2.0",
          "state": {
            "_model_module": "@jupyter-widgets/base",
            "_model_module_version": "1.2.0",
            "_model_name": "LayoutModel",
            "_view_count": null,
            "_view_module": "@jupyter-widgets/base",
            "_view_module_version": "1.2.0",
            "_view_name": "LayoutView",
            "align_content": null,
            "align_items": null,
            "align_self": null,
            "border": null,
            "bottom": null,
            "display": null,
            "flex": null,
            "flex_flow": null,
            "grid_area": null,
            "grid_auto_columns": null,
            "grid_auto_flow": null,
            "grid_auto_rows": null,
            "grid_column": null,
            "grid_gap": null,
            "grid_row": null,
            "grid_template_areas": null,
            "grid_template_columns": null,
            "grid_template_rows": null,
            "height": null,
            "justify_content": null,
            "justify_items": null,
            "left": null,
            "margin": null,
            "max_height": null,
            "max_width": null,
            "min_height": null,
            "min_width": null,
            "object_fit": null,
            "object_position": null,
            "order": null,
            "overflow": null,
            "overflow_x": null,
            "overflow_y": null,
            "padding": null,
            "right": null,
            "top": null,
            "visibility": null,
            "width": null
          }
        },
        "046c900e89504fd695113b11c8a228d4": {
          "model_module": "@jupyter-widgets/base",
          "model_name": "LayoutModel",
          "model_module_version": "1.2.0",
          "state": {
            "_model_module": "@jupyter-widgets/base",
            "_model_module_version": "1.2.0",
            "_model_name": "LayoutModel",
            "_view_count": null,
            "_view_module": "@jupyter-widgets/base",
            "_view_module_version": "1.2.0",
            "_view_name": "LayoutView",
            "align_content": null,
            "align_items": null,
            "align_self": null,
            "border": null,
            "bottom": null,
            "display": null,
            "flex": null,
            "flex_flow": null,
            "grid_area": null,
            "grid_auto_columns": null,
            "grid_auto_flow": null,
            "grid_auto_rows": null,
            "grid_column": null,
            "grid_gap": null,
            "grid_row": null,
            "grid_template_areas": null,
            "grid_template_columns": null,
            "grid_template_rows": null,
            "height": null,
            "justify_content": null,
            "justify_items": null,
            "left": null,
            "margin": null,
            "max_height": null,
            "max_width": null,
            "min_height": null,
            "min_width": null,
            "object_fit": null,
            "object_position": null,
            "order": null,
            "overflow": null,
            "overflow_x": null,
            "overflow_y": null,
            "padding": null,
            "right": null,
            "top": null,
            "visibility": null,
            "width": null
          }
        },
        "b877916e09bc40728b6a36e5c3d3cd81": {
          "model_module": "@jupyter-widgets/controls",
          "model_name": "DescriptionStyleModel",
          "model_module_version": "1.5.0",
          "state": {
            "_model_module": "@jupyter-widgets/controls",
            "_model_module_version": "1.5.0",
            "_model_name": "DescriptionStyleModel",
            "_view_count": null,
            "_view_module": "@jupyter-widgets/base",
            "_view_module_version": "1.2.0",
            "_view_name": "StyleView",
            "description_width": ""
          }
        },
        "5cfa9e364edc41458073672da350dbae": {
          "model_module": "@jupyter-widgets/base",
          "model_name": "LayoutModel",
          "model_module_version": "1.2.0",
          "state": {
            "_model_module": "@jupyter-widgets/base",
            "_model_module_version": "1.2.0",
            "_model_name": "LayoutModel",
            "_view_count": null,
            "_view_module": "@jupyter-widgets/base",
            "_view_module_version": "1.2.0",
            "_view_name": "LayoutView",
            "align_content": null,
            "align_items": null,
            "align_self": null,
            "border": null,
            "bottom": null,
            "display": null,
            "flex": null,
            "flex_flow": null,
            "grid_area": null,
            "grid_auto_columns": null,
            "grid_auto_flow": null,
            "grid_auto_rows": null,
            "grid_column": null,
            "grid_gap": null,
            "grid_row": null,
            "grid_template_areas": null,
            "grid_template_columns": null,
            "grid_template_rows": null,
            "height": null,
            "justify_content": null,
            "justify_items": null,
            "left": null,
            "margin": null,
            "max_height": null,
            "max_width": null,
            "min_height": null,
            "min_width": null,
            "object_fit": null,
            "object_position": null,
            "order": null,
            "overflow": null,
            "overflow_x": null,
            "overflow_y": null,
            "padding": null,
            "right": null,
            "top": null,
            "visibility": null,
            "width": "20px"
          }
        },
        "c05a14e4cf31449d965c43bddb80e12f": {
          "model_module": "@jupyter-widgets/controls",
          "model_name": "ProgressStyleModel",
          "model_module_version": "1.5.0",
          "state": {
            "_model_module": "@jupyter-widgets/controls",
            "_model_module_version": "1.5.0",
            "_model_name": "ProgressStyleModel",
            "_view_count": null,
            "_view_module": "@jupyter-widgets/base",
            "_view_module_version": "1.2.0",
            "_view_name": "StyleView",
            "bar_color": null,
            "description_width": ""
          }
        },
        "f11eafeddcb841949ee1887c8a52a487": {
          "model_module": "@jupyter-widgets/base",
          "model_name": "LayoutModel",
          "model_module_version": "1.2.0",
          "state": {
            "_model_module": "@jupyter-widgets/base",
            "_model_module_version": "1.2.0",
            "_model_name": "LayoutModel",
            "_view_count": null,
            "_view_module": "@jupyter-widgets/base",
            "_view_module_version": "1.2.0",
            "_view_name": "LayoutView",
            "align_content": null,
            "align_items": null,
            "align_self": null,
            "border": null,
            "bottom": null,
            "display": null,
            "flex": null,
            "flex_flow": null,
            "grid_area": null,
            "grid_auto_columns": null,
            "grid_auto_flow": null,
            "grid_auto_rows": null,
            "grid_column": null,
            "grid_gap": null,
            "grid_row": null,
            "grid_template_areas": null,
            "grid_template_columns": null,
            "grid_template_rows": null,
            "height": null,
            "justify_content": null,
            "justify_items": null,
            "left": null,
            "margin": null,
            "max_height": null,
            "max_width": null,
            "min_height": null,
            "min_width": null,
            "object_fit": null,
            "object_position": null,
            "order": null,
            "overflow": null,
            "overflow_x": null,
            "overflow_y": null,
            "padding": null,
            "right": null,
            "top": null,
            "visibility": null,
            "width": null
          }
        },
        "a752231e32614a9d83a3e58d07b30280": {
          "model_module": "@jupyter-widgets/controls",
          "model_name": "DescriptionStyleModel",
          "model_module_version": "1.5.0",
          "state": {
            "_model_module": "@jupyter-widgets/controls",
            "_model_module_version": "1.5.0",
            "_model_name": "DescriptionStyleModel",
            "_view_count": null,
            "_view_module": "@jupyter-widgets/base",
            "_view_module_version": "1.2.0",
            "_view_name": "StyleView",
            "description_width": ""
          }
        },
        "fea7302e52534271b0c81fcaae10d55e": {
          "model_module": "@jupyter-widgets/controls",
          "model_name": "HBoxModel",
          "model_module_version": "1.5.0",
          "state": {
            "_dom_classes": [],
            "_model_module": "@jupyter-widgets/controls",
            "_model_module_version": "1.5.0",
            "_model_name": "HBoxModel",
            "_view_count": null,
            "_view_module": "@jupyter-widgets/controls",
            "_view_module_version": "1.5.0",
            "_view_name": "HBoxView",
            "box_style": "",
            "children": [
              "IPY_MODEL_7a3c94a0327b4b92badd428dc779f78c",
              "IPY_MODEL_2639e0150d5e4112871f05d506786dc7",
              "IPY_MODEL_1849ac62d1694acaa361512b385bc4e0"
            ],
            "layout": "IPY_MODEL_62b3444399054d72b44201b73923b9f0"
          }
        },
        "7a3c94a0327b4b92badd428dc779f78c": {
          "model_module": "@jupyter-widgets/controls",
          "model_name": "HTMLModel",
          "model_module_version": "1.5.0",
          "state": {
            "_dom_classes": [],
            "_model_module": "@jupyter-widgets/controls",
            "_model_module_version": "1.5.0",
            "_model_name": "HTMLModel",
            "_view_count": null,
            "_view_module": "@jupyter-widgets/controls",
            "_view_module_version": "1.5.0",
            "_view_name": "HTMLView",
            "description": "",
            "description_tooltip": null,
            "layout": "IPY_MODEL_8b02fea62f634bd18af52e04f8d8701f",
            "placeholder": "​",
            "style": "IPY_MODEL_9bc34407a8994b1f90398ee35c279393",
            "value": "Loading molecular descriptors: "
          }
        },
        "2639e0150d5e4112871f05d506786dc7": {
          "model_module": "@jupyter-widgets/controls",
          "model_name": "FloatProgressModel",
          "model_module_version": "1.5.0",
          "state": {
            "_dom_classes": [],
            "_model_module": "@jupyter-widgets/controls",
            "_model_module_version": "1.5.0",
            "_model_name": "FloatProgressModel",
            "_view_count": null,
            "_view_module": "@jupyter-widgets/controls",
            "_view_module_version": "1.5.0",
            "_view_name": "ProgressView",
            "bar_style": "success",
            "description": "",
            "description_tooltip": null,
            "layout": "IPY_MODEL_53520db7116c4a9aac48a733a0b3f9cf",
            "max": 1,
            "min": 0,
            "orientation": "horizontal",
            "style": "IPY_MODEL_2c5a69bd45f84d85815cc7c0a0731382",
            "value": 1
          }
        },
        "1849ac62d1694acaa361512b385bc4e0": {
          "model_module": "@jupyter-widgets/controls",
          "model_name": "HTMLModel",
          "model_module_version": "1.5.0",
          "state": {
            "_dom_classes": [],
            "_model_module": "@jupyter-widgets/controls",
            "_model_module_version": "1.5.0",
            "_model_name": "HTMLModel",
            "_view_count": null,
            "_view_module": "@jupyter-widgets/controls",
            "_view_module_version": "1.5.0",
            "_view_name": "HTMLView",
            "description": "",
            "description_tooltip": null,
            "layout": "IPY_MODEL_86b44f00c4944c38ac434b4adad00738",
            "placeholder": "​",
            "style": "IPY_MODEL_6335d725ba754e7fb3637cb76e7ef070",
            "value": " 28/? [06:19&lt;00:00, 10.02s/it]"
          }
        },
        "62b3444399054d72b44201b73923b9f0": {
          "model_module": "@jupyter-widgets/base",
          "model_name": "LayoutModel",
          "model_module_version": "1.2.0",
          "state": {
            "_model_module": "@jupyter-widgets/base",
            "_model_module_version": "1.2.0",
            "_model_name": "LayoutModel",
            "_view_count": null,
            "_view_module": "@jupyter-widgets/base",
            "_view_module_version": "1.2.0",
            "_view_name": "LayoutView",
            "align_content": null,
            "align_items": null,
            "align_self": null,
            "border": null,
            "bottom": null,
            "display": null,
            "flex": null,
            "flex_flow": null,
            "grid_area": null,
            "grid_auto_columns": null,
            "grid_auto_flow": null,
            "grid_auto_rows": null,
            "grid_column": null,
            "grid_gap": null,
            "grid_row": null,
            "grid_template_areas": null,
            "grid_template_columns": null,
            "grid_template_rows": null,
            "height": null,
            "justify_content": null,
            "justify_items": null,
            "left": null,
            "margin": null,
            "max_height": null,
            "max_width": null,
            "min_height": null,
            "min_width": null,
            "object_fit": null,
            "object_position": null,
            "order": null,
            "overflow": null,
            "overflow_x": null,
            "overflow_y": null,
            "padding": null,
            "right": null,
            "top": null,
            "visibility": null,
            "width": null
          }
        },
        "8b02fea62f634bd18af52e04f8d8701f": {
          "model_module": "@jupyter-widgets/base",
          "model_name": "LayoutModel",
          "model_module_version": "1.2.0",
          "state": {
            "_model_module": "@jupyter-widgets/base",
            "_model_module_version": "1.2.0",
            "_model_name": "LayoutModel",
            "_view_count": null,
            "_view_module": "@jupyter-widgets/base",
            "_view_module_version": "1.2.0",
            "_view_name": "LayoutView",
            "align_content": null,
            "align_items": null,
            "align_self": null,
            "border": null,
            "bottom": null,
            "display": null,
            "flex": null,
            "flex_flow": null,
            "grid_area": null,
            "grid_auto_columns": null,
            "grid_auto_flow": null,
            "grid_auto_rows": null,
            "grid_column": null,
            "grid_gap": null,
            "grid_row": null,
            "grid_template_areas": null,
            "grid_template_columns": null,
            "grid_template_rows": null,
            "height": null,
            "justify_content": null,
            "justify_items": null,
            "left": null,
            "margin": null,
            "max_height": null,
            "max_width": null,
            "min_height": null,
            "min_width": null,
            "object_fit": null,
            "object_position": null,
            "order": null,
            "overflow": null,
            "overflow_x": null,
            "overflow_y": null,
            "padding": null,
            "right": null,
            "top": null,
            "visibility": null,
            "width": null
          }
        },
        "9bc34407a8994b1f90398ee35c279393": {
          "model_module": "@jupyter-widgets/controls",
          "model_name": "DescriptionStyleModel",
          "model_module_version": "1.5.0",
          "state": {
            "_model_module": "@jupyter-widgets/controls",
            "_model_module_version": "1.5.0",
            "_model_name": "DescriptionStyleModel",
            "_view_count": null,
            "_view_module": "@jupyter-widgets/base",
            "_view_module_version": "1.2.0",
            "_view_name": "StyleView",
            "description_width": ""
          }
        },
        "53520db7116c4a9aac48a733a0b3f9cf": {
          "model_module": "@jupyter-widgets/base",
          "model_name": "LayoutModel",
          "model_module_version": "1.2.0",
          "state": {
            "_model_module": "@jupyter-widgets/base",
            "_model_module_version": "1.2.0",
            "_model_name": "LayoutModel",
            "_view_count": null,
            "_view_module": "@jupyter-widgets/base",
            "_view_module_version": "1.2.0",
            "_view_name": "LayoutView",
            "align_content": null,
            "align_items": null,
            "align_self": null,
            "border": null,
            "bottom": null,
            "display": null,
            "flex": null,
            "flex_flow": null,
            "grid_area": null,
            "grid_auto_columns": null,
            "grid_auto_flow": null,
            "grid_auto_rows": null,
            "grid_column": null,
            "grid_gap": null,
            "grid_row": null,
            "grid_template_areas": null,
            "grid_template_columns": null,
            "grid_template_rows": null,
            "height": null,
            "justify_content": null,
            "justify_items": null,
            "left": null,
            "margin": null,
            "max_height": null,
            "max_width": null,
            "min_height": null,
            "min_width": null,
            "object_fit": null,
            "object_position": null,
            "order": null,
            "overflow": null,
            "overflow_x": null,
            "overflow_y": null,
            "padding": null,
            "right": null,
            "top": null,
            "visibility": null,
            "width": "20px"
          }
        },
        "2c5a69bd45f84d85815cc7c0a0731382": {
          "model_module": "@jupyter-widgets/controls",
          "model_name": "ProgressStyleModel",
          "model_module_version": "1.5.0",
          "state": {
            "_model_module": "@jupyter-widgets/controls",
            "_model_module_version": "1.5.0",
            "_model_name": "ProgressStyleModel",
            "_view_count": null,
            "_view_module": "@jupyter-widgets/base",
            "_view_module_version": "1.2.0",
            "_view_name": "StyleView",
            "bar_color": null,
            "description_width": ""
          }
        },
        "86b44f00c4944c38ac434b4adad00738": {
          "model_module": "@jupyter-widgets/base",
          "model_name": "LayoutModel",
          "model_module_version": "1.2.0",
          "state": {
            "_model_module": "@jupyter-widgets/base",
            "_model_module_version": "1.2.0",
            "_model_name": "LayoutModel",
            "_view_count": null,
            "_view_module": "@jupyter-widgets/base",
            "_view_module_version": "1.2.0",
            "_view_name": "LayoutView",
            "align_content": null,
            "align_items": null,
            "align_self": null,
            "border": null,
            "bottom": null,
            "display": null,
            "flex": null,
            "flex_flow": null,
            "grid_area": null,
            "grid_auto_columns": null,
            "grid_auto_flow": null,
            "grid_auto_rows": null,
            "grid_column": null,
            "grid_gap": null,
            "grid_row": null,
            "grid_template_areas": null,
            "grid_template_columns": null,
            "grid_template_rows": null,
            "height": null,
            "justify_content": null,
            "justify_items": null,
            "left": null,
            "margin": null,
            "max_height": null,
            "max_width": null,
            "min_height": null,
            "min_width": null,
            "object_fit": null,
            "object_position": null,
            "order": null,
            "overflow": null,
            "overflow_x": null,
            "overflow_y": null,
            "padding": null,
            "right": null,
            "top": null,
            "visibility": null,
            "width": null
          }
        },
        "6335d725ba754e7fb3637cb76e7ef070": {
          "model_module": "@jupyter-widgets/controls",
          "model_name": "DescriptionStyleModel",
          "model_module_version": "1.5.0",
          "state": {
            "_model_module": "@jupyter-widgets/controls",
            "_model_module_version": "1.5.0",
            "_model_name": "DescriptionStyleModel",
            "_view_count": null,
            "_view_module": "@jupyter-widgets/base",
            "_view_module_version": "1.2.0",
            "_view_name": "StyleView",
            "description_width": ""
          }
        },
        "42beacec57e84dab8f0dc13da48d2179": {
          "model_module": "@jupyter-widgets/controls",
          "model_name": "HBoxModel",
          "model_module_version": "1.5.0",
          "state": {
            "_dom_classes": [],
            "_model_module": "@jupyter-widgets/controls",
            "_model_module_version": "1.5.0",
            "_model_name": "HBoxModel",
            "_view_count": null,
            "_view_module": "@jupyter-widgets/controls",
            "_view_module_version": "1.5.0",
            "_view_name": "HBoxView",
            "box_style": "",
            "children": [
              "IPY_MODEL_1ce93d827f4743379f28307dcdef2763",
              "IPY_MODEL_223c9d7f421c4ca185cc41b198c23627",
              "IPY_MODEL_9a3c2cda20424c288b8ce6f23980cfea"
            ],
            "layout": "IPY_MODEL_a7671b55bcb94d17ad033aaffb008418"
          }
        },
        "1ce93d827f4743379f28307dcdef2763": {
          "model_module": "@jupyter-widgets/controls",
          "model_name": "HTMLModel",
          "model_module_version": "1.5.0",
          "state": {
            "_dom_classes": [],
            "_model_module": "@jupyter-widgets/controls",
            "_model_module_version": "1.5.0",
            "_model_name": "HTMLModel",
            "_view_count": null,
            "_view_module": "@jupyter-widgets/controls",
            "_view_module_version": "1.5.0",
            "_view_name": "HTMLView",
            "description": "",
            "description_tooltip": null,
            "layout": "IPY_MODEL_fe483286505841bea9bebd97d5b62db6",
            "placeholder": "​",
            "style": "IPY_MODEL_1ee3ad16b00144d282fcef74f5a0ceec",
            "value": "Building QSAR for target: P01116_WT #datapoints 34:   0%"
          }
        },
        "223c9d7f421c4ca185cc41b198c23627": {
          "model_module": "@jupyter-widgets/controls",
          "model_name": "FloatProgressModel",
          "model_module_version": "1.5.0",
          "state": {
            "_dom_classes": [],
            "_model_module": "@jupyter-widgets/controls",
            "_model_module_version": "1.5.0",
            "_model_name": "FloatProgressModel",
            "_view_count": null,
            "_view_module": "@jupyter-widgets/controls",
            "_view_module_version": "1.5.0",
            "_view_name": "ProgressView",
            "bar_style": "",
            "description": "",
            "description_tooltip": null,
            "layout": "IPY_MODEL_533a7cfb801a4167b213bf53ae25a796",
            "max": 1,
            "min": 0,
            "orientation": "horizontal",
            "style": "IPY_MODEL_13f141a0c27a4e65a2db6df05006aa30",
            "value": 0
          }
        },
        "9a3c2cda20424c288b8ce6f23980cfea": {
          "model_module": "@jupyter-widgets/controls",
          "model_name": "HTMLModel",
          "model_module_version": "1.5.0",
          "state": {
            "_dom_classes": [],
            "_model_module": "@jupyter-widgets/controls",
            "_model_module_version": "1.5.0",
            "_model_name": "HTMLModel",
            "_view_count": null,
            "_view_module": "@jupyter-widgets/controls",
            "_view_module_version": "1.5.0",
            "_view_name": "HTMLView",
            "description": "",
            "description_tooltip": null,
            "layout": "IPY_MODEL_a90dc68cea9a4ab38025354d5c0981a5",
            "placeholder": "​",
            "style": "IPY_MODEL_a76713592401498ea0e548679978d50e",
            "value": " 0/1 [00:00&lt;?, ?it/s]"
          }
        },
        "a7671b55bcb94d17ad033aaffb008418": {
          "model_module": "@jupyter-widgets/base",
          "model_name": "LayoutModel",
          "model_module_version": "1.2.0",
          "state": {
            "_model_module": "@jupyter-widgets/base",
            "_model_module_version": "1.2.0",
            "_model_name": "LayoutModel",
            "_view_count": null,
            "_view_module": "@jupyter-widgets/base",
            "_view_module_version": "1.2.0",
            "_view_name": "LayoutView",
            "align_content": null,
            "align_items": null,
            "align_self": null,
            "border": null,
            "bottom": null,
            "display": null,
            "flex": null,
            "flex_flow": null,
            "grid_area": null,
            "grid_auto_columns": null,
            "grid_auto_flow": null,
            "grid_auto_rows": null,
            "grid_column": null,
            "grid_gap": null,
            "grid_row": null,
            "grid_template_areas": null,
            "grid_template_columns": null,
            "grid_template_rows": null,
            "height": null,
            "justify_content": null,
            "justify_items": null,
            "left": null,
            "margin": null,
            "max_height": null,
            "max_width": null,
            "min_height": null,
            "min_width": null,
            "object_fit": null,
            "object_position": null,
            "order": null,
            "overflow": null,
            "overflow_x": null,
            "overflow_y": null,
            "padding": null,
            "right": null,
            "top": null,
            "visibility": null,
            "width": null
          }
        },
        "fe483286505841bea9bebd97d5b62db6": {
          "model_module": "@jupyter-widgets/base",
          "model_name": "LayoutModel",
          "model_module_version": "1.2.0",
          "state": {
            "_model_module": "@jupyter-widgets/base",
            "_model_module_version": "1.2.0",
            "_model_name": "LayoutModel",
            "_view_count": null,
            "_view_module": "@jupyter-widgets/base",
            "_view_module_version": "1.2.0",
            "_view_name": "LayoutView",
            "align_content": null,
            "align_items": null,
            "align_self": null,
            "border": null,
            "bottom": null,
            "display": null,
            "flex": null,
            "flex_flow": null,
            "grid_area": null,
            "grid_auto_columns": null,
            "grid_auto_flow": null,
            "grid_auto_rows": null,
            "grid_column": null,
            "grid_gap": null,
            "grid_row": null,
            "grid_template_areas": null,
            "grid_template_columns": null,
            "grid_template_rows": null,
            "height": null,
            "justify_content": null,
            "justify_items": null,
            "left": null,
            "margin": null,
            "max_height": null,
            "max_width": null,
            "min_height": null,
            "min_width": null,
            "object_fit": null,
            "object_position": null,
            "order": null,
            "overflow": null,
            "overflow_x": null,
            "overflow_y": null,
            "padding": null,
            "right": null,
            "top": null,
            "visibility": null,
            "width": null
          }
        },
        "1ee3ad16b00144d282fcef74f5a0ceec": {
          "model_module": "@jupyter-widgets/controls",
          "model_name": "DescriptionStyleModel",
          "model_module_version": "1.5.0",
          "state": {
            "_model_module": "@jupyter-widgets/controls",
            "_model_module_version": "1.5.0",
            "_model_name": "DescriptionStyleModel",
            "_view_count": null,
            "_view_module": "@jupyter-widgets/base",
            "_view_module_version": "1.2.0",
            "_view_name": "StyleView",
            "description_width": ""
          }
        },
        "533a7cfb801a4167b213bf53ae25a796": {
          "model_module": "@jupyter-widgets/base",
          "model_name": "LayoutModel",
          "model_module_version": "1.2.0",
          "state": {
            "_model_module": "@jupyter-widgets/base",
            "_model_module_version": "1.2.0",
            "_model_name": "LayoutModel",
            "_view_count": null,
            "_view_module": "@jupyter-widgets/base",
            "_view_module_version": "1.2.0",
            "_view_name": "LayoutView",
            "align_content": null,
            "align_items": null,
            "align_self": null,
            "border": null,
            "bottom": null,
            "display": null,
            "flex": null,
            "flex_flow": null,
            "grid_area": null,
            "grid_auto_columns": null,
            "grid_auto_flow": null,
            "grid_auto_rows": null,
            "grid_column": null,
            "grid_gap": null,
            "grid_row": null,
            "grid_template_areas": null,
            "grid_template_columns": null,
            "grid_template_rows": null,
            "height": null,
            "justify_content": null,
            "justify_items": null,
            "left": null,
            "margin": null,
            "max_height": null,
            "max_width": null,
            "min_height": null,
            "min_width": null,
            "object_fit": null,
            "object_position": null,
            "order": null,
            "overflow": null,
            "overflow_x": null,
            "overflow_y": null,
            "padding": null,
            "right": null,
            "top": null,
            "visibility": null,
            "width": null
          }
        },
        "13f141a0c27a4e65a2db6df05006aa30": {
          "model_module": "@jupyter-widgets/controls",
          "model_name": "ProgressStyleModel",
          "model_module_version": "1.5.0",
          "state": {
            "_model_module": "@jupyter-widgets/controls",
            "_model_module_version": "1.5.0",
            "_model_name": "ProgressStyleModel",
            "_view_count": null,
            "_view_module": "@jupyter-widgets/base",
            "_view_module_version": "1.2.0",
            "_view_name": "StyleView",
            "bar_color": null,
            "description_width": ""
          }
        },
        "a90dc68cea9a4ab38025354d5c0981a5": {
          "model_module": "@jupyter-widgets/base",
          "model_name": "LayoutModel",
          "model_module_version": "1.2.0",
          "state": {
            "_model_module": "@jupyter-widgets/base",
            "_model_module_version": "1.2.0",
            "_model_name": "LayoutModel",
            "_view_count": null,
            "_view_module": "@jupyter-widgets/base",
            "_view_module_version": "1.2.0",
            "_view_name": "LayoutView",
            "align_content": null,
            "align_items": null,
            "align_self": null,
            "border": null,
            "bottom": null,
            "display": null,
            "flex": null,
            "flex_flow": null,
            "grid_area": null,
            "grid_auto_columns": null,
            "grid_auto_flow": null,
            "grid_auto_rows": null,
            "grid_column": null,
            "grid_gap": null,
            "grid_row": null,
            "grid_template_areas": null,
            "grid_template_columns": null,
            "grid_template_rows": null,
            "height": null,
            "justify_content": null,
            "justify_items": null,
            "left": null,
            "margin": null,
            "max_height": null,
            "max_width": null,
            "min_height": null,
            "min_width": null,
            "object_fit": null,
            "object_position": null,
            "order": null,
            "overflow": null,
            "overflow_x": null,
            "overflow_y": null,
            "padding": null,
            "right": null,
            "top": null,
            "visibility": null,
            "width": null
          }
        },
        "a76713592401498ea0e548679978d50e": {
          "model_module": "@jupyter-widgets/controls",
          "model_name": "DescriptionStyleModel",
          "model_module_version": "1.5.0",
          "state": {
            "_model_module": "@jupyter-widgets/controls",
            "_model_module_version": "1.5.0",
            "_model_name": "DescriptionStyleModel",
            "_view_count": null,
            "_view_module": "@jupyter-widgets/base",
            "_view_module_version": "1.2.0",
            "_view_name": "StyleView",
            "description_width": ""
          }
        },
        "e1bbf3f9f822491ebff4ad3c17c9bdb4": {
          "model_module": "@jupyter-widgets/controls",
          "model_name": "HBoxModel",
          "model_module_version": "1.5.0",
          "state": {
            "_dom_classes": [],
            "_model_module": "@jupyter-widgets/controls",
            "_model_module_version": "1.5.0",
            "_model_name": "HBoxModel",
            "_view_count": null,
            "_view_module": "@jupyter-widgets/controls",
            "_view_module_version": "1.5.0",
            "_view_name": "HBoxView",
            "box_style": "",
            "children": [
              "IPY_MODEL_389036bad93e4f338c2699b70a274c6f",
              "IPY_MODEL_e47a1b17180845eaa1543c7aac2a9b13",
              "IPY_MODEL_045885171df54abdb2f697bb86abf2a4"
            ],
            "layout": "IPY_MODEL_814226a4f32042ae9a4ec75444ef4948"
          }
        },
        "389036bad93e4f338c2699b70a274c6f": {
          "model_module": "@jupyter-widgets/controls",
          "model_name": "HTMLModel",
          "model_module_version": "1.5.0",
          "state": {
            "_dom_classes": [],
            "_model_module": "@jupyter-widgets/controls",
            "_model_module_version": "1.5.0",
            "_model_name": "HTMLModel",
            "_view_count": null,
            "_view_module": "@jupyter-widgets/controls",
            "_view_module_version": "1.5.0",
            "_view_name": "HTMLView",
            "description": "",
            "description_tooltip": null,
            "layout": "IPY_MODEL_e25fd877daec471e8ac6f7a627be2bcb",
            "placeholder": "​",
            "style": "IPY_MODEL_674cf98e66fb43bd905ed5b3d52a1e17",
            "value": "Loading molecular descriptors: "
          }
        },
        "e47a1b17180845eaa1543c7aac2a9b13": {
          "model_module": "@jupyter-widgets/controls",
          "model_name": "FloatProgressModel",
          "model_module_version": "1.5.0",
          "state": {
            "_dom_classes": [],
            "_model_module": "@jupyter-widgets/controls",
            "_model_module_version": "1.5.0",
            "_model_name": "FloatProgressModel",
            "_view_count": null,
            "_view_module": "@jupyter-widgets/controls",
            "_view_module_version": "1.5.0",
            "_view_name": "ProgressView",
            "bar_style": "success",
            "description": "",
            "description_tooltip": null,
            "layout": "IPY_MODEL_fb58056386b9481f948004a023d567fd",
            "max": 1,
            "min": 0,
            "orientation": "horizontal",
            "style": "IPY_MODEL_3d9ecf64f9f34abc8854ffac9da7b699",
            "value": 1
          }
        },
        "045885171df54abdb2f697bb86abf2a4": {
          "model_module": "@jupyter-widgets/controls",
          "model_name": "HTMLModel",
          "model_module_version": "1.5.0",
          "state": {
            "_dom_classes": [],
            "_model_module": "@jupyter-widgets/controls",
            "_model_module_version": "1.5.0",
            "_model_name": "HTMLModel",
            "_view_count": null,
            "_view_module": "@jupyter-widgets/controls",
            "_view_module_version": "1.5.0",
            "_view_name": "HTMLView",
            "description": "",
            "description_tooltip": null,
            "layout": "IPY_MODEL_3d9bc94d887b471e8bbb1d91c2dab521",
            "placeholder": "​",
            "style": "IPY_MODEL_68681773aad0410f8f0dff8fce76fcb7",
            "value": " 28/? [06:49&lt;00:00, 10.23s/it]"
          }
        },
        "814226a4f32042ae9a4ec75444ef4948": {
          "model_module": "@jupyter-widgets/base",
          "model_name": "LayoutModel",
          "model_module_version": "1.2.0",
          "state": {
            "_model_module": "@jupyter-widgets/base",
            "_model_module_version": "1.2.0",
            "_model_name": "LayoutModel",
            "_view_count": null,
            "_view_module": "@jupyter-widgets/base",
            "_view_module_version": "1.2.0",
            "_view_name": "LayoutView",
            "align_content": null,
            "align_items": null,
            "align_self": null,
            "border": null,
            "bottom": null,
            "display": null,
            "flex": null,
            "flex_flow": null,
            "grid_area": null,
            "grid_auto_columns": null,
            "grid_auto_flow": null,
            "grid_auto_rows": null,
            "grid_column": null,
            "grid_gap": null,
            "grid_row": null,
            "grid_template_areas": null,
            "grid_template_columns": null,
            "grid_template_rows": null,
            "height": null,
            "justify_content": null,
            "justify_items": null,
            "left": null,
            "margin": null,
            "max_height": null,
            "max_width": null,
            "min_height": null,
            "min_width": null,
            "object_fit": null,
            "object_position": null,
            "order": null,
            "overflow": null,
            "overflow_x": null,
            "overflow_y": null,
            "padding": null,
            "right": null,
            "top": null,
            "visibility": null,
            "width": null
          }
        },
        "e25fd877daec471e8ac6f7a627be2bcb": {
          "model_module": "@jupyter-widgets/base",
          "model_name": "LayoutModel",
          "model_module_version": "1.2.0",
          "state": {
            "_model_module": "@jupyter-widgets/base",
            "_model_module_version": "1.2.0",
            "_model_name": "LayoutModel",
            "_view_count": null,
            "_view_module": "@jupyter-widgets/base",
            "_view_module_version": "1.2.0",
            "_view_name": "LayoutView",
            "align_content": null,
            "align_items": null,
            "align_self": null,
            "border": null,
            "bottom": null,
            "display": null,
            "flex": null,
            "flex_flow": null,
            "grid_area": null,
            "grid_auto_columns": null,
            "grid_auto_flow": null,
            "grid_auto_rows": null,
            "grid_column": null,
            "grid_gap": null,
            "grid_row": null,
            "grid_template_areas": null,
            "grid_template_columns": null,
            "grid_template_rows": null,
            "height": null,
            "justify_content": null,
            "justify_items": null,
            "left": null,
            "margin": null,
            "max_height": null,
            "max_width": null,
            "min_height": null,
            "min_width": null,
            "object_fit": null,
            "object_position": null,
            "order": null,
            "overflow": null,
            "overflow_x": null,
            "overflow_y": null,
            "padding": null,
            "right": null,
            "top": null,
            "visibility": null,
            "width": null
          }
        },
        "674cf98e66fb43bd905ed5b3d52a1e17": {
          "model_module": "@jupyter-widgets/controls",
          "model_name": "DescriptionStyleModel",
          "model_module_version": "1.5.0",
          "state": {
            "_model_module": "@jupyter-widgets/controls",
            "_model_module_version": "1.5.0",
            "_model_name": "DescriptionStyleModel",
            "_view_count": null,
            "_view_module": "@jupyter-widgets/base",
            "_view_module_version": "1.2.0",
            "_view_name": "StyleView",
            "description_width": ""
          }
        },
        "fb58056386b9481f948004a023d567fd": {
          "model_module": "@jupyter-widgets/base",
          "model_name": "LayoutModel",
          "model_module_version": "1.2.0",
          "state": {
            "_model_module": "@jupyter-widgets/base",
            "_model_module_version": "1.2.0",
            "_model_name": "LayoutModel",
            "_view_count": null,
            "_view_module": "@jupyter-widgets/base",
            "_view_module_version": "1.2.0",
            "_view_name": "LayoutView",
            "align_content": null,
            "align_items": null,
            "align_self": null,
            "border": null,
            "bottom": null,
            "display": null,
            "flex": null,
            "flex_flow": null,
            "grid_area": null,
            "grid_auto_columns": null,
            "grid_auto_flow": null,
            "grid_auto_rows": null,
            "grid_column": null,
            "grid_gap": null,
            "grid_row": null,
            "grid_template_areas": null,
            "grid_template_columns": null,
            "grid_template_rows": null,
            "height": null,
            "justify_content": null,
            "justify_items": null,
            "left": null,
            "margin": null,
            "max_height": null,
            "max_width": null,
            "min_height": null,
            "min_width": null,
            "object_fit": null,
            "object_position": null,
            "order": null,
            "overflow": null,
            "overflow_x": null,
            "overflow_y": null,
            "padding": null,
            "right": null,
            "top": null,
            "visibility": null,
            "width": "20px"
          }
        },
        "3d9ecf64f9f34abc8854ffac9da7b699": {
          "model_module": "@jupyter-widgets/controls",
          "model_name": "ProgressStyleModel",
          "model_module_version": "1.5.0",
          "state": {
            "_model_module": "@jupyter-widgets/controls",
            "_model_module_version": "1.5.0",
            "_model_name": "ProgressStyleModel",
            "_view_count": null,
            "_view_module": "@jupyter-widgets/base",
            "_view_module_version": "1.2.0",
            "_view_name": "StyleView",
            "bar_color": null,
            "description_width": ""
          }
        },
        "3d9bc94d887b471e8bbb1d91c2dab521": {
          "model_module": "@jupyter-widgets/base",
          "model_name": "LayoutModel",
          "model_module_version": "1.2.0",
          "state": {
            "_model_module": "@jupyter-widgets/base",
            "_model_module_version": "1.2.0",
            "_model_name": "LayoutModel",
            "_view_count": null,
            "_view_module": "@jupyter-widgets/base",
            "_view_module_version": "1.2.0",
            "_view_name": "LayoutView",
            "align_content": null,
            "align_items": null,
            "align_self": null,
            "border": null,
            "bottom": null,
            "display": null,
            "flex": null,
            "flex_flow": null,
            "grid_area": null,
            "grid_auto_columns": null,
            "grid_auto_flow": null,
            "grid_auto_rows": null,
            "grid_column": null,
            "grid_gap": null,
            "grid_row": null,
            "grid_template_areas": null,
            "grid_template_columns": null,
            "grid_template_rows": null,
            "height": null,
            "justify_content": null,
            "justify_items": null,
            "left": null,
            "margin": null,
            "max_height": null,
            "max_width": null,
            "min_height": null,
            "min_width": null,
            "object_fit": null,
            "object_position": null,
            "order": null,
            "overflow": null,
            "overflow_x": null,
            "overflow_y": null,
            "padding": null,
            "right": null,
            "top": null,
            "visibility": null,
            "width": null
          }
        },
        "68681773aad0410f8f0dff8fce76fcb7": {
          "model_module": "@jupyter-widgets/controls",
          "model_name": "DescriptionStyleModel",
          "model_module_version": "1.5.0",
          "state": {
            "_model_module": "@jupyter-widgets/controls",
            "_model_module_version": "1.5.0",
            "_model_name": "DescriptionStyleModel",
            "_view_count": null,
            "_view_module": "@jupyter-widgets/base",
            "_view_module_version": "1.2.0",
            "_view_name": "StyleView",
            "description_width": ""
          }
        },
        "a0ec56e9e9df48028b5dac299cd01019": {
          "model_module": "@jupyter-widgets/controls",
          "model_name": "HBoxModel",
          "model_module_version": "1.5.0",
          "state": {
            "_dom_classes": [],
            "_model_module": "@jupyter-widgets/controls",
            "_model_module_version": "1.5.0",
            "_model_name": "HBoxModel",
            "_view_count": null,
            "_view_module": "@jupyter-widgets/controls",
            "_view_module_version": "1.5.0",
            "_view_name": "HBoxView",
            "box_style": "",
            "children": [
              "IPY_MODEL_486b3e250a5d4f1da5ee21378da9fd46",
              "IPY_MODEL_1ae1141127ad440ebd1d83c0f309139c",
              "IPY_MODEL_0e78d99b93804aad83ce1da312c30fc0"
            ],
            "layout": "IPY_MODEL_016a7e31051c4712af0f0839b70a2933"
          }
        },
        "486b3e250a5d4f1da5ee21378da9fd46": {
          "model_module": "@jupyter-widgets/controls",
          "model_name": "HTMLModel",
          "model_module_version": "1.5.0",
          "state": {
            "_dom_classes": [],
            "_model_module": "@jupyter-widgets/controls",
            "_model_module_version": "1.5.0",
            "_model_name": "HTMLModel",
            "_view_count": null,
            "_view_module": "@jupyter-widgets/controls",
            "_view_module_version": "1.5.0",
            "_view_name": "HTMLView",
            "description": "",
            "description_tooltip": null,
            "layout": "IPY_MODEL_1f2a64e9bf90438dae610f5c587a8cfc",
            "placeholder": "​",
            "style": "IPY_MODEL_cac01bbe99c74a2f9465fae8d14b1d12",
            "value": "Loading molecular descriptors: "
          }
        },
        "1ae1141127ad440ebd1d83c0f309139c": {
          "model_module": "@jupyter-widgets/controls",
          "model_name": "FloatProgressModel",
          "model_module_version": "1.5.0",
          "state": {
            "_dom_classes": [],
            "_model_module": "@jupyter-widgets/controls",
            "_model_module_version": "1.5.0",
            "_model_name": "FloatProgressModel",
            "_view_count": null,
            "_view_module": "@jupyter-widgets/controls",
            "_view_module_version": "1.5.0",
            "_view_name": "ProgressView",
            "bar_style": "success",
            "description": "",
            "description_tooltip": null,
            "layout": "IPY_MODEL_2cf6ca6d54814f6fba119201eae039c8",
            "max": 1,
            "min": 0,
            "orientation": "horizontal",
            "style": "IPY_MODEL_45f086f3e5e244a7b01bc870fa1b2241",
            "value": 1
          }
        },
        "0e78d99b93804aad83ce1da312c30fc0": {
          "model_module": "@jupyter-widgets/controls",
          "model_name": "HTMLModel",
          "model_module_version": "1.5.0",
          "state": {
            "_dom_classes": [],
            "_model_module": "@jupyter-widgets/controls",
            "_model_module_version": "1.5.0",
            "_model_name": "HTMLModel",
            "_view_count": null,
            "_view_module": "@jupyter-widgets/controls",
            "_view_module_version": "1.5.0",
            "_view_name": "HTMLView",
            "description": "",
            "description_tooltip": null,
            "layout": "IPY_MODEL_d9ad16745aa543a3ba8b133b1c8fef78",
            "placeholder": "​",
            "style": "IPY_MODEL_dd6a26799cf94e878f7839e77fa4f1f2",
            "value": " 28/? [06:49&lt;00:00, 10.23s/it]"
          }
        },
        "016a7e31051c4712af0f0839b70a2933": {
          "model_module": "@jupyter-widgets/base",
          "model_name": "LayoutModel",
          "model_module_version": "1.2.0",
          "state": {
            "_model_module": "@jupyter-widgets/base",
            "_model_module_version": "1.2.0",
            "_model_name": "LayoutModel",
            "_view_count": null,
            "_view_module": "@jupyter-widgets/base",
            "_view_module_version": "1.2.0",
            "_view_name": "LayoutView",
            "align_content": null,
            "align_items": null,
            "align_self": null,
            "border": null,
            "bottom": null,
            "display": null,
            "flex": null,
            "flex_flow": null,
            "grid_area": null,
            "grid_auto_columns": null,
            "grid_auto_flow": null,
            "grid_auto_rows": null,
            "grid_column": null,
            "grid_gap": null,
            "grid_row": null,
            "grid_template_areas": null,
            "grid_template_columns": null,
            "grid_template_rows": null,
            "height": null,
            "justify_content": null,
            "justify_items": null,
            "left": null,
            "margin": null,
            "max_height": null,
            "max_width": null,
            "min_height": null,
            "min_width": null,
            "object_fit": null,
            "object_position": null,
            "order": null,
            "overflow": null,
            "overflow_x": null,
            "overflow_y": null,
            "padding": null,
            "right": null,
            "top": null,
            "visibility": null,
            "width": null
          }
        },
        "1f2a64e9bf90438dae610f5c587a8cfc": {
          "model_module": "@jupyter-widgets/base",
          "model_name": "LayoutModel",
          "model_module_version": "1.2.0",
          "state": {
            "_model_module": "@jupyter-widgets/base",
            "_model_module_version": "1.2.0",
            "_model_name": "LayoutModel",
            "_view_count": null,
            "_view_module": "@jupyter-widgets/base",
            "_view_module_version": "1.2.0",
            "_view_name": "LayoutView",
            "align_content": null,
            "align_items": null,
            "align_self": null,
            "border": null,
            "bottom": null,
            "display": null,
            "flex": null,
            "flex_flow": null,
            "grid_area": null,
            "grid_auto_columns": null,
            "grid_auto_flow": null,
            "grid_auto_rows": null,
            "grid_column": null,
            "grid_gap": null,
            "grid_row": null,
            "grid_template_areas": null,
            "grid_template_columns": null,
            "grid_template_rows": null,
            "height": null,
            "justify_content": null,
            "justify_items": null,
            "left": null,
            "margin": null,
            "max_height": null,
            "max_width": null,
            "min_height": null,
            "min_width": null,
            "object_fit": null,
            "object_position": null,
            "order": null,
            "overflow": null,
            "overflow_x": null,
            "overflow_y": null,
            "padding": null,
            "right": null,
            "top": null,
            "visibility": null,
            "width": null
          }
        },
        "cac01bbe99c74a2f9465fae8d14b1d12": {
          "model_module": "@jupyter-widgets/controls",
          "model_name": "DescriptionStyleModel",
          "model_module_version": "1.5.0",
          "state": {
            "_model_module": "@jupyter-widgets/controls",
            "_model_module_version": "1.5.0",
            "_model_name": "DescriptionStyleModel",
            "_view_count": null,
            "_view_module": "@jupyter-widgets/base",
            "_view_module_version": "1.2.0",
            "_view_name": "StyleView",
            "description_width": ""
          }
        },
        "2cf6ca6d54814f6fba119201eae039c8": {
          "model_module": "@jupyter-widgets/base",
          "model_name": "LayoutModel",
          "model_module_version": "1.2.0",
          "state": {
            "_model_module": "@jupyter-widgets/base",
            "_model_module_version": "1.2.0",
            "_model_name": "LayoutModel",
            "_view_count": null,
            "_view_module": "@jupyter-widgets/base",
            "_view_module_version": "1.2.0",
            "_view_name": "LayoutView",
            "align_content": null,
            "align_items": null,
            "align_self": null,
            "border": null,
            "bottom": null,
            "display": null,
            "flex": null,
            "flex_flow": null,
            "grid_area": null,
            "grid_auto_columns": null,
            "grid_auto_flow": null,
            "grid_auto_rows": null,
            "grid_column": null,
            "grid_gap": null,
            "grid_row": null,
            "grid_template_areas": null,
            "grid_template_columns": null,
            "grid_template_rows": null,
            "height": null,
            "justify_content": null,
            "justify_items": null,
            "left": null,
            "margin": null,
            "max_height": null,
            "max_width": null,
            "min_height": null,
            "min_width": null,
            "object_fit": null,
            "object_position": null,
            "order": null,
            "overflow": null,
            "overflow_x": null,
            "overflow_y": null,
            "padding": null,
            "right": null,
            "top": null,
            "visibility": null,
            "width": "20px"
          }
        },
        "45f086f3e5e244a7b01bc870fa1b2241": {
          "model_module": "@jupyter-widgets/controls",
          "model_name": "ProgressStyleModel",
          "model_module_version": "1.5.0",
          "state": {
            "_model_module": "@jupyter-widgets/controls",
            "_model_module_version": "1.5.0",
            "_model_name": "ProgressStyleModel",
            "_view_count": null,
            "_view_module": "@jupyter-widgets/base",
            "_view_module_version": "1.2.0",
            "_view_name": "StyleView",
            "bar_color": null,
            "description_width": ""
          }
        },
        "d9ad16745aa543a3ba8b133b1c8fef78": {
          "model_module": "@jupyter-widgets/base",
          "model_name": "LayoutModel",
          "model_module_version": "1.2.0",
          "state": {
            "_model_module": "@jupyter-widgets/base",
            "_model_module_version": "1.2.0",
            "_model_name": "LayoutModel",
            "_view_count": null,
            "_view_module": "@jupyter-widgets/base",
            "_view_module_version": "1.2.0",
            "_view_name": "LayoutView",
            "align_content": null,
            "align_items": null,
            "align_self": null,
            "border": null,
            "bottom": null,
            "display": null,
            "flex": null,
            "flex_flow": null,
            "grid_area": null,
            "grid_auto_columns": null,
            "grid_auto_flow": null,
            "grid_auto_rows": null,
            "grid_column": null,
            "grid_gap": null,
            "grid_row": null,
            "grid_template_areas": null,
            "grid_template_columns": null,
            "grid_template_rows": null,
            "height": null,
            "justify_content": null,
            "justify_items": null,
            "left": null,
            "margin": null,
            "max_height": null,
            "max_width": null,
            "min_height": null,
            "min_width": null,
            "object_fit": null,
            "object_position": null,
            "order": null,
            "overflow": null,
            "overflow_x": null,
            "overflow_y": null,
            "padding": null,
            "right": null,
            "top": null,
            "visibility": null,
            "width": null
          }
        },
        "dd6a26799cf94e878f7839e77fa4f1f2": {
          "model_module": "@jupyter-widgets/controls",
          "model_name": "DescriptionStyleModel",
          "model_module_version": "1.5.0",
          "state": {
            "_model_module": "@jupyter-widgets/controls",
            "_model_module_version": "1.5.0",
            "_model_name": "DescriptionStyleModel",
            "_view_count": null,
            "_view_module": "@jupyter-widgets/base",
            "_view_module_version": "1.2.0",
            "_view_name": "StyleView",
            "description_width": ""
          }
        },
        "c59fe1b369dd4e05a900b2b52c90d819": {
          "model_module": "@jupyter-widgets/controls",
          "model_name": "HBoxModel",
          "model_module_version": "1.5.0",
          "state": {
            "_dom_classes": [],
            "_model_module": "@jupyter-widgets/controls",
            "_model_module_version": "1.5.0",
            "_model_name": "HBoxModel",
            "_view_count": null,
            "_view_module": "@jupyter-widgets/controls",
            "_view_module_version": "1.5.0",
            "_view_name": "HBoxView",
            "box_style": "",
            "children": [
              "IPY_MODEL_cc21646b9ca04ce3b8bba918e9c3ee43",
              "IPY_MODEL_3eaafdfbd7fb48f38f48012cb581852d",
              "IPY_MODEL_00bcfe54fbeb4ff0bbe85cacba719d3f"
            ],
            "layout": "IPY_MODEL_830ada1b324743e489b53ea5f7cc64c8"
          }
        },
        "cc21646b9ca04ce3b8bba918e9c3ee43": {
          "model_module": "@jupyter-widgets/controls",
          "model_name": "HTMLModel",
          "model_module_version": "1.5.0",
          "state": {
            "_dom_classes": [],
            "_model_module": "@jupyter-widgets/controls",
            "_model_module_version": "1.5.0",
            "_model_name": "HTMLModel",
            "_view_count": null,
            "_view_module": "@jupyter-widgets/controls",
            "_view_module_version": "1.5.0",
            "_view_name": "HTMLView",
            "description": "",
            "description_tooltip": null,
            "layout": "IPY_MODEL_84ecb605c9e24058978c0073a5cabd80",
            "placeholder": "​",
            "style": "IPY_MODEL_56547c37b1324d55b2f768d12d0b941f",
            "value": "Building QSAR for target: P01116_WT #datapoints 34:   0%"
          }
        },
        "3eaafdfbd7fb48f38f48012cb581852d": {
          "model_module": "@jupyter-widgets/controls",
          "model_name": "FloatProgressModel",
          "model_module_version": "1.5.0",
          "state": {
            "_dom_classes": [],
            "_model_module": "@jupyter-widgets/controls",
            "_model_module_version": "1.5.0",
            "_model_name": "FloatProgressModel",
            "_view_count": null,
            "_view_module": "@jupyter-widgets/controls",
            "_view_module_version": "1.5.0",
            "_view_name": "ProgressView",
            "bar_style": "",
            "description": "",
            "description_tooltip": null,
            "layout": "IPY_MODEL_90cbad0a322449d6ac9cceb5fff49ab1",
            "max": 1,
            "min": 0,
            "orientation": "horizontal",
            "style": "IPY_MODEL_74992fd50aeb4f688c028c941a19ddd2",
            "value": 0
          }
        },
        "00bcfe54fbeb4ff0bbe85cacba719d3f": {
          "model_module": "@jupyter-widgets/controls",
          "model_name": "HTMLModel",
          "model_module_version": "1.5.0",
          "state": {
            "_dom_classes": [],
            "_model_module": "@jupyter-widgets/controls",
            "_model_module_version": "1.5.0",
            "_model_name": "HTMLModel",
            "_view_count": null,
            "_view_module": "@jupyter-widgets/controls",
            "_view_module_version": "1.5.0",
            "_view_name": "HTMLView",
            "description": "",
            "description_tooltip": null,
            "layout": "IPY_MODEL_4dd3ebcb096844f087d53924cdb32df0",
            "placeholder": "​",
            "style": "IPY_MODEL_e59e694da2044603b0b1ada5d2fa8abb",
            "value": " 0/1 [00:00&lt;?, ?it/s]"
          }
        },
        "830ada1b324743e489b53ea5f7cc64c8": {
          "model_module": "@jupyter-widgets/base",
          "model_name": "LayoutModel",
          "model_module_version": "1.2.0",
          "state": {
            "_model_module": "@jupyter-widgets/base",
            "_model_module_version": "1.2.0",
            "_model_name": "LayoutModel",
            "_view_count": null,
            "_view_module": "@jupyter-widgets/base",
            "_view_module_version": "1.2.0",
            "_view_name": "LayoutView",
            "align_content": null,
            "align_items": null,
            "align_self": null,
            "border": null,
            "bottom": null,
            "display": null,
            "flex": null,
            "flex_flow": null,
            "grid_area": null,
            "grid_auto_columns": null,
            "grid_auto_flow": null,
            "grid_auto_rows": null,
            "grid_column": null,
            "grid_gap": null,
            "grid_row": null,
            "grid_template_areas": null,
            "grid_template_columns": null,
            "grid_template_rows": null,
            "height": null,
            "justify_content": null,
            "justify_items": null,
            "left": null,
            "margin": null,
            "max_height": null,
            "max_width": null,
            "min_height": null,
            "min_width": null,
            "object_fit": null,
            "object_position": null,
            "order": null,
            "overflow": null,
            "overflow_x": null,
            "overflow_y": null,
            "padding": null,
            "right": null,
            "top": null,
            "visibility": null,
            "width": null
          }
        },
        "84ecb605c9e24058978c0073a5cabd80": {
          "model_module": "@jupyter-widgets/base",
          "model_name": "LayoutModel",
          "model_module_version": "1.2.0",
          "state": {
            "_model_module": "@jupyter-widgets/base",
            "_model_module_version": "1.2.0",
            "_model_name": "LayoutModel",
            "_view_count": null,
            "_view_module": "@jupyter-widgets/base",
            "_view_module_version": "1.2.0",
            "_view_name": "LayoutView",
            "align_content": null,
            "align_items": null,
            "align_self": null,
            "border": null,
            "bottom": null,
            "display": null,
            "flex": null,
            "flex_flow": null,
            "grid_area": null,
            "grid_auto_columns": null,
            "grid_auto_flow": null,
            "grid_auto_rows": null,
            "grid_column": null,
            "grid_gap": null,
            "grid_row": null,
            "grid_template_areas": null,
            "grid_template_columns": null,
            "grid_template_rows": null,
            "height": null,
            "justify_content": null,
            "justify_items": null,
            "left": null,
            "margin": null,
            "max_height": null,
            "max_width": null,
            "min_height": null,
            "min_width": null,
            "object_fit": null,
            "object_position": null,
            "order": null,
            "overflow": null,
            "overflow_x": null,
            "overflow_y": null,
            "padding": null,
            "right": null,
            "top": null,
            "visibility": null,
            "width": null
          }
        },
        "56547c37b1324d55b2f768d12d0b941f": {
          "model_module": "@jupyter-widgets/controls",
          "model_name": "DescriptionStyleModel",
          "model_module_version": "1.5.0",
          "state": {
            "_model_module": "@jupyter-widgets/controls",
            "_model_module_version": "1.5.0",
            "_model_name": "DescriptionStyleModel",
            "_view_count": null,
            "_view_module": "@jupyter-widgets/base",
            "_view_module_version": "1.2.0",
            "_view_name": "StyleView",
            "description_width": ""
          }
        },
        "90cbad0a322449d6ac9cceb5fff49ab1": {
          "model_module": "@jupyter-widgets/base",
          "model_name": "LayoutModel",
          "model_module_version": "1.2.0",
          "state": {
            "_model_module": "@jupyter-widgets/base",
            "_model_module_version": "1.2.0",
            "_model_name": "LayoutModel",
            "_view_count": null,
            "_view_module": "@jupyter-widgets/base",
            "_view_module_version": "1.2.0",
            "_view_name": "LayoutView",
            "align_content": null,
            "align_items": null,
            "align_self": null,
            "border": null,
            "bottom": null,
            "display": null,
            "flex": null,
            "flex_flow": null,
            "grid_area": null,
            "grid_auto_columns": null,
            "grid_auto_flow": null,
            "grid_auto_rows": null,
            "grid_column": null,
            "grid_gap": null,
            "grid_row": null,
            "grid_template_areas": null,
            "grid_template_columns": null,
            "grid_template_rows": null,
            "height": null,
            "justify_content": null,
            "justify_items": null,
            "left": null,
            "margin": null,
            "max_height": null,
            "max_width": null,
            "min_height": null,
            "min_width": null,
            "object_fit": null,
            "object_position": null,
            "order": null,
            "overflow": null,
            "overflow_x": null,
            "overflow_y": null,
            "padding": null,
            "right": null,
            "top": null,
            "visibility": null,
            "width": null
          }
        },
        "74992fd50aeb4f688c028c941a19ddd2": {
          "model_module": "@jupyter-widgets/controls",
          "model_name": "ProgressStyleModel",
          "model_module_version": "1.5.0",
          "state": {
            "_model_module": "@jupyter-widgets/controls",
            "_model_module_version": "1.5.0",
            "_model_name": "ProgressStyleModel",
            "_view_count": null,
            "_view_module": "@jupyter-widgets/base",
            "_view_module_version": "1.2.0",
            "_view_name": "StyleView",
            "bar_color": null,
            "description_width": ""
          }
        },
        "4dd3ebcb096844f087d53924cdb32df0": {
          "model_module": "@jupyter-widgets/base",
          "model_name": "LayoutModel",
          "model_module_version": "1.2.0",
          "state": {
            "_model_module": "@jupyter-widgets/base",
            "_model_module_version": "1.2.0",
            "_model_name": "LayoutModel",
            "_view_count": null,
            "_view_module": "@jupyter-widgets/base",
            "_view_module_version": "1.2.0",
            "_view_name": "LayoutView",
            "align_content": null,
            "align_items": null,
            "align_self": null,
            "border": null,
            "bottom": null,
            "display": null,
            "flex": null,
            "flex_flow": null,
            "grid_area": null,
            "grid_auto_columns": null,
            "grid_auto_flow": null,
            "grid_auto_rows": null,
            "grid_column": null,
            "grid_gap": null,
            "grid_row": null,
            "grid_template_areas": null,
            "grid_template_columns": null,
            "grid_template_rows": null,
            "height": null,
            "justify_content": null,
            "justify_items": null,
            "left": null,
            "margin": null,
            "max_height": null,
            "max_width": null,
            "min_height": null,
            "min_width": null,
            "object_fit": null,
            "object_position": null,
            "order": null,
            "overflow": null,
            "overflow_x": null,
            "overflow_y": null,
            "padding": null,
            "right": null,
            "top": null,
            "visibility": null,
            "width": null
          }
        },
        "e59e694da2044603b0b1ada5d2fa8abb": {
          "model_module": "@jupyter-widgets/controls",
          "model_name": "DescriptionStyleModel",
          "model_module_version": "1.5.0",
          "state": {
            "_model_module": "@jupyter-widgets/controls",
            "_model_module_version": "1.5.0",
            "_model_name": "DescriptionStyleModel",
            "_view_count": null,
            "_view_module": "@jupyter-widgets/base",
            "_view_module_version": "1.2.0",
            "_view_name": "StyleView",
            "description_width": ""
          }
        }
      }
    }
  },
  "nbformat": 4,
  "nbformat_minor": 0
}